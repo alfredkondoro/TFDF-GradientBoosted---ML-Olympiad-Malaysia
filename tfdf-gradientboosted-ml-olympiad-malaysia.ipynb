{
 "cells": [
  {
   "cell_type": "code",
   "execution_count": 1,
   "id": "8ed7d50d",
   "metadata": {
    "_cell_guid": "b1076dfc-b9ad-4769-8c92-a6c4dae69d19",
    "_uuid": "8f2839f25d086af736a60e9eeb907d3b93b6e0e5",
    "execution": {
     "iopub.execute_input": "2024-03-31T18:11:02.552751Z",
     "iopub.status.busy": "2024-03-31T18:11:02.552322Z",
     "iopub.status.idle": "2024-03-31T18:11:03.535486Z",
     "shell.execute_reply": "2024-03-31T18:11:03.534554Z"
    },
    "papermill": {
     "duration": 0.999258,
     "end_time": "2024-03-31T18:11:03.537955",
     "exception": false,
     "start_time": "2024-03-31T18:11:02.538697",
     "status": "completed"
    },
    "tags": []
   },
   "outputs": [],
   "source": [
    "import numpy as np\n",
    "import pandas as pd\n",
    "\n",
    "import warnings\n",
    "warnings.simplefilter(action='ignore', category=FutureWarning)"
   ]
  },
  {
   "cell_type": "code",
   "execution_count": 2,
   "id": "ac8acfe8",
   "metadata": {
    "execution": {
     "iopub.execute_input": "2024-03-31T18:11:03.555852Z",
     "iopub.status.busy": "2024-03-31T18:11:03.554558Z",
     "iopub.status.idle": "2024-03-31T18:11:03.956714Z",
     "shell.execute_reply": "2024-03-31T18:11:03.955477Z"
    },
    "papermill": {
     "duration": 0.414212,
     "end_time": "2024-03-31T18:11:03.959603",
     "exception": false,
     "start_time": "2024-03-31T18:11:03.545391",
     "status": "completed"
    },
    "tags": []
   },
   "outputs": [],
   "source": [
    "train = pd.read_csv('/kaggle/input/ml-olympiad-ai-ml-malaysia/train.csv')\n",
    "test = pd.read_csv('/kaggle/input/ml-olympiad-ai-ml-malaysia/test.csv')\n",
    "submit = pd.read_csv('/kaggle/input/ml-olympiad-ai-ml-malaysia/sample_submission.csv')"
   ]
  },
  {
   "cell_type": "code",
   "execution_count": 3,
   "id": "84ab0977",
   "metadata": {
    "execution": {
     "iopub.execute_input": "2024-03-31T18:11:03.975624Z",
     "iopub.status.busy": "2024-03-31T18:11:03.974823Z",
     "iopub.status.idle": "2024-03-31T18:11:04.014759Z",
     "shell.execute_reply": "2024-03-31T18:11:04.013560Z"
    },
    "papermill": {
     "duration": 0.050494,
     "end_time": "2024-03-31T18:11:04.017228",
     "exception": false,
     "start_time": "2024-03-31T18:11:03.966734",
     "status": "completed"
    },
    "tags": []
   },
   "outputs": [
    {
     "name": "stdout",
     "output_type": "stream",
     "text": [
      "<class 'pandas.core.frame.DataFrame'>\n",
      "RangeIndex: 55760 entries, 0 to 55759\n",
      "Data columns (total 21 columns):\n",
      " #   Column  Non-Null Count  Dtype  \n",
      "---  ------  --------------  -----  \n",
      " 0   id      55760 non-null  int64  \n",
      " 1   02      55760 non-null  int64  \n",
      " 2   03      55752 non-null  object \n",
      " 3   04      55760 non-null  object \n",
      " 4   05      55760 non-null  int64  \n",
      " 5   06      55102 non-null  float64\n",
      " 6   07      55760 non-null  int64  \n",
      " 7   08      52567 non-null  float64\n",
      " 8   09      52336 non-null  float64\n",
      " 9   10      55760 non-null  float64\n",
      " 10  11      55760 non-null  int64  \n",
      " 11  12      48289 non-null  float64\n",
      " 12  13      55760 non-null  int64  \n",
      " 13  14      55760 non-null  int64  \n",
      " 14  15      55760 non-null  int64  \n",
      " 15  16      55719 non-null  float64\n",
      " 16  17      33629 non-null  float64\n",
      " 17  18      33629 non-null  float64\n",
      " 18  19      17819 non-null  float64\n",
      " 19  20      55719 non-null  float64\n",
      " 20  class   55760 non-null  int64  \n",
      "dtypes: float64(10), int64(9), object(2)\n",
      "memory usage: 8.9+ MB\n"
     ]
    }
   ],
   "source": [
    "train.info()"
   ]
  },
  {
   "cell_type": "code",
   "execution_count": 4,
   "id": "91b21472",
   "metadata": {
    "execution": {
     "iopub.execute_input": "2024-03-31T18:11:04.032965Z",
     "iopub.status.busy": "2024-03-31T18:11:04.032588Z",
     "iopub.status.idle": "2024-03-31T18:11:04.044000Z",
     "shell.execute_reply": "2024-03-31T18:11:04.042773Z"
    },
    "papermill": {
     "duration": 0.022338,
     "end_time": "2024-03-31T18:11:04.046544",
     "exception": false,
     "start_time": "2024-03-31T18:11:04.024206",
     "status": "completed"
    },
    "tags": []
   },
   "outputs": [
    {
     "data": {
      "text/plain": [
       "array([0, 1])"
      ]
     },
     "execution_count": 4,
     "metadata": {},
     "output_type": "execute_result"
    }
   ],
   "source": [
    "train['class'].unique()"
   ]
  },
  {
   "cell_type": "code",
   "execution_count": 5,
   "id": "210370d9",
   "metadata": {
    "execution": {
     "iopub.execute_input": "2024-03-31T18:11:04.063663Z",
     "iopub.status.busy": "2024-03-31T18:11:04.062783Z",
     "iopub.status.idle": "2024-03-31T18:11:04.072108Z",
     "shell.execute_reply": "2024-03-31T18:11:04.071263Z"
    },
    "papermill": {
     "duration": 0.020105,
     "end_time": "2024-03-31T18:11:04.074140",
     "exception": false,
     "start_time": "2024-03-31T18:11:04.054035",
     "status": "completed"
    },
    "tags": []
   },
   "outputs": [
    {
     "data": {
      "text/plain": [
       "class\n",
       "0    54916\n",
       "1      844\n",
       "Name: count, dtype: int64"
      ]
     },
     "execution_count": 5,
     "metadata": {},
     "output_type": "execute_result"
    }
   ],
   "source": [
    "train['class'].value_counts()"
   ]
  },
  {
   "cell_type": "code",
   "execution_count": 6,
   "id": "c4a4e7cf",
   "metadata": {
    "execution": {
     "iopub.execute_input": "2024-03-31T18:11:04.090474Z",
     "iopub.status.busy": "2024-03-31T18:11:04.089802Z",
     "iopub.status.idle": "2024-03-31T18:11:04.103322Z",
     "shell.execute_reply": "2024-03-31T18:11:04.102248Z"
    },
    "papermill": {
     "duration": 0.024764,
     "end_time": "2024-03-31T18:11:04.105904",
     "exception": false,
     "start_time": "2024-03-31T18:11:04.081140",
     "status": "completed"
    },
    "tags": []
   },
   "outputs": [
    {
     "name": "stdout",
     "output_type": "stream",
     "text": [
      "<class 'pandas.core.frame.DataFrame'>\n",
      "RangeIndex: 13940 entries, 0 to 13939\n",
      "Data columns (total 20 columns):\n",
      " #   Column  Non-Null Count  Dtype  \n",
      "---  ------  --------------  -----  \n",
      " 0   id      13940 non-null  int64  \n",
      " 1   02      13940 non-null  int64  \n",
      " 2   03      13933 non-null  object \n",
      " 3   04      13940 non-null  object \n",
      " 4   05      13940 non-null  int64  \n",
      " 5   06      13784 non-null  float64\n",
      " 6   07      13940 non-null  int64  \n",
      " 7   08      13115 non-null  float64\n",
      " 8   09      13066 non-null  float64\n",
      " 9   10      13940 non-null  float64\n",
      " 10  11      13940 non-null  int64  \n",
      " 11  12      12023 non-null  float64\n",
      " 12  13      13940 non-null  int64  \n",
      " 13  14      13940 non-null  int64  \n",
      " 14  15      13940 non-null  int64  \n",
      " 15  16      13930 non-null  float64\n",
      " 16  17      8366 non-null   float64\n",
      " 17  18      8366 non-null   float64\n",
      " 18  19      4452 non-null   float64\n",
      " 19  20      13930 non-null  float64\n",
      "dtypes: float64(10), int64(8), object(2)\n",
      "memory usage: 2.1+ MB\n"
     ]
    }
   ],
   "source": [
    "test.info()"
   ]
  },
  {
   "cell_type": "markdown",
   "id": "d3135c09",
   "metadata": {
    "papermill": {
     "duration": 0.006842,
     "end_time": "2024-03-31T18:11:04.119801",
     "exception": false,
     "start_time": "2024-03-31T18:11:04.112959",
     "status": "completed"
    },
    "tags": []
   },
   "source": [
    "## FEATURE ENGINEERING"
   ]
  },
  {
   "cell_type": "code",
   "execution_count": 7,
   "id": "03b8e91a",
   "metadata": {
    "execution": {
     "iopub.execute_input": "2024-03-31T18:11:04.137365Z",
     "iopub.status.busy": "2024-03-31T18:11:04.136951Z",
     "iopub.status.idle": "2024-03-31T18:11:04.177955Z",
     "shell.execute_reply": "2024-03-31T18:11:04.176768Z"
    },
    "papermill": {
     "duration": 0.053616,
     "end_time": "2024-03-31T18:11:04.180509",
     "exception": false,
     "start_time": "2024-03-31T18:11:04.126893",
     "status": "completed"
    },
    "tags": []
   },
   "outputs": [],
   "source": [
    "cols_to_impute = ['06', '08', '09', '12', '16', '17', '18', '19', '20']\n",
    "\n",
    "def impute_dataset(df):\n",
    "    for column in cols_to_impute:\n",
    "        median_value = int(df[column].median())\n",
    "        df[column].fillna(median_value, inplace=True)    \n",
    "    #for the date\n",
    "    mode_value = df[column].mode()[0]\n",
    "    df['03'].fillna(mode_value, inplace=True)\n",
    "\n",
    "impute_dataset(train)\n",
    "impute_dataset(test)"
   ]
  },
  {
   "cell_type": "code",
   "execution_count": 8,
   "id": "553f78aa",
   "metadata": {
    "execution": {
     "iopub.execute_input": "2024-03-31T18:11:04.197300Z",
     "iopub.status.busy": "2024-03-31T18:11:04.196908Z",
     "iopub.status.idle": "2024-03-31T18:11:04.302166Z",
     "shell.execute_reply": "2024-03-31T18:11:04.300918Z"
    },
    "papermill": {
     "duration": 0.116669,
     "end_time": "2024-03-31T18:11:04.304789",
     "exception": false,
     "start_time": "2024-03-31T18:11:04.188120",
     "status": "completed"
    },
    "tags": []
   },
   "outputs": [],
   "source": [
    "def date_features(df):\n",
    "    df['03'] = pd.to_datetime(df['03'], errors='coerce')\n",
    "    df['04'] = pd.to_datetime(df['04'], errors='coerce')\n",
    "\n",
    "    df['dob_year'] = df['03'].dt.year\n",
    "    df['dob_month'] = df['03'].dt.month\n",
    "    df['dob_day'] = df['03'].dt.day\n",
    "    df['dob_dayofweek'] = df['03'].dt.dayofweek\n",
    "    df['dob_quarter'] = df['03'].dt.quarter\n",
    "\n",
    "    df['lead_year'] = df['04'].dt.year\n",
    "    df['lead_month'] = df['04'].dt.month\n",
    "    df['lead_day'] = df['04'].dt.day\n",
    "    df['lead_dayofweek'] = df['04'].dt.dayofweek\n",
    "    df['lead_quarter'] = df['04'].dt.quarter\n",
    "\n",
    "    # Calculate the age of the applicant at the time of lead creation based on the date of birth\n",
    "    df['age_at_lead_creation'] = df['04'].dt.year - df['03'].dt.year\n",
    "    \n",
    "date_features(train)    \n",
    "date_features(test)"
   ]
  },
  {
   "cell_type": "code",
   "execution_count": 9,
   "id": "9f3ac8d3",
   "metadata": {
    "execution": {
     "iopub.execute_input": "2024-03-31T18:11:04.321110Z",
     "iopub.status.busy": "2024-03-31T18:11:04.320716Z",
     "iopub.status.idle": "2024-03-31T18:11:04.348244Z",
     "shell.execute_reply": "2024-03-31T18:11:04.346863Z"
    },
    "papermill": {
     "duration": 0.038628,
     "end_time": "2024-03-31T18:11:04.350747",
     "exception": false,
     "start_time": "2024-03-31T18:11:04.312119",
     "status": "completed"
    },
    "tags": []
   },
   "outputs": [],
   "source": [
    "def numerical_features(df):\n",
    "    numcols = ['10', '16', '17', '18', '19', '20']\n",
    "    # Normalize numerical features to bring them to a similar scale\n",
    "    for col in numcols:\n",
    "        df[col + '_normalized'] = (df[col] - df[col].mean()) / df[col].std()\n",
    "\n",
    "    # Create additional numerical features(didn't work out as planned)\n",
    "    #df['loan_amt_to_monthly_income_ratio'] = df['17'] / df['10']\n",
    "    #df['loan_installment_to_monthly_income_ratio'] = df['20'] / df['10']\n",
    "    #df['loan_installment_to_installment_ratio'] = df['20'] / df['16']\n",
    "\n",
    "numerical_features(train)\n",
    "numerical_features(test)"
   ]
  },
  {
   "cell_type": "code",
   "execution_count": 10,
   "id": "d6763bf9",
   "metadata": {
    "execution": {
     "iopub.execute_input": "2024-03-31T18:11:04.367023Z",
     "iopub.status.busy": "2024-03-31T18:11:04.366624Z",
     "iopub.status.idle": "2024-03-31T18:11:04.453371Z",
     "shell.execute_reply": "2024-03-31T18:11:04.452230Z"
    },
    "papermill": {
     "duration": 0.098034,
     "end_time": "2024-03-31T18:11:04.456052",
     "exception": false,
     "start_time": "2024-03-31T18:11:04.358018",
     "status": "completed"
    },
    "tags": []
   },
   "outputs": [],
   "source": [
    "def feature_interaction(df):\n",
    "    df['employer_interaction'] = df['08'].astype(str) + '_' + df['09'].astype(str)\n",
    "\n",
    "feature_interaction(train)\n",
    "feature_interaction(test)"
   ]
  },
  {
   "cell_type": "code",
   "execution_count": 11,
   "id": "662641cd",
   "metadata": {
    "execution": {
     "iopub.execute_input": "2024-03-31T18:11:04.472375Z",
     "iopub.status.busy": "2024-03-31T18:11:04.471977Z",
     "iopub.status.idle": "2024-03-31T18:11:04.481309Z",
     "shell.execute_reply": "2024-03-31T18:11:04.480261Z"
    },
    "papermill": {
     "duration": 0.020299,
     "end_time": "2024-03-31T18:11:04.483614",
     "exception": false,
     "start_time": "2024-03-31T18:11:04.463315",
     "status": "completed"
    },
    "tags": []
   },
   "outputs": [],
   "source": [
    "def feature_derivation(df):\n",
    "    df['total_loan_amount'] = df['17'] * df['18']\n",
    "    df['total_interest_paid'] = df['19'] * df['17'] * df['18']\n",
    "\n",
    "feature_derivation(train)    \n",
    "feature_derivation(test)"
   ]
  },
  {
   "cell_type": "code",
   "execution_count": 12,
   "id": "48b758e7",
   "metadata": {
    "execution": {
     "iopub.execute_input": "2024-03-31T18:11:04.500185Z",
     "iopub.status.busy": "2024-03-31T18:11:04.499357Z",
     "iopub.status.idle": "2024-03-31T18:11:04.520203Z",
     "shell.execute_reply": "2024-03-31T18:11:04.518616Z"
    },
    "papermill": {
     "duration": 0.031855,
     "end_time": "2024-03-31T18:11:04.522675",
     "exception": false,
     "start_time": "2024-03-31T18:11:04.490820",
     "status": "completed"
    },
    "tags": []
   },
   "outputs": [
    {
     "name": "stdout",
     "output_type": "stream",
     "text": [
      "<class 'pandas.core.frame.DataFrame'>\n",
      "RangeIndex: 55760 entries, 0 to 55759\n",
      "Data columns (total 41 columns):\n",
      " #   Column                Non-Null Count  Dtype         \n",
      "---  ------                --------------  -----         \n",
      " 0   id                    55760 non-null  int64         \n",
      " 1   02                    55760 non-null  int64         \n",
      " 2   03                    55752 non-null  datetime64[ns]\n",
      " 3   04                    55760 non-null  datetime64[ns]\n",
      " 4   05                    55760 non-null  int64         \n",
      " 5   06                    55760 non-null  float64       \n",
      " 6   07                    55760 non-null  int64         \n",
      " 7   08                    55760 non-null  float64       \n",
      " 8   09                    55760 non-null  float64       \n",
      " 9   10                    55760 non-null  float64       \n",
      " 10  11                    55760 non-null  int64         \n",
      " 11  12                    55760 non-null  float64       \n",
      " 12  13                    55760 non-null  int64         \n",
      " 13  14                    55760 non-null  int64         \n",
      " 14  15                    55760 non-null  int64         \n",
      " 15  16                    55760 non-null  float64       \n",
      " 16  17                    55760 non-null  float64       \n",
      " 17  18                    55760 non-null  float64       \n",
      " 18  19                    55760 non-null  float64       \n",
      " 19  20                    55760 non-null  float64       \n",
      " 20  class                 55760 non-null  int64         \n",
      " 21  dob_year              55752 non-null  float64       \n",
      " 22  dob_month             55752 non-null  float64       \n",
      " 23  dob_day               55752 non-null  float64       \n",
      " 24  dob_dayofweek         55752 non-null  float64       \n",
      " 25  dob_quarter           55752 non-null  float64       \n",
      " 26  lead_year             55760 non-null  int32         \n",
      " 27  lead_month            55760 non-null  int32         \n",
      " 28  lead_day              55760 non-null  int32         \n",
      " 29  lead_dayofweek        55760 non-null  int32         \n",
      " 30  lead_quarter          55760 non-null  int32         \n",
      " 31  age_at_lead_creation  55752 non-null  float64       \n",
      " 32  10_normalized         55760 non-null  float64       \n",
      " 33  16_normalized         55760 non-null  float64       \n",
      " 34  17_normalized         55760 non-null  float64       \n",
      " 35  18_normalized         55760 non-null  float64       \n",
      " 36  19_normalized         55760 non-null  float64       \n",
      " 37  20_normalized         55760 non-null  float64       \n",
      " 38  employer_interaction  55760 non-null  object        \n",
      " 39  total_loan_amount     55760 non-null  float64       \n",
      " 40  total_interest_paid   55760 non-null  float64       \n",
      "dtypes: datetime64[ns](2), float64(24), int32(5), int64(9), object(1)\n",
      "memory usage: 16.4+ MB\n"
     ]
    }
   ],
   "source": [
    "train.info()"
   ]
  },
  {
   "cell_type": "code",
   "execution_count": 13,
   "id": "1e711751",
   "metadata": {
    "execution": {
     "iopub.execute_input": "2024-03-31T18:11:04.540219Z",
     "iopub.status.busy": "2024-03-31T18:11:04.539808Z",
     "iopub.status.idle": "2024-03-31T18:11:04.565755Z",
     "shell.execute_reply": "2024-03-31T18:11:04.564571Z"
    },
    "papermill": {
     "duration": 0.037935,
     "end_time": "2024-03-31T18:11:04.568539",
     "exception": false,
     "start_time": "2024-03-31T18:11:04.530604",
     "status": "completed"
    },
    "tags": []
   },
   "outputs": [],
   "source": [
    "train.drop(columns=['id', '03', '04', '11'], inplace=True)\n",
    "test.drop(columns=['id', '03', '04', '11'], inplace=True)"
   ]
  },
  {
   "cell_type": "code",
   "execution_count": 14,
   "id": "8e3f435c",
   "metadata": {
    "execution": {
     "iopub.execute_input": "2024-03-31T18:11:04.585739Z",
     "iopub.status.busy": "2024-03-31T18:11:04.584765Z",
     "iopub.status.idle": "2024-03-31T18:11:04.633157Z",
     "shell.execute_reply": "2024-03-31T18:11:04.632155Z"
    },
    "papermill": {
     "duration": 0.059723,
     "end_time": "2024-03-31T18:11:04.635856",
     "exception": false,
     "start_time": "2024-03-31T18:11:04.576133",
     "status": "completed"
    },
    "tags": []
   },
   "outputs": [],
   "source": [
    "def onehot_encode(df):\n",
    "    one_hot_encoded = pd.get_dummies(df['employer_interaction'], prefix='employer_interaction')\n",
    "    df = pd.concat([df, one_hot_encoded], axis=1)\n",
    "    df.drop('employer_interaction', axis=1, inplace=True)\n",
    "\n",
    "onehot_encode(train)\n",
    "onehot_encode(test)"
   ]
  },
  {
   "cell_type": "markdown",
   "id": "e1b5619f",
   "metadata": {
    "papermill": {
     "duration": 0.006932,
     "end_time": "2024-03-31T18:11:04.650689",
     "exception": false,
     "start_time": "2024-03-31T18:11:04.643757",
     "status": "completed"
    },
    "tags": []
   },
   "source": [
    "## AUTO ML"
   ]
  },
  {
   "cell_type": "code",
   "execution_count": 15,
   "id": "afc64acc",
   "metadata": {
    "execution": {
     "iopub.execute_input": "2024-03-31T18:11:04.667440Z",
     "iopub.status.busy": "2024-03-31T18:11:04.666497Z",
     "iopub.status.idle": "2024-03-31T18:11:19.666549Z",
     "shell.execute_reply": "2024-03-31T18:11:19.665030Z"
    },
    "papermill": {
     "duration": 15.011558,
     "end_time": "2024-03-31T18:11:19.669491",
     "exception": false,
     "start_time": "2024-03-31T18:11:04.657933",
     "status": "completed"
    },
    "tags": []
   },
   "outputs": [
    {
     "name": "stdout",
     "output_type": "stream",
     "text": [
      "Collecting flaml\r\n",
      "  Downloading FLAML-2.1.2-py3-none-any.whl.metadata (15 kB)\r\n",
      "Requirement already satisfied: NumPy>=1.17 in /opt/conda/lib/python3.10/site-packages (from flaml) (1.26.4)\r\n",
      "Downloading FLAML-2.1.2-py3-none-any.whl (296 kB)\r\n",
      "\u001b[2K   \u001b[90m━━━━━━━━━━━━━━━━━━━━━━━━━━━━━━━━━━━━━━━━\u001b[0m \u001b[32m296.7/296.7 kB\u001b[0m \u001b[31m5.4 MB/s\u001b[0m eta \u001b[36m0:00:00\u001b[0m\r\n",
      "\u001b[?25hInstalling collected packages: flaml\r\n",
      "Successfully installed flaml-2.1.2\r\n"
     ]
    }
   ],
   "source": [
    "!pip install flaml"
   ]
  },
  {
   "cell_type": "code",
   "execution_count": 16,
   "id": "9b25a029",
   "metadata": {
    "execution": {
     "iopub.execute_input": "2024-03-31T18:11:19.688068Z",
     "iopub.status.busy": "2024-03-31T18:11:19.687622Z",
     "iopub.status.idle": "2024-03-31T18:11:25.666195Z",
     "shell.execute_reply": "2024-03-31T18:11:25.664745Z"
    },
    "papermill": {
     "duration": 5.991172,
     "end_time": "2024-03-31T18:11:25.668997",
     "exception": false,
     "start_time": "2024-03-31T18:11:19.677825",
     "status": "completed"
    },
    "tags": []
   },
   "outputs": [
    {
     "name": "stderr",
     "output_type": "stream",
     "text": [
      "2024-03-31 18:11:20,792\tINFO util.py:124 -- Outdated packages:\n",
      "  ipywidgets==7.7.1 found, needs ipywidgets>=8\n",
      "Run `pip install -U ipywidgets`, then restart the notebook server for rich notebook output.\n",
      "2024-03-31 18:11:21,847\tINFO util.py:124 -- Outdated packages:\n",
      "  ipywidgets==7.7.1 found, needs ipywidgets>=8\n",
      "Run `pip install -U ipywidgets`, then restart the notebook server for rich notebook output.\n"
     ]
    }
   ],
   "source": [
    "from flaml import AutoML\n",
    "\n",
    "automl = AutoML()\n",
    "automl_settings = {\n",
    "    \"time_budget\": 5,\n",
    "    \"metric\": 'accuracy',\n",
    "    \"task\": 'classification',\n",
    "}"
   ]
  },
  {
   "cell_type": "code",
   "execution_count": 17,
   "id": "71514a85",
   "metadata": {
    "execution": {
     "iopub.execute_input": "2024-03-31T18:11:25.687654Z",
     "iopub.status.busy": "2024-03-31T18:11:25.686954Z",
     "iopub.status.idle": "2024-03-31T18:11:25.744325Z",
     "shell.execute_reply": "2024-03-31T18:11:25.742994Z"
    },
    "papermill": {
     "duration": 0.069991,
     "end_time": "2024-03-31T18:11:25.747086",
     "exception": false,
     "start_time": "2024-03-31T18:11:25.677095",
     "status": "completed"
    },
    "tags": []
   },
   "outputs": [],
   "source": [
    "selected_cols = train.select_dtypes(exclude=['object']).columns\n",
    "selected_cols = selected_cols.drop('class', errors='ignore')\n",
    "test_selected_cols = test.select_dtypes(exclude=['object']).columns\n",
    "X_train = train[selected_cols]\n",
    "y_train = train['class']\n",
    "X_test = test[test_selected_cols]"
   ]
  },
  {
   "cell_type": "code",
   "execution_count": 18,
   "id": "0632ddd0",
   "metadata": {
    "execution": {
     "iopub.execute_input": "2024-03-31T18:11:25.765693Z",
     "iopub.status.busy": "2024-03-31T18:11:25.765279Z",
     "iopub.status.idle": "2024-03-31T18:11:25.805658Z",
     "shell.execute_reply": "2024-03-31T18:11:25.804546Z"
    },
    "papermill": {
     "duration": 0.052978,
     "end_time": "2024-03-31T18:11:25.808391",
     "exception": false,
     "start_time": "2024-03-31T18:11:25.755413",
     "status": "completed"
    },
    "tags": []
   },
   "outputs": [],
   "source": [
    "from sklearn.model_selection import train_test_split\n",
    "\n",
    "X_trainsub, X_valid, y_trainsub, y_valid = train_test_split(X_train, y_train, test_size=0.3, train_size=0.7, random_state=True)"
   ]
  },
  {
   "cell_type": "code",
   "execution_count": 19,
   "id": "f9ff221e",
   "metadata": {
    "execution": {
     "iopub.execute_input": "2024-03-31T18:11:25.826919Z",
     "iopub.status.busy": "2024-03-31T18:11:25.826521Z",
     "iopub.status.idle": "2024-03-31T18:11:31.177289Z",
     "shell.execute_reply": "2024-03-31T18:11:31.176111Z"
    },
    "papermill": {
     "duration": 5.363182,
     "end_time": "2024-03-31T18:11:31.179824",
     "exception": false,
     "start_time": "2024-03-31T18:11:25.816642",
     "status": "completed"
    },
    "tags": []
   },
   "outputs": [
    {
     "name": "stdout",
     "output_type": "stream",
     "text": [
      "[flaml.automl.logger: 03-31 18:11:26] {1680} INFO - task = classification\n",
      "[flaml.automl.logger: 03-31 18:11:26] {1691} INFO - Evaluation method: holdout\n",
      "[flaml.automl.logger: 03-31 18:11:26] {1789} INFO - Minimizing error metric: 1-accuracy\n",
      "[flaml.automl.logger: 03-31 18:11:26] {1901} INFO - List of ML learners in AutoML Run: ['lgbm', 'rf', 'catboost', 'xgboost', 'extra_tree', 'xgb_limitdepth', 'lrl1']\n",
      "[flaml.automl.logger: 03-31 18:11:26] {2219} INFO - iteration 0, current learner lgbm\n",
      "[flaml.automl.logger: 03-31 18:11:26] {2345} INFO - Estimated sufficient time budget=2203s. Estimated necessary time budget=54s.\n",
      "[flaml.automl.logger: 03-31 18:11:26] {2392} INFO -  at 0.8s,\testimator lgbm's best error=0.0156,\tbest estimator lgbm's best error=0.0156\n",
      "[flaml.automl.logger: 03-31 18:11:26] {2219} INFO - iteration 1, current learner lgbm\n",
      "[flaml.automl.logger: 03-31 18:11:26] {2392} INFO -  at 1.1s,\testimator lgbm's best error=0.0156,\tbest estimator lgbm's best error=0.0156\n",
      "[flaml.automl.logger: 03-31 18:11:26] {2219} INFO - iteration 2, current learner lgbm\n",
      "[flaml.automl.logger: 03-31 18:11:27] {2392} INFO -  at 1.4s,\testimator lgbm's best error=0.0156,\tbest estimator lgbm's best error=0.0156\n",
      "[flaml.automl.logger: 03-31 18:11:27] {2219} INFO - iteration 3, current learner xgboost\n",
      "[flaml.automl.logger: 03-31 18:11:27] {2392} INFO -  at 1.7s,\testimator xgboost's best error=0.0156,\tbest estimator lgbm's best error=0.0156\n",
      "[flaml.automl.logger: 03-31 18:11:27] {2219} INFO - iteration 4, current learner lgbm\n",
      "[flaml.automl.logger: 03-31 18:11:27] {2392} INFO -  at 2.1s,\testimator lgbm's best error=0.0156,\tbest estimator lgbm's best error=0.0156\n",
      "[flaml.automl.logger: 03-31 18:11:27] {2219} INFO - iteration 5, current learner xgboost\n",
      "[flaml.automl.logger: 03-31 18:11:28] {2392} INFO -  at 2.5s,\testimator xgboost's best error=0.0156,\tbest estimator lgbm's best error=0.0156\n",
      "[flaml.automl.logger: 03-31 18:11:28] {2219} INFO - iteration 6, current learner extra_tree\n",
      "[flaml.automl.logger: 03-31 18:11:28] {2392} INFO -  at 2.6s,\testimator extra_tree's best error=0.0156,\tbest estimator lgbm's best error=0.0156\n",
      "[flaml.automl.logger: 03-31 18:11:28] {2219} INFO - iteration 7, current learner xgboost\n",
      "[flaml.automl.logger: 03-31 18:11:28] {2392} INFO -  at 2.9s,\testimator xgboost's best error=0.0156,\tbest estimator lgbm's best error=0.0156\n",
      "[flaml.automl.logger: 03-31 18:11:28] {2219} INFO - iteration 8, current learner xgboost\n",
      "[flaml.automl.logger: 03-31 18:11:29] {2392} INFO -  at 3.2s,\testimator xgboost's best error=0.0156,\tbest estimator lgbm's best error=0.0156\n",
      "[flaml.automl.logger: 03-31 18:11:29] {2219} INFO - iteration 9, current learner extra_tree\n",
      "[flaml.automl.logger: 03-31 18:11:29] {2392} INFO -  at 3.3s,\testimator extra_tree's best error=0.0156,\tbest estimator lgbm's best error=0.0156\n",
      "[flaml.automl.logger: 03-31 18:11:29] {2219} INFO - iteration 10, current learner extra_tree\n",
      "[flaml.automl.logger: 03-31 18:11:29] {2392} INFO -  at 3.4s,\testimator extra_tree's best error=0.0156,\tbest estimator lgbm's best error=0.0156\n",
      "[flaml.automl.logger: 03-31 18:11:29] {2219} INFO - iteration 11, current learner extra_tree\n",
      "[flaml.automl.logger: 03-31 18:11:29] {2392} INFO -  at 3.5s,\testimator extra_tree's best error=0.0156,\tbest estimator lgbm's best error=0.0156\n",
      "[flaml.automl.logger: 03-31 18:11:29] {2219} INFO - iteration 12, current learner extra_tree\n",
      "[flaml.automl.logger: 03-31 18:11:29] {2392} INFO -  at 3.6s,\testimator extra_tree's best error=0.0156,\tbest estimator lgbm's best error=0.0156\n",
      "[flaml.automl.logger: 03-31 18:11:29] {2219} INFO - iteration 13, current learner rf\n",
      "[flaml.automl.logger: 03-31 18:11:29] {2392} INFO -  at 3.8s,\testimator rf's best error=0.0156,\tbest estimator lgbm's best error=0.0156\n",
      "[flaml.automl.logger: 03-31 18:11:29] {2219} INFO - iteration 14, current learner rf\n",
      "[flaml.automl.logger: 03-31 18:11:29] {2392} INFO -  at 3.9s,\testimator rf's best error=0.0156,\tbest estimator lgbm's best error=0.0156\n",
      "[flaml.automl.logger: 03-31 18:11:29] {2219} INFO - iteration 15, current learner rf\n",
      "[flaml.automl.logger: 03-31 18:11:29] {2392} INFO -  at 4.0s,\testimator rf's best error=0.0156,\tbest estimator lgbm's best error=0.0156\n",
      "[flaml.automl.logger: 03-31 18:11:29] {2219} INFO - iteration 16, current learner rf\n",
      "[flaml.automl.logger: 03-31 18:11:30] {2392} INFO -  at 4.3s,\testimator rf's best error=0.0156,\tbest estimator lgbm's best error=0.0156\n",
      "[flaml.automl.logger: 03-31 18:11:30] {2219} INFO - iteration 17, current learner extra_tree\n",
      "[flaml.automl.logger: 03-31 18:11:30] {2392} INFO -  at 4.4s,\testimator extra_tree's best error=0.0156,\tbest estimator lgbm's best error=0.0156\n",
      "[flaml.automl.logger: 03-31 18:11:30] {2219} INFO - iteration 18, current learner lgbm\n",
      "[flaml.automl.logger: 03-31 18:11:30] {2392} INFO -  at 4.7s,\testimator lgbm's best error=0.0156,\tbest estimator lgbm's best error=0.0156\n",
      "[flaml.automl.logger: 03-31 18:11:30] {2219} INFO - iteration 19, current learner extra_tree\n",
      "[flaml.automl.logger: 03-31 18:11:30] {2392} INFO -  at 4.8s,\testimator extra_tree's best error=0.0156,\tbest estimator lgbm's best error=0.0156\n",
      "[flaml.automl.logger: 03-31 18:11:30] {2219} INFO - iteration 20, current learner rf\n",
      "[flaml.automl.logger: 03-31 18:11:30] {2392} INFO -  at 5.0s,\testimator rf's best error=0.0156,\tbest estimator lgbm's best error=0.0156\n",
      "[flaml.automl.logger: 03-31 18:11:31] {2628} INFO - retrain lgbm for 0.3s\n",
      "[flaml.automl.logger: 03-31 18:11:31] {2631} INFO - retrained model: LGBMClassifier(learning_rate=0.09999999999999995, max_bin=255, n_estimators=1,\n",
      "               n_jobs=-1, num_leaves=4, reg_alpha=0.0009765625, reg_lambda=1.0,\n",
      "               verbose=-1)\n",
      "[flaml.automl.logger: 03-31 18:11:31] {1931} INFO - fit succeeded\n",
      "[flaml.automl.logger: 03-31 18:11:31] {1932} INFO - Time taken to find the best model: 0.8103888034820557\n"
     ]
    }
   ],
   "source": [
    "automl.fit(X_trainsub, y_trainsub, **automl_settings)"
   ]
  },
  {
   "cell_type": "code",
   "execution_count": 20,
   "id": "cc997e99",
   "metadata": {
    "execution": {
     "iopub.execute_input": "2024-03-31T18:11:31.204683Z",
     "iopub.status.busy": "2024-03-31T18:11:31.204239Z",
     "iopub.status.idle": "2024-03-31T18:11:31.210447Z",
     "shell.execute_reply": "2024-03-31T18:11:31.209293Z"
    },
    "papermill": {
     "duration": 0.021616,
     "end_time": "2024-03-31T18:11:31.212977",
     "exception": false,
     "start_time": "2024-03-31T18:11:31.191361",
     "status": "completed"
    },
    "tags": []
   },
   "outputs": [
    {
     "name": "stdout",
     "output_type": "stream",
     "text": [
      "Best ML leaner: lgbm\n",
      "Best hyperparmeter config: {'n_estimators': 4, 'num_leaves': 4, 'min_child_samples': 20, 'learning_rate': 0.09999999999999995, 'log_max_bin': 8, 'colsample_bytree': 1.0, 'reg_alpha': 0.0009765625, 'reg_lambda': 1.0}\n",
      "Best log_loss on validation data: 0.01562\n",
      "Training duration of best run: 0.3172 s\n"
     ]
    }
   ],
   "source": [
    "print('Best ML leaner:', automl.best_estimator)\n",
    "print('Best hyperparmeter config:', automl.best_config)\n",
    "print('Best log_loss on validation data: {0:.4g}'.format(automl.best_loss))\n",
    "print('Training duration of best run: {0:.4g} s'.format(automl.best_config_train_time))"
   ]
  },
  {
   "cell_type": "code",
   "execution_count": 21,
   "id": "b44fa02c",
   "metadata": {
    "execution": {
     "iopub.execute_input": "2024-03-31T18:11:31.237129Z",
     "iopub.status.busy": "2024-03-31T18:11:31.236754Z",
     "iopub.status.idle": "2024-03-31T18:11:31.281481Z",
     "shell.execute_reply": "2024-03-31T18:11:31.280355Z"
    },
    "papermill": {
     "duration": 0.059816,
     "end_time": "2024-03-31T18:11:31.284104",
     "exception": false,
     "start_time": "2024-03-31T18:11:31.224288",
     "status": "completed"
    },
    "tags": []
   },
   "outputs": [],
   "source": [
    "y_pred1 = automl.predict(X_valid)\n",
    "rounded_predictions1 = np.round(y_pred1)\n",
    "integer_predictions1 = rounded_predictions1.astype(int)"
   ]
  },
  {
   "cell_type": "code",
   "execution_count": 22,
   "id": "80e72a15",
   "metadata": {
    "execution": {
     "iopub.execute_input": "2024-03-31T18:11:31.310272Z",
     "iopub.status.busy": "2024-03-31T18:11:31.309541Z",
     "iopub.status.idle": "2024-03-31T18:11:31.317976Z",
     "shell.execute_reply": "2024-03-31T18:11:31.316695Z"
    },
    "papermill": {
     "duration": 0.022972,
     "end_time": "2024-03-31T18:11:31.319980",
     "exception": false,
     "start_time": "2024-03-31T18:11:31.297008",
     "status": "completed"
    },
    "tags": []
   },
   "outputs": [
    {
     "name": "stdout",
     "output_type": "stream",
     "text": [
      "Accuracy: 0.9851745576279293\n"
     ]
    }
   ],
   "source": [
    "from sklearn.metrics import accuracy_score\n",
    "\n",
    "accuracy1 = accuracy_score(y_valid, integer_predictions1)\n",
    "print(\"Accuracy:\", accuracy1)"
   ]
  },
  {
   "cell_type": "markdown",
   "id": "12367f7e",
   "metadata": {
    "papermill": {
     "duration": 0.011627,
     "end_time": "2024-03-31T18:11:31.343155",
     "exception": false,
     "start_time": "2024-03-31T18:11:31.331528",
     "status": "completed"
    },
    "tags": []
   },
   "source": [
    "## KNN Neighbors"
   ]
  },
  {
   "cell_type": "code",
   "execution_count": 23,
   "id": "2596f911",
   "metadata": {
    "execution": {
     "iopub.execute_input": "2024-03-31T18:11:31.368839Z",
     "iopub.status.busy": "2024-03-31T18:11:31.368428Z",
     "iopub.status.idle": "2024-03-31T18:11:31.441146Z",
     "shell.execute_reply": "2024-03-31T18:11:31.439967Z"
    },
    "papermill": {
     "duration": 0.088109,
     "end_time": "2024-03-31T18:11:31.443650",
     "exception": false,
     "start_time": "2024-03-31T18:11:31.355541",
     "status": "completed"
    },
    "tags": []
   },
   "outputs": [],
   "source": [
    "X_trainsub = X_trainsub.fillna(X_trainsub.median()) \n",
    "X_valid = X_valid.fillna(X_valid.median()) "
   ]
  },
  {
   "cell_type": "code",
   "execution_count": 24,
   "id": "56e2b6b0",
   "metadata": {
    "execution": {
     "iopub.execute_input": "2024-03-31T18:11:31.467855Z",
     "iopub.status.busy": "2024-03-31T18:11:31.467406Z",
     "iopub.status.idle": "2024-03-31T18:11:31.493234Z",
     "shell.execute_reply": "2024-03-31T18:11:31.492105Z"
    },
    "papermill": {
     "duration": 0.040886,
     "end_time": "2024-03-31T18:11:31.495901",
     "exception": false,
     "start_time": "2024-03-31T18:11:31.455015",
     "status": "completed"
    },
    "tags": []
   },
   "outputs": [
    {
     "data": {
      "text/html": [
       "<style>#sk-container-id-1 {color: black;background-color: white;}#sk-container-id-1 pre{padding: 0;}#sk-container-id-1 div.sk-toggleable {background-color: white;}#sk-container-id-1 label.sk-toggleable__label {cursor: pointer;display: block;width: 100%;margin-bottom: 0;padding: 0.3em;box-sizing: border-box;text-align: center;}#sk-container-id-1 label.sk-toggleable__label-arrow:before {content: \"▸\";float: left;margin-right: 0.25em;color: #696969;}#sk-container-id-1 label.sk-toggleable__label-arrow:hover:before {color: black;}#sk-container-id-1 div.sk-estimator:hover label.sk-toggleable__label-arrow:before {color: black;}#sk-container-id-1 div.sk-toggleable__content {max-height: 0;max-width: 0;overflow: hidden;text-align: left;background-color: #f0f8ff;}#sk-container-id-1 div.sk-toggleable__content pre {margin: 0.2em;color: black;border-radius: 0.25em;background-color: #f0f8ff;}#sk-container-id-1 input.sk-toggleable__control:checked~div.sk-toggleable__content {max-height: 200px;max-width: 100%;overflow: auto;}#sk-container-id-1 input.sk-toggleable__control:checked~label.sk-toggleable__label-arrow:before {content: \"▾\";}#sk-container-id-1 div.sk-estimator input.sk-toggleable__control:checked~label.sk-toggleable__label {background-color: #d4ebff;}#sk-container-id-1 div.sk-label input.sk-toggleable__control:checked~label.sk-toggleable__label {background-color: #d4ebff;}#sk-container-id-1 input.sk-hidden--visually {border: 0;clip: rect(1px 1px 1px 1px);clip: rect(1px, 1px, 1px, 1px);height: 1px;margin: -1px;overflow: hidden;padding: 0;position: absolute;width: 1px;}#sk-container-id-1 div.sk-estimator {font-family: monospace;background-color: #f0f8ff;border: 1px dotted black;border-radius: 0.25em;box-sizing: border-box;margin-bottom: 0.5em;}#sk-container-id-1 div.sk-estimator:hover {background-color: #d4ebff;}#sk-container-id-1 div.sk-parallel-item::after {content: \"\";width: 100%;border-bottom: 1px solid gray;flex-grow: 1;}#sk-container-id-1 div.sk-label:hover label.sk-toggleable__label {background-color: #d4ebff;}#sk-container-id-1 div.sk-serial::before {content: \"\";position: absolute;border-left: 1px solid gray;box-sizing: border-box;top: 0;bottom: 0;left: 50%;z-index: 0;}#sk-container-id-1 div.sk-serial {display: flex;flex-direction: column;align-items: center;background-color: white;padding-right: 0.2em;padding-left: 0.2em;position: relative;}#sk-container-id-1 div.sk-item {position: relative;z-index: 1;}#sk-container-id-1 div.sk-parallel {display: flex;align-items: stretch;justify-content: center;background-color: white;position: relative;}#sk-container-id-1 div.sk-item::before, #sk-container-id-1 div.sk-parallel-item::before {content: \"\";position: absolute;border-left: 1px solid gray;box-sizing: border-box;top: 0;bottom: 0;left: 50%;z-index: -1;}#sk-container-id-1 div.sk-parallel-item {display: flex;flex-direction: column;z-index: 1;position: relative;background-color: white;}#sk-container-id-1 div.sk-parallel-item:first-child::after {align-self: flex-end;width: 50%;}#sk-container-id-1 div.sk-parallel-item:last-child::after {align-self: flex-start;width: 50%;}#sk-container-id-1 div.sk-parallel-item:only-child::after {width: 0;}#sk-container-id-1 div.sk-dashed-wrapped {border: 1px dashed gray;margin: 0 0.4em 0.5em 0.4em;box-sizing: border-box;padding-bottom: 0.4em;background-color: white;}#sk-container-id-1 div.sk-label label {font-family: monospace;font-weight: bold;display: inline-block;line-height: 1.2em;}#sk-container-id-1 div.sk-label-container {text-align: center;}#sk-container-id-1 div.sk-container {/* jupyter's `normalize.less` sets `[hidden] { display: none; }` but bootstrap.min.css set `[hidden] { display: none !important; }` so we also need the `!important` here to be able to override the default hidden behavior on the sphinx rendered scikit-learn.org. See: https://github.com/scikit-learn/scikit-learn/issues/21755 */display: inline-block !important;position: relative;}#sk-container-id-1 div.sk-text-repr-fallback {display: none;}</style><div id=\"sk-container-id-1\" class=\"sk-top-container\"><div class=\"sk-text-repr-fallback\"><pre>KNeighborsClassifier(n_neighbors=3)</pre><b>In a Jupyter environment, please rerun this cell to show the HTML representation or trust the notebook. <br />On GitHub, the HTML representation is unable to render, please try loading this page with nbviewer.org.</b></div><div class=\"sk-container\" hidden><div class=\"sk-item\"><div class=\"sk-estimator sk-toggleable\"><input class=\"sk-toggleable__control sk-hidden--visually\" id=\"sk-estimator-id-1\" type=\"checkbox\" checked><label for=\"sk-estimator-id-1\" class=\"sk-toggleable__label sk-toggleable__label-arrow\">KNeighborsClassifier</label><div class=\"sk-toggleable__content\"><pre>KNeighborsClassifier(n_neighbors=3)</pre></div></div></div></div></div>"
      ],
      "text/plain": [
       "KNeighborsClassifier(n_neighbors=3)"
      ]
     },
     "execution_count": 24,
     "metadata": {},
     "output_type": "execute_result"
    }
   ],
   "source": [
    "from sklearn.neighbors import KNeighborsClassifier\n",
    "\n",
    "knn = KNeighborsClassifier(n_neighbors=3)\n",
    "knn.fit(X_trainsub, y_trainsub)"
   ]
  },
  {
   "cell_type": "code",
   "execution_count": 25,
   "id": "d5d10baf",
   "metadata": {
    "execution": {
     "iopub.execute_input": "2024-03-31T18:11:31.520645Z",
     "iopub.status.busy": "2024-03-31T18:11:31.520226Z",
     "iopub.status.idle": "2024-03-31T18:11:36.548567Z",
     "shell.execute_reply": "2024-03-31T18:11:36.547523Z"
    },
    "papermill": {
     "duration": 5.043575,
     "end_time": "2024-03-31T18:11:36.551193",
     "exception": false,
     "start_time": "2024-03-31T18:11:31.507618",
     "status": "completed"
    },
    "tags": []
   },
   "outputs": [],
   "source": [
    "y_pred2 = knn.predict(X_valid)\n",
    "rounded_predictions2 = np.round(y_pred2)\n",
    "integer_predictions2 = rounded_predictions2.astype(int)"
   ]
  },
  {
   "cell_type": "code",
   "execution_count": 26,
   "id": "6c001b22",
   "metadata": {
    "execution": {
     "iopub.execute_input": "2024-03-31T18:11:36.575804Z",
     "iopub.status.busy": "2024-03-31T18:11:36.575386Z",
     "iopub.status.idle": "2024-03-31T18:11:36.583756Z",
     "shell.execute_reply": "2024-03-31T18:11:36.582475Z"
    },
    "papermill": {
     "duration": 0.023231,
     "end_time": "2024-03-31T18:11:36.586115",
     "exception": false,
     "start_time": "2024-03-31T18:11:36.562884",
     "status": "completed"
    },
    "tags": []
   },
   "outputs": [
    {
     "name": "stdout",
     "output_type": "stream",
     "text": [
      "Accuracy: 0.983739837398374\n"
     ]
    }
   ],
   "source": [
    "accuracy2 = accuracy_score(y_valid, integer_predictions2)\n",
    "print(\"Accuracy:\", accuracy2)"
   ]
  }
 ],
 "metadata": {
  "kaggle": {
   "accelerator": "none",
   "dataSources": [
    {
     "databundleVersionId": 7799805,
     "sourceId": 71331,
     "sourceType": "competition"
    }
   ],
   "dockerImageVersionId": 30673,
   "isGpuEnabled": false,
   "isInternetEnabled": true,
   "language": "python",
   "sourceType": "notebook"
  },
  "kernelspec": {
   "display_name": "Python 3",
   "language": "python",
   "name": "python3"
  },
  "language_info": {
   "codemirror_mode": {
    "name": "ipython",
    "version": 3
   },
   "file_extension": ".py",
   "mimetype": "text/x-python",
   "name": "python",
   "nbconvert_exporter": "python",
   "pygments_lexer": "ipython3",
   "version": "3.10.13"
  },
  "papermill": {
   "default_parameters": {},
   "duration": 38.092694,
   "end_time": "2024-03-31T18:11:37.621034",
   "environment_variables": {},
   "exception": null,
   "input_path": "__notebook__.ipynb",
   "output_path": "__notebook__.ipynb",
   "parameters": {},
   "start_time": "2024-03-31T18:10:59.528340",
   "version": "2.5.0"
  }
 },
 "nbformat": 4,
 "nbformat_minor": 5
}
