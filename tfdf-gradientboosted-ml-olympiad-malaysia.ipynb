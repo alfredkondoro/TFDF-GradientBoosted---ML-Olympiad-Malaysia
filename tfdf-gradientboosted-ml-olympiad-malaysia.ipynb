{
 "cells": [
  {
   "cell_type": "code",
   "execution_count": 1,
   "id": "fa894be0",
   "metadata": {
    "_cell_guid": "b1076dfc-b9ad-4769-8c92-a6c4dae69d19",
    "_uuid": "8f2839f25d086af736a60e9eeb907d3b93b6e0e5",
    "execution": {
     "iopub.execute_input": "2024-03-31T18:16:48.962878Z",
     "iopub.status.busy": "2024-03-31T18:16:48.962362Z",
     "iopub.status.idle": "2024-03-31T18:16:50.090119Z",
     "shell.execute_reply": "2024-03-31T18:16:50.088539Z"
    },
    "papermill": {
     "duration": 1.146974,
     "end_time": "2024-03-31T18:16:50.093811",
     "exception": false,
     "start_time": "2024-03-31T18:16:48.946837",
     "status": "completed"
    },
    "tags": []
   },
   "outputs": [],
   "source": [
    "import numpy as np\n",
    "import pandas as pd\n",
    "\n",
    "import warnings\n",
    "warnings.simplefilter(action='ignore', category=FutureWarning)"
   ]
  },
  {
   "cell_type": "code",
   "execution_count": 2,
   "id": "3a17727d",
   "metadata": {
    "execution": {
     "iopub.execute_input": "2024-03-31T18:16:50.123769Z",
     "iopub.status.busy": "2024-03-31T18:16:50.123205Z",
     "iopub.status.idle": "2024-03-31T18:16:50.669808Z",
     "shell.execute_reply": "2024-03-31T18:16:50.668108Z"
    },
    "papermill": {
     "duration": 0.566101,
     "end_time": "2024-03-31T18:16:50.673198",
     "exception": false,
     "start_time": "2024-03-31T18:16:50.107097",
     "status": "completed"
    },
    "tags": []
   },
   "outputs": [],
   "source": [
    "train = pd.read_csv('/kaggle/input/ml-olympiad-ai-ml-malaysia/train.csv')\n",
    "test = pd.read_csv('/kaggle/input/ml-olympiad-ai-ml-malaysia/test.csv')\n",
    "submit = pd.read_csv('/kaggle/input/ml-olympiad-ai-ml-malaysia/sample_submission.csv')"
   ]
  },
  {
   "cell_type": "code",
   "execution_count": 3,
   "id": "82893011",
   "metadata": {
    "execution": {
     "iopub.execute_input": "2024-03-31T18:16:50.702499Z",
     "iopub.status.busy": "2024-03-31T18:16:50.702043Z",
     "iopub.status.idle": "2024-03-31T18:16:50.750871Z",
     "shell.execute_reply": "2024-03-31T18:16:50.748863Z"
    },
    "papermill": {
     "duration": 0.067634,
     "end_time": "2024-03-31T18:16:50.754573",
     "exception": false,
     "start_time": "2024-03-31T18:16:50.686939",
     "status": "completed"
    },
    "tags": []
   },
   "outputs": [
    {
     "name": "stdout",
     "output_type": "stream",
     "text": [
      "<class 'pandas.core.frame.DataFrame'>\n",
      "RangeIndex: 55760 entries, 0 to 55759\n",
      "Data columns (total 21 columns):\n",
      " #   Column  Non-Null Count  Dtype  \n",
      "---  ------  --------------  -----  \n",
      " 0   id      55760 non-null  int64  \n",
      " 1   02      55760 non-null  int64  \n",
      " 2   03      55752 non-null  object \n",
      " 3   04      55760 non-null  object \n",
      " 4   05      55760 non-null  int64  \n",
      " 5   06      55102 non-null  float64\n",
      " 6   07      55760 non-null  int64  \n",
      " 7   08      52567 non-null  float64\n",
      " 8   09      52336 non-null  float64\n",
      " 9   10      55760 non-null  float64\n",
      " 10  11      55760 non-null  int64  \n",
      " 11  12      48289 non-null  float64\n",
      " 12  13      55760 non-null  int64  \n",
      " 13  14      55760 non-null  int64  \n",
      " 14  15      55760 non-null  int64  \n",
      " 15  16      55719 non-null  float64\n",
      " 16  17      33629 non-null  float64\n",
      " 17  18      33629 non-null  float64\n",
      " 18  19      17819 non-null  float64\n",
      " 19  20      55719 non-null  float64\n",
      " 20  class   55760 non-null  int64  \n",
      "dtypes: float64(10), int64(9), object(2)\n",
      "memory usage: 8.9+ MB\n"
     ]
    }
   ],
   "source": [
    "train.info()"
   ]
  },
  {
   "cell_type": "code",
   "execution_count": 4,
   "id": "d5613a84",
   "metadata": {
    "execution": {
     "iopub.execute_input": "2024-03-31T18:16:50.783010Z",
     "iopub.status.busy": "2024-03-31T18:16:50.782631Z",
     "iopub.status.idle": "2024-03-31T18:16:50.793715Z",
     "shell.execute_reply": "2024-03-31T18:16:50.792851Z"
    },
    "papermill": {
     "duration": 0.028436,
     "end_time": "2024-03-31T18:16:50.796272",
     "exception": false,
     "start_time": "2024-03-31T18:16:50.767836",
     "status": "completed"
    },
    "tags": []
   },
   "outputs": [
    {
     "data": {
      "text/plain": [
       "array([0, 1])"
      ]
     },
     "execution_count": 4,
     "metadata": {},
     "output_type": "execute_result"
    }
   ],
   "source": [
    "train['class'].unique()"
   ]
  },
  {
   "cell_type": "code",
   "execution_count": 5,
   "id": "c4b69c3e",
   "metadata": {
    "execution": {
     "iopub.execute_input": "2024-03-31T18:16:50.825852Z",
     "iopub.status.busy": "2024-03-31T18:16:50.825385Z",
     "iopub.status.idle": "2024-03-31T18:16:50.836523Z",
     "shell.execute_reply": "2024-03-31T18:16:50.835359Z"
    },
    "papermill": {
     "duration": 0.029136,
     "end_time": "2024-03-31T18:16:50.839287",
     "exception": false,
     "start_time": "2024-03-31T18:16:50.810151",
     "status": "completed"
    },
    "tags": []
   },
   "outputs": [
    {
     "data": {
      "text/plain": [
       "class\n",
       "0    54916\n",
       "1      844\n",
       "Name: count, dtype: int64"
      ]
     },
     "execution_count": 5,
     "metadata": {},
     "output_type": "execute_result"
    }
   ],
   "source": [
    "train['class'].value_counts()"
   ]
  },
  {
   "cell_type": "code",
   "execution_count": 6,
   "id": "2cbaa8c3",
   "metadata": {
    "execution": {
     "iopub.execute_input": "2024-03-31T18:16:50.869339Z",
     "iopub.status.busy": "2024-03-31T18:16:50.868833Z",
     "iopub.status.idle": "2024-03-31T18:16:50.886176Z",
     "shell.execute_reply": "2024-03-31T18:16:50.884989Z"
    },
    "papermill": {
     "duration": 0.036412,
     "end_time": "2024-03-31T18:16:50.889047",
     "exception": false,
     "start_time": "2024-03-31T18:16:50.852635",
     "status": "completed"
    },
    "tags": []
   },
   "outputs": [
    {
     "name": "stdout",
     "output_type": "stream",
     "text": [
      "<class 'pandas.core.frame.DataFrame'>\n",
      "RangeIndex: 13940 entries, 0 to 13939\n",
      "Data columns (total 20 columns):\n",
      " #   Column  Non-Null Count  Dtype  \n",
      "---  ------  --------------  -----  \n",
      " 0   id      13940 non-null  int64  \n",
      " 1   02      13940 non-null  int64  \n",
      " 2   03      13933 non-null  object \n",
      " 3   04      13940 non-null  object \n",
      " 4   05      13940 non-null  int64  \n",
      " 5   06      13784 non-null  float64\n",
      " 6   07      13940 non-null  int64  \n",
      " 7   08      13115 non-null  float64\n",
      " 8   09      13066 non-null  float64\n",
      " 9   10      13940 non-null  float64\n",
      " 10  11      13940 non-null  int64  \n",
      " 11  12      12023 non-null  float64\n",
      " 12  13      13940 non-null  int64  \n",
      " 13  14      13940 non-null  int64  \n",
      " 14  15      13940 non-null  int64  \n",
      " 15  16      13930 non-null  float64\n",
      " 16  17      8366 non-null   float64\n",
      " 17  18      8366 non-null   float64\n",
      " 18  19      4452 non-null   float64\n",
      " 19  20      13930 non-null  float64\n",
      "dtypes: float64(10), int64(8), object(2)\n",
      "memory usage: 2.1+ MB\n"
     ]
    }
   ],
   "source": [
    "test.info()"
   ]
  },
  {
   "cell_type": "markdown",
   "id": "24ab1761",
   "metadata": {
    "papermill": {
     "duration": 0.01266,
     "end_time": "2024-03-31T18:16:50.914913",
     "exception": false,
     "start_time": "2024-03-31T18:16:50.902253",
     "status": "completed"
    },
    "tags": []
   },
   "source": [
    "## FEATURE ENGINEERING"
   ]
  },
  {
   "cell_type": "code",
   "execution_count": 7,
   "id": "cbcdbbc4",
   "metadata": {
    "execution": {
     "iopub.execute_input": "2024-03-31T18:16:50.943639Z",
     "iopub.status.busy": "2024-03-31T18:16:50.943188Z",
     "iopub.status.idle": "2024-03-31T18:16:50.992903Z",
     "shell.execute_reply": "2024-03-31T18:16:50.990787Z"
    },
    "papermill": {
     "duration": 0.068757,
     "end_time": "2024-03-31T18:16:50.997052",
     "exception": false,
     "start_time": "2024-03-31T18:16:50.928295",
     "status": "completed"
    },
    "tags": []
   },
   "outputs": [],
   "source": [
    "cols_to_impute = ['06', '08', '09', '12', '16', '17', '18', '19', '20']\n",
    "\n",
    "def impute_dataset(df):\n",
    "    for column in cols_to_impute:\n",
    "        median_value = int(df[column].median())\n",
    "        df[column].fillna(median_value, inplace=True)    \n",
    "    #for the date\n",
    "    mode_value = df[column].mode()[0]\n",
    "    df['03'].fillna(mode_value, inplace=True)\n",
    "\n",
    "impute_dataset(train)\n",
    "impute_dataset(test)"
   ]
  },
  {
   "cell_type": "code",
   "execution_count": 8,
   "id": "b2e5ef6d",
   "metadata": {
    "execution": {
     "iopub.execute_input": "2024-03-31T18:16:51.027864Z",
     "iopub.status.busy": "2024-03-31T18:16:51.026537Z",
     "iopub.status.idle": "2024-03-31T18:16:51.153477Z",
     "shell.execute_reply": "2024-03-31T18:16:51.151490Z"
    },
    "papermill": {
     "duration": 0.145081,
     "end_time": "2024-03-31T18:16:51.156791",
     "exception": false,
     "start_time": "2024-03-31T18:16:51.011710",
     "status": "completed"
    },
    "tags": []
   },
   "outputs": [],
   "source": [
    "def date_features(df):\n",
    "    df['03'] = pd.to_datetime(df['03'], errors='coerce')\n",
    "    df['04'] = pd.to_datetime(df['04'], errors='coerce')\n",
    "\n",
    "    df['dob_year'] = df['03'].dt.year\n",
    "    df['dob_month'] = df['03'].dt.month\n",
    "    df['dob_day'] = df['03'].dt.day\n",
    "    df['dob_dayofweek'] = df['03'].dt.dayofweek\n",
    "    df['dob_quarter'] = df['03'].dt.quarter\n",
    "\n",
    "    df['lead_year'] = df['04'].dt.year\n",
    "    df['lead_month'] = df['04'].dt.month\n",
    "    df['lead_day'] = df['04'].dt.day\n",
    "    df['lead_dayofweek'] = df['04'].dt.dayofweek\n",
    "    df['lead_quarter'] = df['04'].dt.quarter\n",
    "\n",
    "    # Calculate the age of the applicant at the time of lead creation based on the date of birth\n",
    "    df['age_at_lead_creation'] = df['04'].dt.year - df['03'].dt.year\n",
    "    \n",
    "date_features(train)    \n",
    "date_features(test)"
   ]
  },
  {
   "cell_type": "code",
   "execution_count": 9,
   "id": "d57b6219",
   "metadata": {
    "execution": {
     "iopub.execute_input": "2024-03-31T18:16:51.185176Z",
     "iopub.status.busy": "2024-03-31T18:16:51.184621Z",
     "iopub.status.idle": "2024-03-31T18:16:51.216057Z",
     "shell.execute_reply": "2024-03-31T18:16:51.215050Z"
    },
    "papermill": {
     "duration": 0.04892,
     "end_time": "2024-03-31T18:16:51.218818",
     "exception": false,
     "start_time": "2024-03-31T18:16:51.169898",
     "status": "completed"
    },
    "tags": []
   },
   "outputs": [],
   "source": [
    "def numerical_features(df):\n",
    "    numcols = ['10', '16', '17', '18', '19', '20']\n",
    "    # Normalize numerical features to bring them to a similar scale\n",
    "    for col in numcols:\n",
    "        df[col + '_normalized'] = (df[col] - df[col].mean()) / df[col].std()\n",
    "\n",
    "    # Create additional numerical features(didn't work out as planned)\n",
    "    #df['loan_amt_to_monthly_income_ratio'] = df['17'] / df['10']\n",
    "    #df['loan_installment_to_monthly_income_ratio'] = df['20'] / df['10']\n",
    "    #df['loan_installment_to_installment_ratio'] = df['20'] / df['16']\n",
    "\n",
    "numerical_features(train)\n",
    "numerical_features(test)"
   ]
  },
  {
   "cell_type": "code",
   "execution_count": 10,
   "id": "0b0b1d17",
   "metadata": {
    "execution": {
     "iopub.execute_input": "2024-03-31T18:16:51.248632Z",
     "iopub.status.busy": "2024-03-31T18:16:51.247087Z",
     "iopub.status.idle": "2024-03-31T18:16:51.393981Z",
     "shell.execute_reply": "2024-03-31T18:16:51.392592Z"
    },
    "papermill": {
     "duration": 0.165354,
     "end_time": "2024-03-31T18:16:51.397261",
     "exception": false,
     "start_time": "2024-03-31T18:16:51.231907",
     "status": "completed"
    },
    "tags": []
   },
   "outputs": [],
   "source": [
    "def feature_interaction(df):\n",
    "    df['employer_interaction'] = df['08'].astype(str) + '_' + df['09'].astype(str)\n",
    "\n",
    "feature_interaction(train)\n",
    "feature_interaction(test)"
   ]
  },
  {
   "cell_type": "code",
   "execution_count": 11,
   "id": "0146993e",
   "metadata": {
    "execution": {
     "iopub.execute_input": "2024-03-31T18:16:51.426730Z",
     "iopub.status.busy": "2024-03-31T18:16:51.425930Z",
     "iopub.status.idle": "2024-03-31T18:16:51.436601Z",
     "shell.execute_reply": "2024-03-31T18:16:51.435305Z"
    },
    "papermill": {
     "duration": 0.02847,
     "end_time": "2024-03-31T18:16:51.439487",
     "exception": false,
     "start_time": "2024-03-31T18:16:51.411017",
     "status": "completed"
    },
    "tags": []
   },
   "outputs": [],
   "source": [
    "def feature_derivation(df):\n",
    "    df['total_loan_amount'] = df['17'] * df['18']\n",
    "    df['total_interest_paid'] = df['19'] * df['17'] * df['18']\n",
    "\n",
    "feature_derivation(train)    \n",
    "feature_derivation(test)"
   ]
  },
  {
   "cell_type": "code",
   "execution_count": 12,
   "id": "af940cb5",
   "metadata": {
    "execution": {
     "iopub.execute_input": "2024-03-31T18:16:51.468313Z",
     "iopub.status.busy": "2024-03-31T18:16:51.467803Z",
     "iopub.status.idle": "2024-03-31T18:16:51.498248Z",
     "shell.execute_reply": "2024-03-31T18:16:51.496170Z"
    },
    "papermill": {
     "duration": 0.04868,
     "end_time": "2024-03-31T18:16:51.501189",
     "exception": false,
     "start_time": "2024-03-31T18:16:51.452509",
     "status": "completed"
    },
    "tags": []
   },
   "outputs": [
    {
     "name": "stdout",
     "output_type": "stream",
     "text": [
      "<class 'pandas.core.frame.DataFrame'>\n",
      "RangeIndex: 55760 entries, 0 to 55759\n",
      "Data columns (total 41 columns):\n",
      " #   Column                Non-Null Count  Dtype         \n",
      "---  ------                --------------  -----         \n",
      " 0   id                    55760 non-null  int64         \n",
      " 1   02                    55760 non-null  int64         \n",
      " 2   03                    55752 non-null  datetime64[ns]\n",
      " 3   04                    55760 non-null  datetime64[ns]\n",
      " 4   05                    55760 non-null  int64         \n",
      " 5   06                    55760 non-null  float64       \n",
      " 6   07                    55760 non-null  int64         \n",
      " 7   08                    55760 non-null  float64       \n",
      " 8   09                    55760 non-null  float64       \n",
      " 9   10                    55760 non-null  float64       \n",
      " 10  11                    55760 non-null  int64         \n",
      " 11  12                    55760 non-null  float64       \n",
      " 12  13                    55760 non-null  int64         \n",
      " 13  14                    55760 non-null  int64         \n",
      " 14  15                    55760 non-null  int64         \n",
      " 15  16                    55760 non-null  float64       \n",
      " 16  17                    55760 non-null  float64       \n",
      " 17  18                    55760 non-null  float64       \n",
      " 18  19                    55760 non-null  float64       \n",
      " 19  20                    55760 non-null  float64       \n",
      " 20  class                 55760 non-null  int64         \n",
      " 21  dob_year              55752 non-null  float64       \n",
      " 22  dob_month             55752 non-null  float64       \n",
      " 23  dob_day               55752 non-null  float64       \n",
      " 24  dob_dayofweek         55752 non-null  float64       \n",
      " 25  dob_quarter           55752 non-null  float64       \n",
      " 26  lead_year             55760 non-null  int32         \n",
      " 27  lead_month            55760 non-null  int32         \n",
      " 28  lead_day              55760 non-null  int32         \n",
      " 29  lead_dayofweek        55760 non-null  int32         \n",
      " 30  lead_quarter          55760 non-null  int32         \n",
      " 31  age_at_lead_creation  55752 non-null  float64       \n",
      " 32  10_normalized         55760 non-null  float64       \n",
      " 33  16_normalized         55760 non-null  float64       \n",
      " 34  17_normalized         55760 non-null  float64       \n",
      " 35  18_normalized         55760 non-null  float64       \n",
      " 36  19_normalized         55760 non-null  float64       \n",
      " 37  20_normalized         55760 non-null  float64       \n",
      " 38  employer_interaction  55760 non-null  object        \n",
      " 39  total_loan_amount     55760 non-null  float64       \n",
      " 40  total_interest_paid   55760 non-null  float64       \n",
      "dtypes: datetime64[ns](2), float64(24), int32(5), int64(9), object(1)\n",
      "memory usage: 16.4+ MB\n"
     ]
    }
   ],
   "source": [
    "train.info()"
   ]
  },
  {
   "cell_type": "code",
   "execution_count": 13,
   "id": "68b50e76",
   "metadata": {
    "execution": {
     "iopub.execute_input": "2024-03-31T18:16:51.531054Z",
     "iopub.status.busy": "2024-03-31T18:16:51.530387Z",
     "iopub.status.idle": "2024-03-31T18:16:51.560001Z",
     "shell.execute_reply": "2024-03-31T18:16:51.558763Z"
    },
    "papermill": {
     "duration": 0.048435,
     "end_time": "2024-03-31T18:16:51.563174",
     "exception": false,
     "start_time": "2024-03-31T18:16:51.514739",
     "status": "completed"
    },
    "tags": []
   },
   "outputs": [],
   "source": [
    "train.drop(columns=['id', '03', '04', '11'], inplace=True)\n",
    "test.drop(columns=['id', '03', '04', '11'], inplace=True)"
   ]
  },
  {
   "cell_type": "code",
   "execution_count": 14,
   "id": "f47cdd63",
   "metadata": {
    "execution": {
     "iopub.execute_input": "2024-03-31T18:16:51.592445Z",
     "iopub.status.busy": "2024-03-31T18:16:51.591750Z",
     "iopub.status.idle": "2024-03-31T18:16:51.642868Z",
     "shell.execute_reply": "2024-03-31T18:16:51.641634Z"
    },
    "papermill": {
     "duration": 0.069289,
     "end_time": "2024-03-31T18:16:51.646060",
     "exception": false,
     "start_time": "2024-03-31T18:16:51.576771",
     "status": "completed"
    },
    "tags": []
   },
   "outputs": [],
   "source": [
    "def onehot_encode(df):\n",
    "    one_hot_encoded = pd.get_dummies(df['employer_interaction'], prefix='employer_interaction')\n",
    "    df = pd.concat([df, one_hot_encoded], axis=1)\n",
    "    df.drop('employer_interaction', axis=1, inplace=True)\n",
    "\n",
    "onehot_encode(train)\n",
    "onehot_encode(test)"
   ]
  },
  {
   "cell_type": "markdown",
   "id": "438dfa87",
   "metadata": {
    "papermill": {
     "duration": 0.013247,
     "end_time": "2024-03-31T18:16:51.673504",
     "exception": false,
     "start_time": "2024-03-31T18:16:51.660257",
     "status": "completed"
    },
    "tags": []
   },
   "source": [
    "## AUTO ML"
   ]
  },
  {
   "cell_type": "code",
   "execution_count": 15,
   "id": "25e5168d",
   "metadata": {
    "execution": {
     "iopub.execute_input": "2024-03-31T18:16:51.704712Z",
     "iopub.status.busy": "2024-03-31T18:16:51.704289Z",
     "iopub.status.idle": "2024-03-31T18:17:10.091683Z",
     "shell.execute_reply": "2024-03-31T18:17:10.089736Z"
    },
    "papermill": {
     "duration": 18.407811,
     "end_time": "2024-03-31T18:17:10.095425",
     "exception": false,
     "start_time": "2024-03-31T18:16:51.687614",
     "status": "completed"
    },
    "tags": []
   },
   "outputs": [
    {
     "name": "stdout",
     "output_type": "stream",
     "text": [
      "Collecting flaml\r\n",
      "  Downloading FLAML-2.1.2-py3-none-any.whl.metadata (15 kB)\r\n",
      "Requirement already satisfied: NumPy>=1.17 in /opt/conda/lib/python3.10/site-packages (from flaml) (1.26.4)\r\n",
      "Downloading FLAML-2.1.2-py3-none-any.whl (296 kB)\r\n",
      "\u001b[2K   \u001b[90m━━━━━━━━━━━━━━━━━━━━━━━━━━━━━━━━━━━━━━━━\u001b[0m \u001b[32m296.7/296.7 kB\u001b[0m \u001b[31m6.6 MB/s\u001b[0m eta \u001b[36m0:00:00\u001b[0m\r\n",
      "\u001b[?25hInstalling collected packages: flaml\r\n",
      "Successfully installed flaml-2.1.2\r\n"
     ]
    }
   ],
   "source": [
    "!pip install flaml"
   ]
  },
  {
   "cell_type": "code",
   "execution_count": 16,
   "id": "6239cb80",
   "metadata": {
    "execution": {
     "iopub.execute_input": "2024-03-31T18:17:10.127720Z",
     "iopub.status.busy": "2024-03-31T18:17:10.127238Z",
     "iopub.status.idle": "2024-03-31T18:17:16.628490Z",
     "shell.execute_reply": "2024-03-31T18:17:16.626940Z"
    },
    "papermill": {
     "duration": 6.520909,
     "end_time": "2024-03-31T18:17:16.631955",
     "exception": false,
     "start_time": "2024-03-31T18:17:10.111046",
     "status": "completed"
    },
    "tags": []
   },
   "outputs": [
    {
     "name": "stderr",
     "output_type": "stream",
     "text": [
      "2024-03-31 18:17:11,289\tINFO util.py:124 -- Outdated packages:\n",
      "  ipywidgets==7.7.1 found, needs ipywidgets>=8\n",
      "Run `pip install -U ipywidgets`, then restart the notebook server for rich notebook output.\n",
      "2024-03-31 18:17:12,452\tINFO util.py:124 -- Outdated packages:\n",
      "  ipywidgets==7.7.1 found, needs ipywidgets>=8\n",
      "Run `pip install -U ipywidgets`, then restart the notebook server for rich notebook output.\n"
     ]
    }
   ],
   "source": [
    "from flaml import AutoML\n",
    "\n",
    "automl = AutoML()\n",
    "automl_settings = {\n",
    "    \"time_budget\": 5,\n",
    "    \"metric\": 'accuracy',\n",
    "    \"task\": 'classification',\n",
    "}"
   ]
  },
  {
   "cell_type": "code",
   "execution_count": 17,
   "id": "5220f2e7",
   "metadata": {
    "execution": {
     "iopub.execute_input": "2024-03-31T18:17:16.666257Z",
     "iopub.status.busy": "2024-03-31T18:17:16.665497Z",
     "iopub.status.idle": "2024-03-31T18:17:16.729426Z",
     "shell.execute_reply": "2024-03-31T18:17:16.727902Z"
    },
    "papermill": {
     "duration": 0.085995,
     "end_time": "2024-03-31T18:17:16.732890",
     "exception": false,
     "start_time": "2024-03-31T18:17:16.646895",
     "status": "completed"
    },
    "tags": []
   },
   "outputs": [],
   "source": [
    "selected_cols = train.select_dtypes(exclude=['object']).columns\n",
    "selected_cols = selected_cols.drop('class', errors='ignore')\n",
    "test_selected_cols = test.select_dtypes(exclude=['object']).columns\n",
    "X_train = train[selected_cols]\n",
    "y_train = train['class']\n",
    "X_test = test[test_selected_cols]"
   ]
  },
  {
   "cell_type": "code",
   "execution_count": 18,
   "id": "3a9d41b2",
   "metadata": {
    "execution": {
     "iopub.execute_input": "2024-03-31T18:17:16.767000Z",
     "iopub.status.busy": "2024-03-31T18:17:16.766559Z",
     "iopub.status.idle": "2024-03-31T18:17:16.809985Z",
     "shell.execute_reply": "2024-03-31T18:17:16.808449Z"
    },
    "papermill": {
     "duration": 0.064398,
     "end_time": "2024-03-31T18:17:16.813391",
     "exception": false,
     "start_time": "2024-03-31T18:17:16.748993",
     "status": "completed"
    },
    "tags": []
   },
   "outputs": [],
   "source": [
    "from sklearn.model_selection import train_test_split\n",
    "\n",
    "X_trainsub, X_valid, y_trainsub, y_valid = train_test_split(X_train, y_train, test_size=0.3, train_size=0.7, random_state=True)"
   ]
  },
  {
   "cell_type": "code",
   "execution_count": 19,
   "id": "8b531784",
   "metadata": {
    "execution": {
     "iopub.execute_input": "2024-03-31T18:17:16.845222Z",
     "iopub.status.busy": "2024-03-31T18:17:16.844397Z",
     "iopub.status.idle": "2024-03-31T18:17:22.210123Z",
     "shell.execute_reply": "2024-03-31T18:17:22.208431Z"
    },
    "papermill": {
     "duration": 5.385199,
     "end_time": "2024-03-31T18:17:22.213357",
     "exception": false,
     "start_time": "2024-03-31T18:17:16.828158",
     "status": "completed"
    },
    "tags": []
   },
   "outputs": [
    {
     "name": "stdout",
     "output_type": "stream",
     "text": [
      "[flaml.automl.logger: 03-31 18:17:17] {1680} INFO - task = classification\n",
      "[flaml.automl.logger: 03-31 18:17:17] {1691} INFO - Evaluation method: holdout\n",
      "[flaml.automl.logger: 03-31 18:17:17] {1789} INFO - Minimizing error metric: 1-accuracy\n",
      "[flaml.automl.logger: 03-31 18:17:17] {1901} INFO - List of ML learners in AutoML Run: ['lgbm', 'rf', 'catboost', 'xgboost', 'extra_tree', 'xgb_limitdepth', 'lrl1']\n",
      "[flaml.automl.logger: 03-31 18:17:17] {2219} INFO - iteration 0, current learner lgbm\n",
      "[flaml.automl.logger: 03-31 18:17:17] {2345} INFO - Estimated sufficient time budget=2392s. Estimated necessary time budget=59s.\n",
      "[flaml.automl.logger: 03-31 18:17:17] {2392} INFO -  at 0.9s,\testimator lgbm's best error=0.0156,\tbest estimator lgbm's best error=0.0156\n",
      "[flaml.automl.logger: 03-31 18:17:17] {2219} INFO - iteration 1, current learner lgbm\n",
      "[flaml.automl.logger: 03-31 18:17:18] {2392} INFO -  at 1.2s,\testimator lgbm's best error=0.0156,\tbest estimator lgbm's best error=0.0156\n",
      "[flaml.automl.logger: 03-31 18:17:18] {2219} INFO - iteration 2, current learner lgbm\n",
      "[flaml.automl.logger: 03-31 18:17:18] {2392} INFO -  at 1.6s,\testimator lgbm's best error=0.0156,\tbest estimator lgbm's best error=0.0156\n",
      "[flaml.automl.logger: 03-31 18:17:18] {2219} INFO - iteration 3, current learner xgboost\n",
      "[flaml.automl.logger: 03-31 18:17:18] {2392} INFO -  at 1.9s,\testimator xgboost's best error=0.0156,\tbest estimator lgbm's best error=0.0156\n",
      "[flaml.automl.logger: 03-31 18:17:18] {2219} INFO - iteration 4, current learner lgbm\n",
      "[flaml.automl.logger: 03-31 18:17:19] {2392} INFO -  at 2.3s,\testimator lgbm's best error=0.0156,\tbest estimator lgbm's best error=0.0156\n",
      "[flaml.automl.logger: 03-31 18:17:19] {2219} INFO - iteration 5, current learner xgboost\n",
      "[flaml.automl.logger: 03-31 18:17:19] {2392} INFO -  at 2.7s,\testimator xgboost's best error=0.0156,\tbest estimator lgbm's best error=0.0156\n",
      "[flaml.automl.logger: 03-31 18:17:19] {2219} INFO - iteration 6, current learner lgbm\n",
      "[flaml.automl.logger: 03-31 18:17:19] {2392} INFO -  at 3.0s,\testimator lgbm's best error=0.0156,\tbest estimator lgbm's best error=0.0156\n",
      "[flaml.automl.logger: 03-31 18:17:19] {2219} INFO - iteration 7, current learner lgbm\n",
      "[flaml.automl.logger: 03-31 18:17:20] {2392} INFO -  at 3.3s,\testimator lgbm's best error=0.0156,\tbest estimator lgbm's best error=0.0156\n",
      "[flaml.automl.logger: 03-31 18:17:20] {2219} INFO - iteration 8, current learner lgbm\n",
      "[flaml.automl.logger: 03-31 18:17:20] {2392} INFO -  at 3.7s,\testimator lgbm's best error=0.0156,\tbest estimator lgbm's best error=0.0156\n",
      "[flaml.automl.logger: 03-31 18:17:20] {2219} INFO - iteration 9, current learner xgboost\n",
      "[flaml.automl.logger: 03-31 18:17:20] {2392} INFO -  at 3.9s,\testimator xgboost's best error=0.0156,\tbest estimator lgbm's best error=0.0156\n",
      "[flaml.automl.logger: 03-31 18:17:20] {2219} INFO - iteration 10, current learner extra_tree\n",
      "[flaml.automl.logger: 03-31 18:17:20] {2392} INFO -  at 4.0s,\testimator extra_tree's best error=0.0156,\tbest estimator lgbm's best error=0.0156\n",
      "[flaml.automl.logger: 03-31 18:17:20] {2219} INFO - iteration 11, current learner extra_tree\n",
      "[flaml.automl.logger: 03-31 18:17:20] {2392} INFO -  at 4.1s,\testimator extra_tree's best error=0.0156,\tbest estimator lgbm's best error=0.0156\n",
      "[flaml.automl.logger: 03-31 18:17:20] {2219} INFO - iteration 12, current learner extra_tree\n",
      "[flaml.automl.logger: 03-31 18:17:21] {2392} INFO -  at 4.2s,\testimator extra_tree's best error=0.0156,\tbest estimator lgbm's best error=0.0156\n",
      "[flaml.automl.logger: 03-31 18:17:21] {2219} INFO - iteration 13, current learner extra_tree\n",
      "[flaml.automl.logger: 03-31 18:17:21] {2392} INFO -  at 4.4s,\testimator extra_tree's best error=0.0156,\tbest estimator lgbm's best error=0.0156\n",
      "[flaml.automl.logger: 03-31 18:17:21] {2219} INFO - iteration 14, current learner extra_tree\n",
      "[flaml.automl.logger: 03-31 18:17:21] {2392} INFO -  at 4.5s,\testimator extra_tree's best error=0.0156,\tbest estimator lgbm's best error=0.0156\n",
      "[flaml.automl.logger: 03-31 18:17:21] {2219} INFO - iteration 15, current learner xgboost\n",
      "[flaml.automl.logger: 03-31 18:17:21] {2392} INFO -  at 4.8s,\testimator xgboost's best error=0.0156,\tbest estimator lgbm's best error=0.0156\n",
      "[flaml.automl.logger: 03-31 18:17:21] {2219} INFO - iteration 16, current learner extra_tree\n",
      "[flaml.automl.logger: 03-31 18:17:21] {2392} INFO -  at 5.0s,\testimator extra_tree's best error=0.0156,\tbest estimator lgbm's best error=0.0156\n",
      "[flaml.automl.logger: 03-31 18:17:21] {2219} INFO - iteration 17, current learner rf\n",
      "[flaml.automl.logger: 03-31 18:17:21] {2392} INFO -  at 5.0s,\testimator rf's best error=0.0156,\tbest estimator lgbm's best error=0.0156\n",
      "[flaml.automl.logger: 03-31 18:17:22] {2628} INFO - retrain lgbm for 0.3s\n",
      "[flaml.automl.logger: 03-31 18:17:22] {2631} INFO - retrained model: LGBMClassifier(learning_rate=0.09999999999999995, max_bin=255, n_estimators=1,\n",
      "               n_jobs=-1, num_leaves=4, reg_alpha=0.0009765625, reg_lambda=1.0,\n",
      "               verbose=-1)\n",
      "[flaml.automl.logger: 03-31 18:17:22] {1931} INFO - fit succeeded\n",
      "[flaml.automl.logger: 03-31 18:17:22] {1932} INFO - Time taken to find the best model: 0.8900356292724609\n"
     ]
    }
   ],
   "source": [
    "automl.fit(X_trainsub, y_trainsub, **automl_settings)"
   ]
  },
  {
   "cell_type": "code",
   "execution_count": 20,
   "id": "ee5b9262",
   "metadata": {
    "execution": {
     "iopub.execute_input": "2024-03-31T18:17:22.254256Z",
     "iopub.status.busy": "2024-03-31T18:17:22.253825Z",
     "iopub.status.idle": "2024-03-31T18:17:22.262026Z",
     "shell.execute_reply": "2024-03-31T18:17:22.260591Z"
    },
    "papermill": {
     "duration": 0.031792,
     "end_time": "2024-03-31T18:17:22.264794",
     "exception": false,
     "start_time": "2024-03-31T18:17:22.233002",
     "status": "completed"
    },
    "tags": []
   },
   "outputs": [
    {
     "name": "stdout",
     "output_type": "stream",
     "text": [
      "Best ML leaner: lgbm\n",
      "Best hyperparmeter config: {'n_estimators': 4, 'num_leaves': 4, 'min_child_samples': 20, 'learning_rate': 0.09999999999999995, 'log_max_bin': 8, 'colsample_bytree': 1.0, 'reg_alpha': 0.0009765625, 'reg_lambda': 1.0}\n",
      "Best log_loss on validation data: 0.01562\n",
      "Training duration of best run: 0.3319 s\n"
     ]
    }
   ],
   "source": [
    "print('Best ML leaner:', automl.best_estimator)\n",
    "print('Best hyperparmeter config:', automl.best_config)\n",
    "print('Best log_loss on validation data: {0:.4g}'.format(automl.best_loss))\n",
    "print('Training duration of best run: {0:.4g} s'.format(automl.best_config_train_time))"
   ]
  },
  {
   "cell_type": "code",
   "execution_count": 21,
   "id": "30e217cc",
   "metadata": {
    "execution": {
     "iopub.execute_input": "2024-03-31T18:17:22.306359Z",
     "iopub.status.busy": "2024-03-31T18:17:22.305925Z",
     "iopub.status.idle": "2024-03-31T18:17:22.350240Z",
     "shell.execute_reply": "2024-03-31T18:17:22.349048Z"
    },
    "papermill": {
     "duration": 0.069538,
     "end_time": "2024-03-31T18:17:22.353536",
     "exception": false,
     "start_time": "2024-03-31T18:17:22.283998",
     "status": "completed"
    },
    "tags": []
   },
   "outputs": [],
   "source": [
    "y_pred1 = automl.predict(X_valid)\n",
    "rounded_predictions1 = np.round(y_pred1)\n",
    "integer_predictions1 = rounded_predictions1.astype(int)"
   ]
  },
  {
   "cell_type": "code",
   "execution_count": 22,
   "id": "bbba67d0",
   "metadata": {
    "execution": {
     "iopub.execute_input": "2024-03-31T18:17:22.395362Z",
     "iopub.status.busy": "2024-03-31T18:17:22.394692Z",
     "iopub.status.idle": "2024-03-31T18:17:22.407255Z",
     "shell.execute_reply": "2024-03-31T18:17:22.405796Z"
    },
    "papermill": {
     "duration": 0.036401,
     "end_time": "2024-03-31T18:17:22.410119",
     "exception": false,
     "start_time": "2024-03-31T18:17:22.373718",
     "status": "completed"
    },
    "tags": []
   },
   "outputs": [
    {
     "name": "stdout",
     "output_type": "stream",
     "text": [
      "Accuracy: 0.9851745576279293\n"
     ]
    }
   ],
   "source": [
    "from sklearn.metrics import accuracy_score\n",
    "\n",
    "accuracy1 = accuracy_score(y_valid, integer_predictions1)\n",
    "print(\"Accuracy:\", accuracy1)"
   ]
  },
  {
   "cell_type": "markdown",
   "id": "9eaab3b8",
   "metadata": {
    "papermill": {
     "duration": 0.018316,
     "end_time": "2024-03-31T18:17:22.446846",
     "exception": false,
     "start_time": "2024-03-31T18:17:22.428530",
     "status": "completed"
    },
    "tags": []
   },
   "source": [
    "## KNN Neighbors"
   ]
  },
  {
   "cell_type": "code",
   "execution_count": 23,
   "id": "7760d31f",
   "metadata": {
    "execution": {
     "iopub.execute_input": "2024-03-31T18:17:22.486551Z",
     "iopub.status.busy": "2024-03-31T18:17:22.485962Z",
     "iopub.status.idle": "2024-03-31T18:17:22.579364Z",
     "shell.execute_reply": "2024-03-31T18:17:22.577735Z"
    },
    "papermill": {
     "duration": 0.117174,
     "end_time": "2024-03-31T18:17:22.582584",
     "exception": false,
     "start_time": "2024-03-31T18:17:22.465410",
     "status": "completed"
    },
    "tags": []
   },
   "outputs": [],
   "source": [
    "X_trainsub = X_trainsub.fillna(X_trainsub.median()) \n",
    "X_valid = X_valid.fillna(X_valid.median()) "
   ]
  },
  {
   "cell_type": "code",
   "execution_count": 24,
   "id": "1d9906d8",
   "metadata": {
    "execution": {
     "iopub.execute_input": "2024-03-31T18:17:22.621336Z",
     "iopub.status.busy": "2024-03-31T18:17:22.620810Z",
     "iopub.status.idle": "2024-03-31T18:17:22.649856Z",
     "shell.execute_reply": "2024-03-31T18:17:22.648509Z"
    },
    "papermill": {
     "duration": 0.052263,
     "end_time": "2024-03-31T18:17:22.652949",
     "exception": false,
     "start_time": "2024-03-31T18:17:22.600686",
     "status": "completed"
    },
    "tags": []
   },
   "outputs": [
    {
     "data": {
      "text/html": [
       "<style>#sk-container-id-1 {color: black;background-color: white;}#sk-container-id-1 pre{padding: 0;}#sk-container-id-1 div.sk-toggleable {background-color: white;}#sk-container-id-1 label.sk-toggleable__label {cursor: pointer;display: block;width: 100%;margin-bottom: 0;padding: 0.3em;box-sizing: border-box;text-align: center;}#sk-container-id-1 label.sk-toggleable__label-arrow:before {content: \"▸\";float: left;margin-right: 0.25em;color: #696969;}#sk-container-id-1 label.sk-toggleable__label-arrow:hover:before {color: black;}#sk-container-id-1 div.sk-estimator:hover label.sk-toggleable__label-arrow:before {color: black;}#sk-container-id-1 div.sk-toggleable__content {max-height: 0;max-width: 0;overflow: hidden;text-align: left;background-color: #f0f8ff;}#sk-container-id-1 div.sk-toggleable__content pre {margin: 0.2em;color: black;border-radius: 0.25em;background-color: #f0f8ff;}#sk-container-id-1 input.sk-toggleable__control:checked~div.sk-toggleable__content {max-height: 200px;max-width: 100%;overflow: auto;}#sk-container-id-1 input.sk-toggleable__control:checked~label.sk-toggleable__label-arrow:before {content: \"▾\";}#sk-container-id-1 div.sk-estimator input.sk-toggleable__control:checked~label.sk-toggleable__label {background-color: #d4ebff;}#sk-container-id-1 div.sk-label input.sk-toggleable__control:checked~label.sk-toggleable__label {background-color: #d4ebff;}#sk-container-id-1 input.sk-hidden--visually {border: 0;clip: rect(1px 1px 1px 1px);clip: rect(1px, 1px, 1px, 1px);height: 1px;margin: -1px;overflow: hidden;padding: 0;position: absolute;width: 1px;}#sk-container-id-1 div.sk-estimator {font-family: monospace;background-color: #f0f8ff;border: 1px dotted black;border-radius: 0.25em;box-sizing: border-box;margin-bottom: 0.5em;}#sk-container-id-1 div.sk-estimator:hover {background-color: #d4ebff;}#sk-container-id-1 div.sk-parallel-item::after {content: \"\";width: 100%;border-bottom: 1px solid gray;flex-grow: 1;}#sk-container-id-1 div.sk-label:hover label.sk-toggleable__label {background-color: #d4ebff;}#sk-container-id-1 div.sk-serial::before {content: \"\";position: absolute;border-left: 1px solid gray;box-sizing: border-box;top: 0;bottom: 0;left: 50%;z-index: 0;}#sk-container-id-1 div.sk-serial {display: flex;flex-direction: column;align-items: center;background-color: white;padding-right: 0.2em;padding-left: 0.2em;position: relative;}#sk-container-id-1 div.sk-item {position: relative;z-index: 1;}#sk-container-id-1 div.sk-parallel {display: flex;align-items: stretch;justify-content: center;background-color: white;position: relative;}#sk-container-id-1 div.sk-item::before, #sk-container-id-1 div.sk-parallel-item::before {content: \"\";position: absolute;border-left: 1px solid gray;box-sizing: border-box;top: 0;bottom: 0;left: 50%;z-index: -1;}#sk-container-id-1 div.sk-parallel-item {display: flex;flex-direction: column;z-index: 1;position: relative;background-color: white;}#sk-container-id-1 div.sk-parallel-item:first-child::after {align-self: flex-end;width: 50%;}#sk-container-id-1 div.sk-parallel-item:last-child::after {align-self: flex-start;width: 50%;}#sk-container-id-1 div.sk-parallel-item:only-child::after {width: 0;}#sk-container-id-1 div.sk-dashed-wrapped {border: 1px dashed gray;margin: 0 0.4em 0.5em 0.4em;box-sizing: border-box;padding-bottom: 0.4em;background-color: white;}#sk-container-id-1 div.sk-label label {font-family: monospace;font-weight: bold;display: inline-block;line-height: 1.2em;}#sk-container-id-1 div.sk-label-container {text-align: center;}#sk-container-id-1 div.sk-container {/* jupyter's `normalize.less` sets `[hidden] { display: none; }` but bootstrap.min.css set `[hidden] { display: none !important; }` so we also need the `!important` here to be able to override the default hidden behavior on the sphinx rendered scikit-learn.org. See: https://github.com/scikit-learn/scikit-learn/issues/21755 */display: inline-block !important;position: relative;}#sk-container-id-1 div.sk-text-repr-fallback {display: none;}</style><div id=\"sk-container-id-1\" class=\"sk-top-container\"><div class=\"sk-text-repr-fallback\"><pre>KNeighborsClassifier(n_neighbors=3)</pre><b>In a Jupyter environment, please rerun this cell to show the HTML representation or trust the notebook. <br />On GitHub, the HTML representation is unable to render, please try loading this page with nbviewer.org.</b></div><div class=\"sk-container\" hidden><div class=\"sk-item\"><div class=\"sk-estimator sk-toggleable\"><input class=\"sk-toggleable__control sk-hidden--visually\" id=\"sk-estimator-id-1\" type=\"checkbox\" checked><label for=\"sk-estimator-id-1\" class=\"sk-toggleable__label sk-toggleable__label-arrow\">KNeighborsClassifier</label><div class=\"sk-toggleable__content\"><pre>KNeighborsClassifier(n_neighbors=3)</pre></div></div></div></div></div>"
      ],
      "text/plain": [
       "KNeighborsClassifier(n_neighbors=3)"
      ]
     },
     "execution_count": 24,
     "metadata": {},
     "output_type": "execute_result"
    }
   ],
   "source": [
    "from sklearn.neighbors import KNeighborsClassifier\n",
    "\n",
    "knn = KNeighborsClassifier(n_neighbors=3)\n",
    "knn.fit(X_trainsub, y_trainsub)"
   ]
  },
  {
   "cell_type": "code",
   "execution_count": 25,
   "id": "28c84799",
   "metadata": {
    "execution": {
     "iopub.execute_input": "2024-03-31T18:17:22.693458Z",
     "iopub.status.busy": "2024-03-31T18:17:22.691781Z",
     "iopub.status.idle": "2024-03-31T18:17:28.334253Z",
     "shell.execute_reply": "2024-03-31T18:17:28.332998Z"
    },
    "papermill": {
     "duration": 5.666106,
     "end_time": "2024-03-31T18:17:28.337590",
     "exception": false,
     "start_time": "2024-03-31T18:17:22.671484",
     "status": "completed"
    },
    "tags": []
   },
   "outputs": [],
   "source": [
    "y_pred2 = knn.predict(X_valid)\n",
    "rounded_predictions2 = np.round(y_pred2)\n",
    "integer_predictions2 = rounded_predictions2.astype(int)"
   ]
  },
  {
   "cell_type": "code",
   "execution_count": 26,
   "id": "edc52eff",
   "metadata": {
    "execution": {
     "iopub.execute_input": "2024-03-31T18:17:28.377863Z",
     "iopub.status.busy": "2024-03-31T18:17:28.377417Z",
     "iopub.status.idle": "2024-03-31T18:17:28.389323Z",
     "shell.execute_reply": "2024-03-31T18:17:28.387792Z"
    },
    "papermill": {
     "duration": 0.035853,
     "end_time": "2024-03-31T18:17:28.392614",
     "exception": false,
     "start_time": "2024-03-31T18:17:28.356761",
     "status": "completed"
    },
    "tags": []
   },
   "outputs": [
    {
     "name": "stdout",
     "output_type": "stream",
     "text": [
      "Accuracy: 0.983739837398374\n"
     ]
    }
   ],
   "source": [
    "accuracy2 = accuracy_score(y_valid, integer_predictions2)\n",
    "print(\"Accuracy:\", accuracy2)"
   ]
  },
  {
   "cell_type": "markdown",
   "id": "6c2101fb",
   "metadata": {
    "papermill": {
     "duration": 0.019153,
     "end_time": "2024-03-31T18:17:28.432743",
     "exception": false,
     "start_time": "2024-03-31T18:17:28.413590",
     "status": "completed"
    },
    "tags": []
   },
   "source": [
    "## TFDF Gradient Boosted"
   ]
  },
  {
   "cell_type": "code",
   "execution_count": 27,
   "id": "0fbde055",
   "metadata": {
    "execution": {
     "iopub.execute_input": "2024-03-31T18:17:28.475950Z",
     "iopub.status.busy": "2024-03-31T18:17:28.475550Z",
     "iopub.status.idle": "2024-03-31T18:17:28.509353Z",
     "shell.execute_reply": "2024-03-31T18:17:28.508125Z"
    },
    "papermill": {
     "duration": 0.059996,
     "end_time": "2024-03-31T18:17:28.512197",
     "exception": false,
     "start_time": "2024-03-31T18:17:28.452201",
     "status": "completed"
    },
    "tags": []
   },
   "outputs": [],
   "source": [
    "x,valid = train_test_split(train, test_size=0.3, train_size=0.7, random_state=True)"
   ]
  },
  {
   "cell_type": "code",
   "execution_count": 28,
   "id": "87bab40f",
   "metadata": {
    "execution": {
     "iopub.execute_input": "2024-03-31T18:17:28.620867Z",
     "iopub.status.busy": "2024-03-31T18:17:28.620468Z",
     "iopub.status.idle": "2024-03-31T18:17:46.066004Z",
     "shell.execute_reply": "2024-03-31T18:17:46.065018Z"
    },
    "papermill": {
     "duration": 17.537396,
     "end_time": "2024-03-31T18:17:46.068845",
     "exception": false,
     "start_time": "2024-03-31T18:17:28.531449",
     "status": "completed"
    },
    "tags": []
   },
   "outputs": [
    {
     "name": "stderr",
     "output_type": "stream",
     "text": [
      "2024-03-31 18:17:31.227550: E external/local_xla/xla/stream_executor/cuda/cuda_dnn.cc:9261] Unable to register cuDNN factory: Attempting to register factory for plugin cuDNN when one has already been registered\n",
      "2024-03-31 18:17:31.227730: E external/local_xla/xla/stream_executor/cuda/cuda_fft.cc:607] Unable to register cuFFT factory: Attempting to register factory for plugin cuFFT when one has already been registered\n",
      "2024-03-31 18:17:31.430108: E external/local_xla/xla/stream_executor/cuda/cuda_blas.cc:1515] Unable to register cuBLAS factory: Attempting to register factory for plugin cuBLAS when one has already been registered\n"
     ]
    }
   ],
   "source": [
    "import tensorflow_decision_forests as tfdf\n",
    "\n",
    "df_train = tfdf.keras.pd_dataframe_to_tf_dataset(train, label=\"class\")\n",
    "df_valid = tfdf.keras.pd_dataframe_to_tf_dataset(valid, label=\"class\")\n",
    "df_test = tfdf.keras.pd_dataframe_to_tf_dataset(test)"
   ]
  },
  {
   "cell_type": "code",
   "execution_count": 29,
   "id": "0f7a747b",
   "metadata": {
    "execution": {
     "iopub.execute_input": "2024-03-31T18:17:46.110122Z",
     "iopub.status.busy": "2024-03-31T18:17:46.108949Z",
     "iopub.status.idle": "2024-03-31T18:19:15.700272Z",
     "shell.execute_reply": "2024-03-31T18:19:15.698583Z"
    },
    "papermill": {
     "duration": 89.634938,
     "end_time": "2024-03-31T18:19:15.722740",
     "exception": false,
     "start_time": "2024-03-31T18:17:46.087802",
     "status": "completed"
    },
    "tags": []
   },
   "outputs": [
    {
     "name": "stdout",
     "output_type": "stream",
     "text": [
      "Resolve hyper-parameter template \"better_default@v1\" to \"better_default@v1\" -> {'growing_strategy': 'BEST_FIRST_GLOBAL'}.\n",
      "Use /tmp/tmprhn5bpk0 as temporary training directory\n",
      "Reading training dataset...\n"
     ]
    },
    {
     "name": "stderr",
     "output_type": "stream",
     "text": [
      "[WARNING 24-03-31 18:17:46.1547 UTC gradient_boosted_trees.cc:1886] \"goss_alpha\" set but \"sampling_method\" not equal to \"GOSS\".\n",
      "[WARNING 24-03-31 18:17:46.1561 UTC gradient_boosted_trees.cc:1897] \"goss_beta\" set but \"sampling_method\" not equal to \"GOSS\".\n",
      "[WARNING 24-03-31 18:17:46.1562 UTC gradient_boosted_trees.cc:1911] \"selective_gradient_boosting_ratio\" set but \"sampling_method\" not equal to \"SELGB\".\n"
     ]
    },
    {
     "name": "stdout",
     "output_type": "stream",
     "text": [
      "Training dataset read in 0:00:09.182321. Found 55760 examples.\n",
      "Training model...\n",
      "Model trained in 0:00:34.351287\n",
      "Compiling model...\n"
     ]
    },
    {
     "name": "stderr",
     "output_type": "stream",
     "text": [
      "[INFO 24-03-31 18:18:29.7167 UTC kernel.cc:1233] Loading model from path /tmp/tmprhn5bpk0/model/ with prefix ee28ef562de24179\n",
      "[INFO 24-03-31 18:18:29.7294 UTC quick_scorer_extended.cc:903] The binary was compiled without AVX2 support, but your CPU supports it. Enable it for faster model inference.\n",
      "[INFO 24-03-31 18:18:29.7304 UTC abstract_model.cc:1344] Engine \"GradientBoostedTreesQuickScorerExtended\" built\n",
      "[INFO 24-03-31 18:18:29.7305 UTC kernel.cc:1061] Use fast generic engine\n"
     ]
    },
    {
     "name": "stdout",
     "output_type": "stream",
     "text": [
      "Model compiled.\n"
     ]
    },
    {
     "data": {
      "text/plain": [
       "<tf_keras.src.callbacks.History at 0x7a19494f9c60>"
      ]
     },
     "execution_count": 29,
     "metadata": {},
     "output_type": "execute_result"
    }
   ],
   "source": [
    "model = tfdf.keras.GradientBoostedTreesModel(hyperparameter_template=\"better_default@v1\")\n",
    "model.fit(df_train)"
   ]
  },
  {
   "cell_type": "code",
   "execution_count": 30,
   "id": "ec37ad95",
   "metadata": {
    "execution": {
     "iopub.execute_input": "2024-03-31T18:19:15.764759Z",
     "iopub.status.busy": "2024-03-31T18:19:15.764363Z",
     "iopub.status.idle": "2024-03-31T18:19:15.776038Z",
     "shell.execute_reply": "2024-03-31T18:19:15.774450Z"
    },
    "papermill": {
     "duration": 0.036293,
     "end_time": "2024-03-31T18:19:15.778906",
     "exception": false,
     "start_time": "2024-03-31T18:19:15.742613",
     "status": "completed"
    },
    "tags": []
   },
   "outputs": [
    {
     "data": {
      "text/plain": [
       "Evaluation(num_examples=None, accuracy=0.9864840507507324, loss=0.11983446031808853, rmse=None, ndcg=None, aucs=None, auuc=None, qini=None)"
      ]
     },
     "execution_count": 30,
     "metadata": {},
     "output_type": "execute_result"
    }
   ],
   "source": [
    "model.make_inspector().evaluation()"
   ]
  },
  {
   "cell_type": "markdown",
   "id": "bb150954",
   "metadata": {
    "papermill": {
     "duration": 0.019733,
     "end_time": "2024-03-31T18:19:15.818714",
     "exception": false,
     "start_time": "2024-03-31T18:19:15.798981",
     "status": "completed"
    },
    "tags": []
   },
   "source": [
    "## Conclusion\n",
    "Since TFDF GradientBoosted displayed a higher accuracy. It will be used."
   ]
  },
  {
   "cell_type": "code",
   "execution_count": 31,
   "id": "11e619c9",
   "metadata": {
    "execution": {
     "iopub.execute_input": "2024-03-31T18:19:15.861054Z",
     "iopub.status.busy": "2024-03-31T18:19:15.860641Z",
     "iopub.status.idle": "2024-03-31T18:19:16.604524Z",
     "shell.execute_reply": "2024-03-31T18:19:16.603030Z"
    },
    "papermill": {
     "duration": 0.76943,
     "end_time": "2024-03-31T18:19:16.608346",
     "exception": false,
     "start_time": "2024-03-31T18:19:15.838916",
     "status": "completed"
    },
    "tags": []
   },
   "outputs": [
    {
     "name": "stdout",
     "output_type": "stream",
     "text": [
      "14/14 [==============================] - 1s 35ms/step\n"
     ]
    }
   ],
   "source": [
    "y_pred = model.predict(df_test)"
   ]
  },
  {
   "cell_type": "code",
   "execution_count": 32,
   "id": "dfccaa09",
   "metadata": {
    "execution": {
     "iopub.execute_input": "2024-03-31T18:19:16.658294Z",
     "iopub.status.busy": "2024-03-31T18:19:16.657761Z",
     "iopub.status.idle": "2024-03-31T18:19:16.665562Z",
     "shell.execute_reply": "2024-03-31T18:19:16.663936Z"
    },
    "papermill": {
     "duration": 0.03767,
     "end_time": "2024-03-31T18:19:16.668407",
     "exception": false,
     "start_time": "2024-03-31T18:19:16.630737",
     "status": "completed"
    },
    "tags": []
   },
   "outputs": [],
   "source": [
    "rounded_predictions = np.round(y_pred)\n",
    "integer_predictions = rounded_predictions.astype(int)\n",
    "submit['class'] = integer_predictions"
   ]
  },
  {
   "cell_type": "code",
   "execution_count": 33,
   "id": "7814d052",
   "metadata": {
    "execution": {
     "iopub.execute_input": "2024-03-31T18:19:16.714531Z",
     "iopub.status.busy": "2024-03-31T18:19:16.714107Z",
     "iopub.status.idle": "2024-03-31T18:19:16.723601Z",
     "shell.execute_reply": "2024-03-31T18:19:16.722109Z"
    },
    "papermill": {
     "duration": 0.035625,
     "end_time": "2024-03-31T18:19:16.726385",
     "exception": false,
     "start_time": "2024-03-31T18:19:16.690760",
     "status": "completed"
    },
    "tags": []
   },
   "outputs": [
    {
     "data": {
      "text/plain": [
       "array([0, 1])"
      ]
     },
     "execution_count": 33,
     "metadata": {},
     "output_type": "execute_result"
    }
   ],
   "source": [
    "submit['class'].unique()"
   ]
  },
  {
   "cell_type": "code",
   "execution_count": 34,
   "id": "34692d73",
   "metadata": {
    "execution": {
     "iopub.execute_input": "2024-03-31T18:19:16.773244Z",
     "iopub.status.busy": "2024-03-31T18:19:16.772786Z",
     "iopub.status.idle": "2024-03-31T18:19:16.786200Z",
     "shell.execute_reply": "2024-03-31T18:19:16.784987Z"
    },
    "papermill": {
     "duration": 0.041615,
     "end_time": "2024-03-31T18:19:16.789666",
     "exception": false,
     "start_time": "2024-03-31T18:19:16.748051",
     "status": "completed"
    },
    "tags": []
   },
   "outputs": [
    {
     "data": {
      "text/plain": [
       "class\n",
       "0    13766\n",
       "1      174\n",
       "Name: count, dtype: int64"
      ]
     },
     "execution_count": 34,
     "metadata": {},
     "output_type": "execute_result"
    }
   ],
   "source": [
    "submit['class'].value_counts()"
   ]
  },
  {
   "cell_type": "code",
   "execution_count": 35,
   "id": "4c005880",
   "metadata": {
    "execution": {
     "iopub.execute_input": "2024-03-31T18:19:16.837731Z",
     "iopub.status.busy": "2024-03-31T18:19:16.837322Z",
     "iopub.status.idle": "2024-03-31T18:19:16.864240Z",
     "shell.execute_reply": "2024-03-31T18:19:16.862178Z"
    },
    "papermill": {
     "duration": 0.054496,
     "end_time": "2024-03-31T18:19:16.867965",
     "exception": false,
     "start_time": "2024-03-31T18:19:16.813469",
     "status": "completed"
    },
    "tags": []
   },
   "outputs": [],
   "source": [
    "submit.to_csv('submission.csv',index=False)"
   ]
  }
 ],
 "metadata": {
  "kaggle": {
   "accelerator": "none",
   "dataSources": [
    {
     "databundleVersionId": 7799805,
     "sourceId": 71331,
     "sourceType": "competition"
    }
   ],
   "dockerImageVersionId": 30673,
   "isGpuEnabled": false,
   "isInternetEnabled": true,
   "language": "python",
   "sourceType": "notebook"
  },
  "kernelspec": {
   "display_name": "Python 3",
   "language": "python",
   "name": "python3"
  },
  "language_info": {
   "codemirror_mode": {
    "name": "ipython",
    "version": 3
   },
   "file_extension": ".py",
   "mimetype": "text/x-python",
   "name": "python",
   "nbconvert_exporter": "python",
   "pygments_lexer": "ipython3",
   "version": "3.10.13"
  },
  "papermill": {
   "default_parameters": {},
   "duration": 154.407557,
   "end_time": "2024-03-31T18:19:19.937397",
   "environment_variables": {},
   "exception": null,
   "input_path": "__notebook__.ipynb",
   "output_path": "__notebook__.ipynb",
   "parameters": {},
   "start_time": "2024-03-31T18:16:45.529840",
   "version": "2.5.0"
  }
 },
 "nbformat": 4,
 "nbformat_minor": 5
}
