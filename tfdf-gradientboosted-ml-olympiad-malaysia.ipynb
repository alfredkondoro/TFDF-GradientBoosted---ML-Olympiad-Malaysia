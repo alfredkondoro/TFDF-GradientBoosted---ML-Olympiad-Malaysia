{
 "cells": [
  {
   "cell_type": "code",
   "execution_count": 1,
   "id": "f68f63f4",
   "metadata": {
    "_cell_guid": "b1076dfc-b9ad-4769-8c92-a6c4dae69d19",
    "_uuid": "8f2839f25d086af736a60e9eeb907d3b93b6e0e5",
    "execution": {
     "iopub.execute_input": "2024-03-31T17:30:50.529022Z",
     "iopub.status.busy": "2024-03-31T17:30:50.528609Z",
     "iopub.status.idle": "2024-03-31T17:30:51.556541Z",
     "shell.execute_reply": "2024-03-31T17:30:51.554613Z"
    },
    "papermill": {
     "duration": 1.036465,
     "end_time": "2024-03-31T17:30:51.559228",
     "exception": false,
     "start_time": "2024-03-31T17:30:50.522763",
     "status": "completed"
    },
    "tags": []
   },
   "outputs": [],
   "source": [
    "import numpy as np\n",
    "import pandas as pd\n",
    "\n",
    "import warnings\n",
    "warnings.simplefilter(action='ignore', category=FutureWarning)"
   ]
  },
  {
   "cell_type": "code",
   "execution_count": 2,
   "id": "bfbd2351",
   "metadata": {
    "execution": {
     "iopub.execute_input": "2024-03-31T17:30:51.570392Z",
     "iopub.status.busy": "2024-03-31T17:30:51.569801Z",
     "iopub.status.idle": "2024-03-31T17:30:51.833972Z",
     "shell.execute_reply": "2024-03-31T17:30:51.832734Z"
    },
    "papermill": {
     "duration": 0.271684,
     "end_time": "2024-03-31T17:30:51.836252",
     "exception": false,
     "start_time": "2024-03-31T17:30:51.564568",
     "status": "completed"
    },
    "tags": []
   },
   "outputs": [],
   "source": [
    "train = pd.read_csv('/kaggle/input/ml-olympiad-ai-ml-malaysia/train.csv')\n",
    "test = pd.read_csv('/kaggle/input/ml-olympiad-ai-ml-malaysia/test.csv')"
   ]
  },
  {
   "cell_type": "code",
   "execution_count": 3,
   "id": "3dc49864",
   "metadata": {
    "execution": {
     "iopub.execute_input": "2024-03-31T17:30:51.844853Z",
     "iopub.status.busy": "2024-03-31T17:30:51.844419Z",
     "iopub.status.idle": "2024-03-31T17:30:51.883648Z",
     "shell.execute_reply": "2024-03-31T17:30:51.882511Z"
    },
    "papermill": {
     "duration": 0.046724,
     "end_time": "2024-03-31T17:30:51.886517",
     "exception": false,
     "start_time": "2024-03-31T17:30:51.839793",
     "status": "completed"
    },
    "tags": []
   },
   "outputs": [
    {
     "name": "stdout",
     "output_type": "stream",
     "text": [
      "<class 'pandas.core.frame.DataFrame'>\n",
      "RangeIndex: 55760 entries, 0 to 55759\n",
      "Data columns (total 21 columns):\n",
      " #   Column  Non-Null Count  Dtype  \n",
      "---  ------  --------------  -----  \n",
      " 0   id      55760 non-null  int64  \n",
      " 1   02      55760 non-null  int64  \n",
      " 2   03      55752 non-null  object \n",
      " 3   04      55760 non-null  object \n",
      " 4   05      55760 non-null  int64  \n",
      " 5   06      55102 non-null  float64\n",
      " 6   07      55760 non-null  int64  \n",
      " 7   08      52567 non-null  float64\n",
      " 8   09      52336 non-null  float64\n",
      " 9   10      55760 non-null  float64\n",
      " 10  11      55760 non-null  int64  \n",
      " 11  12      48289 non-null  float64\n",
      " 12  13      55760 non-null  int64  \n",
      " 13  14      55760 non-null  int64  \n",
      " 14  15      55760 non-null  int64  \n",
      " 15  16      55719 non-null  float64\n",
      " 16  17      33629 non-null  float64\n",
      " 17  18      33629 non-null  float64\n",
      " 18  19      17819 non-null  float64\n",
      " 19  20      55719 non-null  float64\n",
      " 20  class   55760 non-null  int64  \n",
      "dtypes: float64(10), int64(9), object(2)\n",
      "memory usage: 8.9+ MB\n"
     ]
    }
   ],
   "source": [
    "train.info()"
   ]
  },
  {
   "cell_type": "code",
   "execution_count": 4,
   "id": "be34169a",
   "metadata": {
    "execution": {
     "iopub.execute_input": "2024-03-31T17:30:51.895626Z",
     "iopub.status.busy": "2024-03-31T17:30:51.895183Z",
     "iopub.status.idle": "2024-03-31T17:30:51.908224Z",
     "shell.execute_reply": "2024-03-31T17:30:51.906731Z"
    },
    "papermill": {
     "duration": 0.020535,
     "end_time": "2024-03-31T17:30:51.910906",
     "exception": false,
     "start_time": "2024-03-31T17:30:51.890371",
     "status": "completed"
    },
    "tags": []
   },
   "outputs": [
    {
     "data": {
      "text/plain": [
       "array([0, 1])"
      ]
     },
     "execution_count": 4,
     "metadata": {},
     "output_type": "execute_result"
    }
   ],
   "source": [
    "train['class'].unique()"
   ]
  },
  {
   "cell_type": "code",
   "execution_count": 5,
   "id": "9b780c63",
   "metadata": {
    "execution": {
     "iopub.execute_input": "2024-03-31T17:30:51.920457Z",
     "iopub.status.busy": "2024-03-31T17:30:51.920008Z",
     "iopub.status.idle": "2024-03-31T17:30:51.932332Z",
     "shell.execute_reply": "2024-03-31T17:30:51.930768Z"
    },
    "papermill": {
     "duration": 0.020413,
     "end_time": "2024-03-31T17:30:51.935176",
     "exception": false,
     "start_time": "2024-03-31T17:30:51.914763",
     "status": "completed"
    },
    "tags": []
   },
   "outputs": [
    {
     "data": {
      "text/plain": [
       "class\n",
       "0    54916\n",
       "1      844\n",
       "Name: count, dtype: int64"
      ]
     },
     "execution_count": 5,
     "metadata": {},
     "output_type": "execute_result"
    }
   ],
   "source": [
    "train['class'].value_counts()"
   ]
  },
  {
   "cell_type": "code",
   "execution_count": 6,
   "id": "3bae82eb",
   "metadata": {
    "execution": {
     "iopub.execute_input": "2024-03-31T17:30:51.944427Z",
     "iopub.status.busy": "2024-03-31T17:30:51.944052Z",
     "iopub.status.idle": "2024-03-31T17:30:51.958279Z",
     "shell.execute_reply": "2024-03-31T17:30:51.956901Z"
    },
    "papermill": {
     "duration": 0.021568,
     "end_time": "2024-03-31T17:30:51.960632",
     "exception": false,
     "start_time": "2024-03-31T17:30:51.939064",
     "status": "completed"
    },
    "tags": []
   },
   "outputs": [
    {
     "name": "stdout",
     "output_type": "stream",
     "text": [
      "<class 'pandas.core.frame.DataFrame'>\n",
      "RangeIndex: 13940 entries, 0 to 13939\n",
      "Data columns (total 20 columns):\n",
      " #   Column  Non-Null Count  Dtype  \n",
      "---  ------  --------------  -----  \n",
      " 0   id      13940 non-null  int64  \n",
      " 1   02      13940 non-null  int64  \n",
      " 2   03      13933 non-null  object \n",
      " 3   04      13940 non-null  object \n",
      " 4   05      13940 non-null  int64  \n",
      " 5   06      13784 non-null  float64\n",
      " 6   07      13940 non-null  int64  \n",
      " 7   08      13115 non-null  float64\n",
      " 8   09      13066 non-null  float64\n",
      " 9   10      13940 non-null  float64\n",
      " 10  11      13940 non-null  int64  \n",
      " 11  12      12023 non-null  float64\n",
      " 12  13      13940 non-null  int64  \n",
      " 13  14      13940 non-null  int64  \n",
      " 14  15      13940 non-null  int64  \n",
      " 15  16      13930 non-null  float64\n",
      " 16  17      8366 non-null   float64\n",
      " 17  18      8366 non-null   float64\n",
      " 18  19      4452 non-null   float64\n",
      " 19  20      13930 non-null  float64\n",
      "dtypes: float64(10), int64(8), object(2)\n",
      "memory usage: 2.1+ MB\n"
     ]
    }
   ],
   "source": [
    "test.info()"
   ]
  },
  {
   "cell_type": "code",
   "execution_count": 7,
   "id": "90c95b82",
   "metadata": {
    "execution": {
     "iopub.execute_input": "2024-03-31T17:30:51.970294Z",
     "iopub.status.busy": "2024-03-31T17:30:51.969849Z",
     "iopub.status.idle": "2024-03-31T17:30:52.006737Z",
     "shell.execute_reply": "2024-03-31T17:30:52.005512Z"
    },
    "papermill": {
     "duration": 0.044573,
     "end_time": "2024-03-31T17:30:52.009170",
     "exception": false,
     "start_time": "2024-03-31T17:30:51.964597",
     "status": "completed"
    },
    "tags": []
   },
   "outputs": [],
   "source": [
    "cols_to_impute = ['06', '08', '09', '12', '16', '17', '18', '19', '20']\n",
    "\n",
    "def impute_dataset(df):\n",
    "    for column in cols_to_impute:\n",
    "        median_value = int(df[column].median())\n",
    "        df[column].fillna(median_value, inplace=True)    \n",
    "    #for the date\n",
    "    mode_value = df[column].mode()[0]\n",
    "    df['03'].fillna(mode_value, inplace=True)\n",
    "\n",
    "impute_dataset(train)\n",
    "impute_dataset(test)"
   ]
  },
  {
   "cell_type": "code",
   "execution_count": 8,
   "id": "108d7969",
   "metadata": {
    "execution": {
     "iopub.execute_input": "2024-03-31T17:30:52.019181Z",
     "iopub.status.busy": "2024-03-31T17:30:52.018547Z",
     "iopub.status.idle": "2024-03-31T17:30:52.103658Z",
     "shell.execute_reply": "2024-03-31T17:30:52.101933Z"
    },
    "papermill": {
     "duration": 0.093046,
     "end_time": "2024-03-31T17:30:52.106198",
     "exception": false,
     "start_time": "2024-03-31T17:30:52.013152",
     "status": "completed"
    },
    "tags": []
   },
   "outputs": [],
   "source": [
    "def date_features(df):\n",
    "    df['03'] = pd.to_datetime(df['03'], errors='coerce')\n",
    "    df['04'] = pd.to_datetime(df['04'], errors='coerce')\n",
    "\n",
    "    df['dob_year'] = df['03'].dt.year\n",
    "    df['dob_month'] = df['03'].dt.month\n",
    "    df['dob_day'] = df['03'].dt.day\n",
    "    df['dob_dayofweek'] = df['03'].dt.dayofweek\n",
    "    df['dob_quarter'] = df['03'].dt.quarter\n",
    "\n",
    "    df['lead_year'] = df['04'].dt.year\n",
    "    df['lead_month'] = df['04'].dt.month\n",
    "    df['lead_day'] = df['04'].dt.day\n",
    "    df['lead_dayofweek'] = df['04'].dt.dayofweek\n",
    "    df['lead_quarter'] = df['04'].dt.quarter\n",
    "\n",
    "    # Calculate the age of the applicant at the time of lead creation based on the date of birth\n",
    "    df['age_at_lead_creation'] = df['04'].dt.year - df['03'].dt.year\n",
    "    \n",
    "date_features(train)    \n",
    "date_features(test)"
   ]
  },
  {
   "cell_type": "code",
   "execution_count": 9,
   "id": "1b46d95d",
   "metadata": {
    "execution": {
     "iopub.execute_input": "2024-03-31T17:30:52.116182Z",
     "iopub.status.busy": "2024-03-31T17:30:52.115776Z",
     "iopub.status.idle": "2024-03-31T17:30:52.138954Z",
     "shell.execute_reply": "2024-03-31T17:30:52.137741Z"
    },
    "papermill": {
     "duration": 0.031322,
     "end_time": "2024-03-31T17:30:52.141655",
     "exception": false,
     "start_time": "2024-03-31T17:30:52.110333",
     "status": "completed"
    },
    "tags": []
   },
   "outputs": [],
   "source": [
    "def numerical_features(df):\n",
    "    numcols = ['10', '16', '17', '18', '19', '20']\n",
    "    # Normalize numerical features to bring them to a similar scale\n",
    "    for col in numcols:\n",
    "        df[col + '_normalized'] = (df[col] - df[col].mean()) / df[col].std()\n",
    "\n",
    "    # Create additional numerical features(didn't work out as planned)\n",
    "    #df['loan_amt_to_monthly_income_ratio'] = df['17'] / df['10']\n",
    "    #df['loan_installment_to_monthly_income_ratio'] = df['20'] / df['10']\n",
    "    #df['loan_installment_to_installment_ratio'] = df['20'] / df['16']\n",
    "\n",
    "numerical_features(train)\n",
    "numerical_features(test)"
   ]
  },
  {
   "cell_type": "code",
   "execution_count": 10,
   "id": "83bda266",
   "metadata": {
    "execution": {
     "iopub.execute_input": "2024-03-31T17:30:52.151820Z",
     "iopub.status.busy": "2024-03-31T17:30:52.151367Z",
     "iopub.status.idle": "2024-03-31T17:30:52.213964Z",
     "shell.execute_reply": "2024-03-31T17:30:52.212507Z"
    },
    "papermill": {
     "duration": 0.070846,
     "end_time": "2024-03-31T17:30:52.216603",
     "exception": false,
     "start_time": "2024-03-31T17:30:52.145757",
     "status": "completed"
    },
    "tags": []
   },
   "outputs": [],
   "source": [
    "def feature_interaction(df):\n",
    "    df['employer_interaction'] = df['08'].astype(str) + '_' + df['09'].astype(str)\n",
    "\n",
    "feature_interaction(train)\n",
    "feature_interaction(test)"
   ]
  },
  {
   "cell_type": "code",
   "execution_count": 11,
   "id": "9448a810",
   "metadata": {
    "execution": {
     "iopub.execute_input": "2024-03-31T17:30:52.226481Z",
     "iopub.status.busy": "2024-03-31T17:30:52.226036Z",
     "iopub.status.idle": "2024-03-31T17:30:52.236320Z",
     "shell.execute_reply": "2024-03-31T17:30:52.234878Z"
    },
    "papermill": {
     "duration": 0.018346,
     "end_time": "2024-03-31T17:30:52.239115",
     "exception": false,
     "start_time": "2024-03-31T17:30:52.220769",
     "status": "completed"
    },
    "tags": []
   },
   "outputs": [],
   "source": [
    "def feature_derivation(df):\n",
    "    df['total_loan_amount'] = df['17'] * df['18']\n",
    "    df['total_interest_paid'] = df['19'] * df['17'] * df['18']\n",
    "\n",
    "feature_derivation(train)    \n",
    "feature_derivation(test)"
   ]
  },
  {
   "cell_type": "code",
   "execution_count": 12,
   "id": "b2234544",
   "metadata": {
    "execution": {
     "iopub.execute_input": "2024-03-31T17:30:52.249345Z",
     "iopub.status.busy": "2024-03-31T17:30:52.248958Z",
     "iopub.status.idle": "2024-03-31T17:30:52.269504Z",
     "shell.execute_reply": "2024-03-31T17:30:52.267471Z"
    },
    "papermill": {
     "duration": 0.02902,
     "end_time": "2024-03-31T17:30:52.272446",
     "exception": false,
     "start_time": "2024-03-31T17:30:52.243426",
     "status": "completed"
    },
    "tags": []
   },
   "outputs": [
    {
     "name": "stdout",
     "output_type": "stream",
     "text": [
      "<class 'pandas.core.frame.DataFrame'>\n",
      "RangeIndex: 55760 entries, 0 to 55759\n",
      "Data columns (total 41 columns):\n",
      " #   Column                Non-Null Count  Dtype         \n",
      "---  ------                --------------  -----         \n",
      " 0   id                    55760 non-null  int64         \n",
      " 1   02                    55760 non-null  int64         \n",
      " 2   03                    55752 non-null  datetime64[ns]\n",
      " 3   04                    55760 non-null  datetime64[ns]\n",
      " 4   05                    55760 non-null  int64         \n",
      " 5   06                    55760 non-null  float64       \n",
      " 6   07                    55760 non-null  int64         \n",
      " 7   08                    55760 non-null  float64       \n",
      " 8   09                    55760 non-null  float64       \n",
      " 9   10                    55760 non-null  float64       \n",
      " 10  11                    55760 non-null  int64         \n",
      " 11  12                    55760 non-null  float64       \n",
      " 12  13                    55760 non-null  int64         \n",
      " 13  14                    55760 non-null  int64         \n",
      " 14  15                    55760 non-null  int64         \n",
      " 15  16                    55760 non-null  float64       \n",
      " 16  17                    55760 non-null  float64       \n",
      " 17  18                    55760 non-null  float64       \n",
      " 18  19                    55760 non-null  float64       \n",
      " 19  20                    55760 non-null  float64       \n",
      " 20  class                 55760 non-null  int64         \n",
      " 21  dob_year              55752 non-null  float64       \n",
      " 22  dob_month             55752 non-null  float64       \n",
      " 23  dob_day               55752 non-null  float64       \n",
      " 24  dob_dayofweek         55752 non-null  float64       \n",
      " 25  dob_quarter           55752 non-null  float64       \n",
      " 26  lead_year             55760 non-null  int32         \n",
      " 27  lead_month            55760 non-null  int32         \n",
      " 28  lead_day              55760 non-null  int32         \n",
      " 29  lead_dayofweek        55760 non-null  int32         \n",
      " 30  lead_quarter          55760 non-null  int32         \n",
      " 31  age_at_lead_creation  55752 non-null  float64       \n",
      " 32  10_normalized         55760 non-null  float64       \n",
      " 33  16_normalized         55760 non-null  float64       \n",
      " 34  17_normalized         55760 non-null  float64       \n",
      " 35  18_normalized         55760 non-null  float64       \n",
      " 36  19_normalized         55760 non-null  float64       \n",
      " 37  20_normalized         55760 non-null  float64       \n",
      " 38  employer_interaction  55760 non-null  object        \n",
      " 39  total_loan_amount     55760 non-null  float64       \n",
      " 40  total_interest_paid   55760 non-null  float64       \n",
      "dtypes: datetime64[ns](2), float64(24), int32(5), int64(9), object(1)\n",
      "memory usage: 16.4+ MB\n"
     ]
    }
   ],
   "source": [
    "train.info()"
   ]
  },
  {
   "cell_type": "code",
   "execution_count": 13,
   "id": "9f328059",
   "metadata": {
    "execution": {
     "iopub.execute_input": "2024-03-31T17:30:52.283131Z",
     "iopub.status.busy": "2024-03-31T17:30:52.282731Z",
     "iopub.status.idle": "2024-03-31T17:30:52.307036Z",
     "shell.execute_reply": "2024-03-31T17:30:52.305941Z"
    },
    "papermill": {
     "duration": 0.032493,
     "end_time": "2024-03-31T17:30:52.309547",
     "exception": false,
     "start_time": "2024-03-31T17:30:52.277054",
     "status": "completed"
    },
    "tags": []
   },
   "outputs": [],
   "source": [
    "train.drop(columns=['id', '03', '04', '11'], inplace=True)\n",
    "test.drop(columns=['id', '03', '04', '11'], inplace=True)"
   ]
  },
  {
   "cell_type": "code",
   "execution_count": 14,
   "id": "c1824849",
   "metadata": {
    "execution": {
     "iopub.execute_input": "2024-03-31T17:30:52.319754Z",
     "iopub.status.busy": "2024-03-31T17:30:52.319315Z",
     "iopub.status.idle": "2024-03-31T17:30:52.355615Z",
     "shell.execute_reply": "2024-03-31T17:30:52.354744Z"
    },
    "papermill": {
     "duration": 0.0442,
     "end_time": "2024-03-31T17:30:52.358125",
     "exception": false,
     "start_time": "2024-03-31T17:30:52.313925",
     "status": "completed"
    },
    "tags": []
   },
   "outputs": [],
   "source": [
    "def onehot_encode(df):\n",
    "    one_hot_encoded = pd.get_dummies(df['employer_interaction'], prefix='employer_interaction')\n",
    "    df = pd.concat([df, one_hot_encoded], axis=1)\n",
    "    df.drop('employer_interaction', axis=1, inplace=True)\n",
    "\n",
    "onehot_encode(train)\n",
    "onehot_encode(test)"
   ]
  },
  {
   "cell_type": "code",
   "execution_count": 15,
   "id": "820841fe",
   "metadata": {
    "execution": {
     "iopub.execute_input": "2024-03-31T17:30:52.368925Z",
     "iopub.status.busy": "2024-03-31T17:30:52.368514Z",
     "iopub.status.idle": "2024-03-31T17:30:53.887252Z",
     "shell.execute_reply": "2024-03-31T17:30:53.886275Z"
    },
    "papermill": {
     "duration": 1.526826,
     "end_time": "2024-03-31T17:30:53.889659",
     "exception": false,
     "start_time": "2024-03-31T17:30:52.362833",
     "status": "completed"
    },
    "tags": []
   },
   "outputs": [],
   "source": [
    "from sklearn.model_selection import train_test_split\n",
    "\n",
    "x,valid = train_test_split(train, test_size=0.3, train_size=0.7, random_state=True)"
   ]
  }
 ],
 "metadata": {
  "kaggle": {
   "accelerator": "none",
   "dataSources": [
    {
     "databundleVersionId": 7799805,
     "sourceId": 71331,
     "sourceType": "competition"
    }
   ],
   "dockerImageVersionId": 30673,
   "isGpuEnabled": false,
   "isInternetEnabled": true,
   "language": "python",
   "sourceType": "notebook"
  },
  "kernelspec": {
   "display_name": "Python 3",
   "language": "python",
   "name": "python3"
  },
  "language_info": {
   "codemirror_mode": {
    "name": "ipython",
    "version": 3
   },
   "file_extension": ".py",
   "mimetype": "text/x-python",
   "name": "python",
   "nbconvert_exporter": "python",
   "pygments_lexer": "ipython3",
   "version": "3.10.13"
  },
  "papermill": {
   "default_parameters": {},
   "duration": 6.866544,
   "end_time": "2024-03-31T17:30:54.715735",
   "environment_variables": {},
   "exception": null,
   "input_path": "__notebook__.ipynb",
   "output_path": "__notebook__.ipynb",
   "parameters": {},
   "start_time": "2024-03-31T17:30:47.849191",
   "version": "2.5.0"
  }
 },
 "nbformat": 4,
 "nbformat_minor": 5
}
