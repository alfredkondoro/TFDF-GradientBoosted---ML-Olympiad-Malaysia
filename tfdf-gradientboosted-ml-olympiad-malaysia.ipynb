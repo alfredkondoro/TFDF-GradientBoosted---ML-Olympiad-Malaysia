{
 "cells": [
  {
   "cell_type": "code",
   "execution_count": 1,
   "id": "8d91c90c",
   "metadata": {
    "_cell_guid": "b1076dfc-b9ad-4769-8c92-a6c4dae69d19",
    "_uuid": "8f2839f25d086af736a60e9eeb907d3b93b6e0e5",
    "execution": {
     "iopub.execute_input": "2024-03-31T18:04:47.613538Z",
     "iopub.status.busy": "2024-03-31T18:04:47.612751Z",
     "iopub.status.idle": "2024-03-31T18:04:48.488016Z",
     "shell.execute_reply": "2024-03-31T18:04:48.486833Z"
    },
    "papermill": {
     "duration": 0.889584,
     "end_time": "2024-03-31T18:04:48.490998",
     "exception": false,
     "start_time": "2024-03-31T18:04:47.601414",
     "status": "completed"
    },
    "tags": []
   },
   "outputs": [],
   "source": [
    "import numpy as np\n",
    "import pandas as pd\n",
    "\n",
    "import warnings\n",
    "warnings.simplefilter(action='ignore', category=FutureWarning)"
   ]
  },
  {
   "cell_type": "code",
   "execution_count": 2,
   "id": "49f6fcb4",
   "metadata": {
    "execution": {
     "iopub.execute_input": "2024-03-31T18:04:48.509666Z",
     "iopub.status.busy": "2024-03-31T18:04:48.508802Z",
     "iopub.status.idle": "2024-03-31T18:04:48.918615Z",
     "shell.execute_reply": "2024-03-31T18:04:48.917481Z"
    },
    "papermill": {
     "duration": 0.422106,
     "end_time": "2024-03-31T18:04:48.921331",
     "exception": false,
     "start_time": "2024-03-31T18:04:48.499225",
     "status": "completed"
    },
    "tags": []
   },
   "outputs": [],
   "source": [
    "train = pd.read_csv('/kaggle/input/ml-olympiad-ai-ml-malaysia/train.csv')\n",
    "test = pd.read_csv('/kaggle/input/ml-olympiad-ai-ml-malaysia/test.csv')\n",
    "submit = pd.read_csv('/kaggle/input/ml-olympiad-ai-ml-malaysia/sample_submission.csv')"
   ]
  },
  {
   "cell_type": "code",
   "execution_count": 3,
   "id": "b8030018",
   "metadata": {
    "execution": {
     "iopub.execute_input": "2024-03-31T18:04:48.939400Z",
     "iopub.status.busy": "2024-03-31T18:04:48.939008Z",
     "iopub.status.idle": "2024-03-31T18:04:48.980570Z",
     "shell.execute_reply": "2024-03-31T18:04:48.978669Z"
    },
    "papermill": {
     "duration": 0.054007,
     "end_time": "2024-03-31T18:04:48.983594",
     "exception": false,
     "start_time": "2024-03-31T18:04:48.929587",
     "status": "completed"
    },
    "tags": []
   },
   "outputs": [
    {
     "name": "stdout",
     "output_type": "stream",
     "text": [
      "<class 'pandas.core.frame.DataFrame'>\n",
      "RangeIndex: 55760 entries, 0 to 55759\n",
      "Data columns (total 21 columns):\n",
      " #   Column  Non-Null Count  Dtype  \n",
      "---  ------  --------------  -----  \n",
      " 0   id      55760 non-null  int64  \n",
      " 1   02      55760 non-null  int64  \n",
      " 2   03      55752 non-null  object \n",
      " 3   04      55760 non-null  object \n",
      " 4   05      55760 non-null  int64  \n",
      " 5   06      55102 non-null  float64\n",
      " 6   07      55760 non-null  int64  \n",
      " 7   08      52567 non-null  float64\n",
      " 8   09      52336 non-null  float64\n",
      " 9   10      55760 non-null  float64\n",
      " 10  11      55760 non-null  int64  \n",
      " 11  12      48289 non-null  float64\n",
      " 12  13      55760 non-null  int64  \n",
      " 13  14      55760 non-null  int64  \n",
      " 14  15      55760 non-null  int64  \n",
      " 15  16      55719 non-null  float64\n",
      " 16  17      33629 non-null  float64\n",
      " 17  18      33629 non-null  float64\n",
      " 18  19      17819 non-null  float64\n",
      " 19  20      55719 non-null  float64\n",
      " 20  class   55760 non-null  int64  \n",
      "dtypes: float64(10), int64(9), object(2)\n",
      "memory usage: 8.9+ MB\n"
     ]
    }
   ],
   "source": [
    "train.info()"
   ]
  },
  {
   "cell_type": "code",
   "execution_count": 4,
   "id": "b2f57132",
   "metadata": {
    "execution": {
     "iopub.execute_input": "2024-03-31T18:04:49.002504Z",
     "iopub.status.busy": "2024-03-31T18:04:49.001917Z",
     "iopub.status.idle": "2024-03-31T18:04:49.011819Z",
     "shell.execute_reply": "2024-03-31T18:04:49.010752Z"
    },
    "papermill": {
     "duration": 0.021684,
     "end_time": "2024-03-31T18:04:49.014043",
     "exception": false,
     "start_time": "2024-03-31T18:04:48.992359",
     "status": "completed"
    },
    "tags": []
   },
   "outputs": [
    {
     "data": {
      "text/plain": [
       "array([0, 1])"
      ]
     },
     "execution_count": 4,
     "metadata": {},
     "output_type": "execute_result"
    }
   ],
   "source": [
    "train['class'].unique()"
   ]
  },
  {
   "cell_type": "code",
   "execution_count": 5,
   "id": "1faf8fa9",
   "metadata": {
    "execution": {
     "iopub.execute_input": "2024-03-31T18:04:49.032560Z",
     "iopub.status.busy": "2024-03-31T18:04:49.032176Z",
     "iopub.status.idle": "2024-03-31T18:04:49.041864Z",
     "shell.execute_reply": "2024-03-31T18:04:49.040908Z"
    },
    "papermill": {
     "duration": 0.021743,
     "end_time": "2024-03-31T18:04:49.044251",
     "exception": false,
     "start_time": "2024-03-31T18:04:49.022508",
     "status": "completed"
    },
    "tags": []
   },
   "outputs": [
    {
     "data": {
      "text/plain": [
       "class\n",
       "0    54916\n",
       "1      844\n",
       "Name: count, dtype: int64"
      ]
     },
     "execution_count": 5,
     "metadata": {},
     "output_type": "execute_result"
    }
   ],
   "source": [
    "train['class'].value_counts()"
   ]
  },
  {
   "cell_type": "code",
   "execution_count": 6,
   "id": "8e96011d",
   "metadata": {
    "execution": {
     "iopub.execute_input": "2024-03-31T18:04:49.063330Z",
     "iopub.status.busy": "2024-03-31T18:04:49.062909Z",
     "iopub.status.idle": "2024-03-31T18:04:49.080737Z",
     "shell.execute_reply": "2024-03-31T18:04:49.079649Z"
    },
    "papermill": {
     "duration": 0.030423,
     "end_time": "2024-03-31T18:04:49.083521",
     "exception": false,
     "start_time": "2024-03-31T18:04:49.053098",
     "status": "completed"
    },
    "tags": []
   },
   "outputs": [
    {
     "name": "stdout",
     "output_type": "stream",
     "text": [
      "<class 'pandas.core.frame.DataFrame'>\n",
      "RangeIndex: 13940 entries, 0 to 13939\n",
      "Data columns (total 20 columns):\n",
      " #   Column  Non-Null Count  Dtype  \n",
      "---  ------  --------------  -----  \n",
      " 0   id      13940 non-null  int64  \n",
      " 1   02      13940 non-null  int64  \n",
      " 2   03      13933 non-null  object \n",
      " 3   04      13940 non-null  object \n",
      " 4   05      13940 non-null  int64  \n",
      " 5   06      13784 non-null  float64\n",
      " 6   07      13940 non-null  int64  \n",
      " 7   08      13115 non-null  float64\n",
      " 8   09      13066 non-null  float64\n",
      " 9   10      13940 non-null  float64\n",
      " 10  11      13940 non-null  int64  \n",
      " 11  12      12023 non-null  float64\n",
      " 12  13      13940 non-null  int64  \n",
      " 13  14      13940 non-null  int64  \n",
      " 14  15      13940 non-null  int64  \n",
      " 15  16      13930 non-null  float64\n",
      " 16  17      8366 non-null   float64\n",
      " 17  18      8366 non-null   float64\n",
      " 18  19      4452 non-null   float64\n",
      " 19  20      13930 non-null  float64\n",
      "dtypes: float64(10), int64(8), object(2)\n",
      "memory usage: 2.1+ MB\n"
     ]
    }
   ],
   "source": [
    "test.info()"
   ]
  },
  {
   "cell_type": "markdown",
   "id": "b6de9931",
   "metadata": {
    "papermill": {
     "duration": 0.008342,
     "end_time": "2024-03-31T18:04:49.100655",
     "exception": false,
     "start_time": "2024-03-31T18:04:49.092313",
     "status": "completed"
    },
    "tags": []
   },
   "source": [
    "## FEATURE ENGINEERING"
   ]
  },
  {
   "cell_type": "code",
   "execution_count": 7,
   "id": "99f1118a",
   "metadata": {
    "execution": {
     "iopub.execute_input": "2024-03-31T18:04:49.119688Z",
     "iopub.status.busy": "2024-03-31T18:04:49.119312Z",
     "iopub.status.idle": "2024-03-31T18:04:49.163136Z",
     "shell.execute_reply": "2024-03-31T18:04:49.161966Z"
    },
    "papermill": {
     "duration": 0.056473,
     "end_time": "2024-03-31T18:04:49.165696",
     "exception": false,
     "start_time": "2024-03-31T18:04:49.109223",
     "status": "completed"
    },
    "tags": []
   },
   "outputs": [],
   "source": [
    "cols_to_impute = ['06', '08', '09', '12', '16', '17', '18', '19', '20']\n",
    "\n",
    "def impute_dataset(df):\n",
    "    for column in cols_to_impute:\n",
    "        median_value = int(df[column].median())\n",
    "        df[column].fillna(median_value, inplace=True)    \n",
    "    #for the date\n",
    "    mode_value = df[column].mode()[0]\n",
    "    df['03'].fillna(mode_value, inplace=True)\n",
    "\n",
    "impute_dataset(train)\n",
    "impute_dataset(test)"
   ]
  },
  {
   "cell_type": "code",
   "execution_count": 8,
   "id": "be0eaaaf",
   "metadata": {
    "execution": {
     "iopub.execute_input": "2024-03-31T18:04:49.184960Z",
     "iopub.status.busy": "2024-03-31T18:04:49.184556Z",
     "iopub.status.idle": "2024-03-31T18:04:49.301125Z",
     "shell.execute_reply": "2024-03-31T18:04:49.299911Z"
    },
    "papermill": {
     "duration": 0.129559,
     "end_time": "2024-03-31T18:04:49.304037",
     "exception": false,
     "start_time": "2024-03-31T18:04:49.174478",
     "status": "completed"
    },
    "tags": []
   },
   "outputs": [],
   "source": [
    "def date_features(df):\n",
    "    df['03'] = pd.to_datetime(df['03'], errors='coerce')\n",
    "    df['04'] = pd.to_datetime(df['04'], errors='coerce')\n",
    "\n",
    "    df['dob_year'] = df['03'].dt.year\n",
    "    df['dob_month'] = df['03'].dt.month\n",
    "    df['dob_day'] = df['03'].dt.day\n",
    "    df['dob_dayofweek'] = df['03'].dt.dayofweek\n",
    "    df['dob_quarter'] = df['03'].dt.quarter\n",
    "\n",
    "    df['lead_year'] = df['04'].dt.year\n",
    "    df['lead_month'] = df['04'].dt.month\n",
    "    df['lead_day'] = df['04'].dt.day\n",
    "    df['lead_dayofweek'] = df['04'].dt.dayofweek\n",
    "    df['lead_quarter'] = df['04'].dt.quarter\n",
    "\n",
    "    # Calculate the age of the applicant at the time of lead creation based on the date of birth\n",
    "    df['age_at_lead_creation'] = df['04'].dt.year - df['03'].dt.year\n",
    "    \n",
    "date_features(train)    \n",
    "date_features(test)"
   ]
  },
  {
   "cell_type": "code",
   "execution_count": 9,
   "id": "c3690267",
   "metadata": {
    "execution": {
     "iopub.execute_input": "2024-03-31T18:04:49.323484Z",
     "iopub.status.busy": "2024-03-31T18:04:49.323112Z",
     "iopub.status.idle": "2024-03-31T18:04:49.349404Z",
     "shell.execute_reply": "2024-03-31T18:04:49.348294Z"
    },
    "papermill": {
     "duration": 0.039255,
     "end_time": "2024-03-31T18:04:49.352256",
     "exception": false,
     "start_time": "2024-03-31T18:04:49.313001",
     "status": "completed"
    },
    "tags": []
   },
   "outputs": [],
   "source": [
    "def numerical_features(df):\n",
    "    numcols = ['10', '16', '17', '18', '19', '20']\n",
    "    # Normalize numerical features to bring them to a similar scale\n",
    "    for col in numcols:\n",
    "        df[col + '_normalized'] = (df[col] - df[col].mean()) / df[col].std()\n",
    "\n",
    "    # Create additional numerical features(didn't work out as planned)\n",
    "    #df['loan_amt_to_monthly_income_ratio'] = df['17'] / df['10']\n",
    "    #df['loan_installment_to_monthly_income_ratio'] = df['20'] / df['10']\n",
    "    #df['loan_installment_to_installment_ratio'] = df['20'] / df['16']\n",
    "\n",
    "numerical_features(train)\n",
    "numerical_features(test)"
   ]
  },
  {
   "cell_type": "code",
   "execution_count": 10,
   "id": "adbed2e6",
   "metadata": {
    "execution": {
     "iopub.execute_input": "2024-03-31T18:04:49.371274Z",
     "iopub.status.busy": "2024-03-31T18:04:49.370870Z",
     "iopub.status.idle": "2024-03-31T18:04:49.512761Z",
     "shell.execute_reply": "2024-03-31T18:04:49.511906Z"
    },
    "papermill": {
     "duration": 0.154362,
     "end_time": "2024-03-31T18:04:49.515295",
     "exception": false,
     "start_time": "2024-03-31T18:04:49.360933",
     "status": "completed"
    },
    "tags": []
   },
   "outputs": [],
   "source": [
    "def feature_interaction(df):\n",
    "    df['employer_interaction'] = df['08'].astype(str) + '_' + df['09'].astype(str)\n",
    "\n",
    "feature_interaction(train)\n",
    "feature_interaction(test)"
   ]
  },
  {
   "cell_type": "code",
   "execution_count": 11,
   "id": "7bf793d5",
   "metadata": {
    "execution": {
     "iopub.execute_input": "2024-03-31T18:04:49.535676Z",
     "iopub.status.busy": "2024-03-31T18:04:49.535038Z",
     "iopub.status.idle": "2024-03-31T18:04:49.543871Z",
     "shell.execute_reply": "2024-03-31T18:04:49.542941Z"
    },
    "papermill": {
     "duration": 0.022356,
     "end_time": "2024-03-31T18:04:49.546437",
     "exception": false,
     "start_time": "2024-03-31T18:04:49.524081",
     "status": "completed"
    },
    "tags": []
   },
   "outputs": [],
   "source": [
    "def feature_derivation(df):\n",
    "    df['total_loan_amount'] = df['17'] * df['18']\n",
    "    df['total_interest_paid'] = df['19'] * df['17'] * df['18']\n",
    "\n",
    "feature_derivation(train)    \n",
    "feature_derivation(test)"
   ]
  },
  {
   "cell_type": "code",
   "execution_count": 12,
   "id": "89a82adf",
   "metadata": {
    "execution": {
     "iopub.execute_input": "2024-03-31T18:04:49.565864Z",
     "iopub.status.busy": "2024-03-31T18:04:49.565189Z",
     "iopub.status.idle": "2024-03-31T18:04:49.589400Z",
     "shell.execute_reply": "2024-03-31T18:04:49.588165Z"
    },
    "papermill": {
     "duration": 0.037351,
     "end_time": "2024-03-31T18:04:49.592512",
     "exception": false,
     "start_time": "2024-03-31T18:04:49.555161",
     "status": "completed"
    },
    "tags": []
   },
   "outputs": [
    {
     "name": "stdout",
     "output_type": "stream",
     "text": [
      "<class 'pandas.core.frame.DataFrame'>\n",
      "RangeIndex: 55760 entries, 0 to 55759\n",
      "Data columns (total 41 columns):\n",
      " #   Column                Non-Null Count  Dtype         \n",
      "---  ------                --------------  -----         \n",
      " 0   id                    55760 non-null  int64         \n",
      " 1   02                    55760 non-null  int64         \n",
      " 2   03                    55752 non-null  datetime64[ns]\n",
      " 3   04                    55760 non-null  datetime64[ns]\n",
      " 4   05                    55760 non-null  int64         \n",
      " 5   06                    55760 non-null  float64       \n",
      " 6   07                    55760 non-null  int64         \n",
      " 7   08                    55760 non-null  float64       \n",
      " 8   09                    55760 non-null  float64       \n",
      " 9   10                    55760 non-null  float64       \n",
      " 10  11                    55760 non-null  int64         \n",
      " 11  12                    55760 non-null  float64       \n",
      " 12  13                    55760 non-null  int64         \n",
      " 13  14                    55760 non-null  int64         \n",
      " 14  15                    55760 non-null  int64         \n",
      " 15  16                    55760 non-null  float64       \n",
      " 16  17                    55760 non-null  float64       \n",
      " 17  18                    55760 non-null  float64       \n",
      " 18  19                    55760 non-null  float64       \n",
      " 19  20                    55760 non-null  float64       \n",
      " 20  class                 55760 non-null  int64         \n",
      " 21  dob_year              55752 non-null  float64       \n",
      " 22  dob_month             55752 non-null  float64       \n",
      " 23  dob_day               55752 non-null  float64       \n",
      " 24  dob_dayofweek         55752 non-null  float64       \n",
      " 25  dob_quarter           55752 non-null  float64       \n",
      " 26  lead_year             55760 non-null  int32         \n",
      " 27  lead_month            55760 non-null  int32         \n",
      " 28  lead_day              55760 non-null  int32         \n",
      " 29  lead_dayofweek        55760 non-null  int32         \n",
      " 30  lead_quarter          55760 non-null  int32         \n",
      " 31  age_at_lead_creation  55752 non-null  float64       \n",
      " 32  10_normalized         55760 non-null  float64       \n",
      " 33  16_normalized         55760 non-null  float64       \n",
      " 34  17_normalized         55760 non-null  float64       \n",
      " 35  18_normalized         55760 non-null  float64       \n",
      " 36  19_normalized         55760 non-null  float64       \n",
      " 37  20_normalized         55760 non-null  float64       \n",
      " 38  employer_interaction  55760 non-null  object        \n",
      " 39  total_loan_amount     55760 non-null  float64       \n",
      " 40  total_interest_paid   55760 non-null  float64       \n",
      "dtypes: datetime64[ns](2), float64(24), int32(5), int64(9), object(1)\n",
      "memory usage: 16.4+ MB\n"
     ]
    }
   ],
   "source": [
    "train.info()"
   ]
  },
  {
   "cell_type": "code",
   "execution_count": 13,
   "id": "5773d967",
   "metadata": {
    "execution": {
     "iopub.execute_input": "2024-03-31T18:04:49.612519Z",
     "iopub.status.busy": "2024-03-31T18:04:49.611531Z",
     "iopub.status.idle": "2024-03-31T18:04:49.639484Z",
     "shell.execute_reply": "2024-03-31T18:04:49.638339Z"
    },
    "papermill": {
     "duration": 0.040986,
     "end_time": "2024-03-31T18:04:49.642328",
     "exception": false,
     "start_time": "2024-03-31T18:04:49.601342",
     "status": "completed"
    },
    "tags": []
   },
   "outputs": [],
   "source": [
    "train.drop(columns=['id', '03', '04', '11'], inplace=True)\n",
    "test.drop(columns=['id', '03', '04', '11'], inplace=True)"
   ]
  },
  {
   "cell_type": "code",
   "execution_count": 14,
   "id": "808c9582",
   "metadata": {
    "execution": {
     "iopub.execute_input": "2024-03-31T18:04:49.662460Z",
     "iopub.status.busy": "2024-03-31T18:04:49.661337Z",
     "iopub.status.idle": "2024-03-31T18:04:49.711288Z",
     "shell.execute_reply": "2024-03-31T18:04:49.710035Z"
    },
    "papermill": {
     "duration": 0.06268,
     "end_time": "2024-03-31T18:04:49.713949",
     "exception": false,
     "start_time": "2024-03-31T18:04:49.651269",
     "status": "completed"
    },
    "tags": []
   },
   "outputs": [],
   "source": [
    "def onehot_encode(df):\n",
    "    one_hot_encoded = pd.get_dummies(df['employer_interaction'], prefix='employer_interaction')\n",
    "    df = pd.concat([df, one_hot_encoded], axis=1)\n",
    "    df.drop('employer_interaction', axis=1, inplace=True)\n",
    "\n",
    "onehot_encode(train)\n",
    "onehot_encode(test)"
   ]
  },
  {
   "cell_type": "markdown",
   "id": "3f40095a",
   "metadata": {
    "papermill": {
     "duration": 0.008299,
     "end_time": "2024-03-31T18:04:49.731583",
     "exception": false,
     "start_time": "2024-03-31T18:04:49.723284",
     "status": "completed"
    },
    "tags": []
   },
   "source": [
    "## AUTO ML"
   ]
  },
  {
   "cell_type": "code",
   "execution_count": 15,
   "id": "e8d4bb7a",
   "metadata": {
    "execution": {
     "iopub.execute_input": "2024-03-31T18:04:49.750495Z",
     "iopub.status.busy": "2024-03-31T18:04:49.750093Z",
     "iopub.status.idle": "2024-03-31T18:05:06.662187Z",
     "shell.execute_reply": "2024-03-31T18:05:06.660954Z"
    },
    "papermill": {
     "duration": 16.924604,
     "end_time": "2024-03-31T18:05:06.664795",
     "exception": false,
     "start_time": "2024-03-31T18:04:49.740191",
     "status": "completed"
    },
    "tags": []
   },
   "outputs": [
    {
     "name": "stdout",
     "output_type": "stream",
     "text": [
      "Collecting flaml\r\n",
      "  Downloading FLAML-2.1.2-py3-none-any.whl.metadata (15 kB)\r\n",
      "Requirement already satisfied: NumPy>=1.17 in /opt/conda/lib/python3.10/site-packages (from flaml) (1.26.4)\r\n",
      "Downloading FLAML-2.1.2-py3-none-any.whl (296 kB)\r\n",
      "\u001b[2K   \u001b[90m━━━━━━━━━━━━━━━━━━━━━━━━━━━━━━━━━━━━━━━━\u001b[0m \u001b[32m296.7/296.7 kB\u001b[0m \u001b[31m5.4 MB/s\u001b[0m eta \u001b[36m0:00:00\u001b[0m\r\n",
      "\u001b[?25hInstalling collected packages: flaml\r\n",
      "Successfully installed flaml-2.1.2\r\n"
     ]
    }
   ],
   "source": [
    "!pip install flaml"
   ]
  },
  {
   "cell_type": "code",
   "execution_count": 16,
   "id": "ecdfcf19",
   "metadata": {
    "execution": {
     "iopub.execute_input": "2024-03-31T18:05:06.686631Z",
     "iopub.status.busy": "2024-03-31T18:05:06.686215Z",
     "iopub.status.idle": "2024-03-31T18:05:12.091523Z",
     "shell.execute_reply": "2024-03-31T18:05:12.090329Z"
    },
    "papermill": {
     "duration": 5.419817,
     "end_time": "2024-03-31T18:05:12.094639",
     "exception": false,
     "start_time": "2024-03-31T18:05:06.674822",
     "status": "completed"
    },
    "tags": []
   },
   "outputs": [
    {
     "name": "stderr",
     "output_type": "stream",
     "text": [
      "2024-03-31 18:05:07,684\tINFO util.py:124 -- Outdated packages:\n",
      "  ipywidgets==7.7.1 found, needs ipywidgets>=8\n",
      "Run `pip install -U ipywidgets`, then restart the notebook server for rich notebook output.\n",
      "2024-03-31 18:05:08,709\tINFO util.py:124 -- Outdated packages:\n",
      "  ipywidgets==7.7.1 found, needs ipywidgets>=8\n",
      "Run `pip install -U ipywidgets`, then restart the notebook server for rich notebook output.\n"
     ]
    }
   ],
   "source": [
    "from flaml import AutoML\n",
    "\n",
    "automl = AutoML()\n",
    "automl_settings = {\n",
    "    \"time_budget\": 5,\n",
    "    \"metric\": 'accuracy',\n",
    "    \"task\": 'classification',\n",
    "}"
   ]
  },
  {
   "cell_type": "code",
   "execution_count": 17,
   "id": "9285d7ef",
   "metadata": {
    "execution": {
     "iopub.execute_input": "2024-03-31T18:05:12.117124Z",
     "iopub.status.busy": "2024-03-31T18:05:12.116439Z",
     "iopub.status.idle": "2024-03-31T18:05:12.172137Z",
     "shell.execute_reply": "2024-03-31T18:05:12.171062Z"
    },
    "papermill": {
     "duration": 0.070114,
     "end_time": "2024-03-31T18:05:12.175244",
     "exception": false,
     "start_time": "2024-03-31T18:05:12.105130",
     "status": "completed"
    },
    "tags": []
   },
   "outputs": [],
   "source": [
    "selected_cols = train.select_dtypes(exclude=['object']).columns\n",
    "selected_cols = selected_cols.drop('class', errors='ignore')\n",
    "test_selected_cols = test.select_dtypes(exclude=['object']).columns\n",
    "X_train = train[selected_cols]\n",
    "y_train = train['class']\n",
    "X_test = test[test_selected_cols]"
   ]
  },
  {
   "cell_type": "code",
   "execution_count": 18,
   "id": "d9ba6e4c",
   "metadata": {
    "execution": {
     "iopub.execute_input": "2024-03-31T18:05:12.196754Z",
     "iopub.status.busy": "2024-03-31T18:05:12.196319Z",
     "iopub.status.idle": "2024-03-31T18:05:12.236508Z",
     "shell.execute_reply": "2024-03-31T18:05:12.235395Z"
    },
    "papermill": {
     "duration": 0.053948,
     "end_time": "2024-03-31T18:05:12.239265",
     "exception": false,
     "start_time": "2024-03-31T18:05:12.185317",
     "status": "completed"
    },
    "tags": []
   },
   "outputs": [],
   "source": [
    "from sklearn.model_selection import train_test_split\n",
    "\n",
    "X_trainsub, X_valid, y_trainsub, y_valid = train_test_split(X_train, y_train, test_size=0.3, train_size=0.7, random_state=True)"
   ]
  },
  {
   "cell_type": "code",
   "execution_count": 19,
   "id": "93d290eb",
   "metadata": {
    "execution": {
     "iopub.execute_input": "2024-03-31T18:05:12.261777Z",
     "iopub.status.busy": "2024-03-31T18:05:12.261335Z",
     "iopub.status.idle": "2024-03-31T18:05:17.664625Z",
     "shell.execute_reply": "2024-03-31T18:05:17.663550Z"
    },
    "papermill": {
     "duration": 5.41687,
     "end_time": "2024-03-31T18:05:17.666977",
     "exception": false,
     "start_time": "2024-03-31T18:05:12.250107",
     "status": "completed"
    },
    "tags": []
   },
   "outputs": [
    {
     "name": "stdout",
     "output_type": "stream",
     "text": [
      "[flaml.automl.logger: 03-31 18:05:12] {1680} INFO - task = classification\n",
      "[flaml.automl.logger: 03-31 18:05:12] {1691} INFO - Evaluation method: holdout\n",
      "[flaml.automl.logger: 03-31 18:05:12] {1789} INFO - Minimizing error metric: 1-accuracy\n",
      "[flaml.automl.logger: 03-31 18:05:12] {1901} INFO - List of ML learners in AutoML Run: ['lgbm', 'rf', 'catboost', 'xgboost', 'extra_tree', 'xgb_limitdepth', 'lrl1']\n",
      "[flaml.automl.logger: 03-31 18:05:12] {2219} INFO - iteration 0, current learner lgbm\n",
      "[flaml.automl.logger: 03-31 18:05:13] {2345} INFO - Estimated sufficient time budget=2115s. Estimated necessary time budget=52s.\n",
      "[flaml.automl.logger: 03-31 18:05:13] {2392} INFO -  at 0.8s,\testimator lgbm's best error=0.0156,\tbest estimator lgbm's best error=0.0156\n",
      "[flaml.automl.logger: 03-31 18:05:13] {2219} INFO - iteration 1, current learner lgbm\n",
      "[flaml.automl.logger: 03-31 18:05:13] {2392} INFO -  at 1.1s,\testimator lgbm's best error=0.0156,\tbest estimator lgbm's best error=0.0156\n",
      "[flaml.automl.logger: 03-31 18:05:13] {2219} INFO - iteration 2, current learner lgbm\n",
      "[flaml.automl.logger: 03-31 18:05:13] {2392} INFO -  at 1.4s,\testimator lgbm's best error=0.0156,\tbest estimator lgbm's best error=0.0156\n",
      "[flaml.automl.logger: 03-31 18:05:13] {2219} INFO - iteration 3, current learner xgboost\n",
      "[flaml.automl.logger: 03-31 18:05:13] {2392} INFO -  at 1.7s,\testimator xgboost's best error=0.0156,\tbest estimator lgbm's best error=0.0156\n",
      "[flaml.automl.logger: 03-31 18:05:13] {2219} INFO - iteration 4, current learner lgbm\n",
      "[flaml.automl.logger: 03-31 18:05:14] {2392} INFO -  at 2.1s,\testimator lgbm's best error=0.0156,\tbest estimator lgbm's best error=0.0156\n",
      "[flaml.automl.logger: 03-31 18:05:14] {2219} INFO - iteration 5, current learner xgboost\n",
      "[flaml.automl.logger: 03-31 18:05:14] {2392} INFO -  at 2.5s,\testimator xgboost's best error=0.0156,\tbest estimator lgbm's best error=0.0156\n",
      "[flaml.automl.logger: 03-31 18:05:14] {2219} INFO - iteration 6, current learner extra_tree\n",
      "[flaml.automl.logger: 03-31 18:05:14] {2392} INFO -  at 2.6s,\testimator extra_tree's best error=0.0156,\tbest estimator lgbm's best error=0.0156\n",
      "[flaml.automl.logger: 03-31 18:05:14] {2219} INFO - iteration 7, current learner xgboost\n",
      "[flaml.automl.logger: 03-31 18:05:15] {2392} INFO -  at 2.9s,\testimator xgboost's best error=0.0156,\tbest estimator lgbm's best error=0.0156\n",
      "[flaml.automl.logger: 03-31 18:05:15] {2219} INFO - iteration 8, current learner xgboost\n",
      "[flaml.automl.logger: 03-31 18:05:15] {2392} INFO -  at 3.2s,\testimator xgboost's best error=0.0156,\tbest estimator lgbm's best error=0.0156\n",
      "[flaml.automl.logger: 03-31 18:05:15] {2219} INFO - iteration 9, current learner extra_tree\n",
      "[flaml.automl.logger: 03-31 18:05:15] {2392} INFO -  at 3.3s,\testimator extra_tree's best error=0.0156,\tbest estimator lgbm's best error=0.0156\n",
      "[flaml.automl.logger: 03-31 18:05:15] {2219} INFO - iteration 10, current learner extra_tree\n",
      "[flaml.automl.logger: 03-31 18:05:15] {2392} INFO -  at 3.4s,\testimator extra_tree's best error=0.0156,\tbest estimator lgbm's best error=0.0156\n",
      "[flaml.automl.logger: 03-31 18:05:15] {2219} INFO - iteration 11, current learner extra_tree\n",
      "[flaml.automl.logger: 03-31 18:05:15] {2392} INFO -  at 3.6s,\testimator extra_tree's best error=0.0156,\tbest estimator lgbm's best error=0.0156\n",
      "[flaml.automl.logger: 03-31 18:05:15] {2219} INFO - iteration 12, current learner extra_tree\n",
      "[flaml.automl.logger: 03-31 18:05:15] {2392} INFO -  at 3.7s,\testimator extra_tree's best error=0.0156,\tbest estimator lgbm's best error=0.0156\n",
      "[flaml.automl.logger: 03-31 18:05:15] {2219} INFO - iteration 13, current learner rf\n",
      "[flaml.automl.logger: 03-31 18:05:16] {2392} INFO -  at 3.8s,\testimator rf's best error=0.0156,\tbest estimator lgbm's best error=0.0156\n",
      "[flaml.automl.logger: 03-31 18:05:16] {2219} INFO - iteration 14, current learner rf\n",
      "[flaml.automl.logger: 03-31 18:05:16] {2392} INFO -  at 4.0s,\testimator rf's best error=0.0156,\tbest estimator lgbm's best error=0.0156\n",
      "[flaml.automl.logger: 03-31 18:05:16] {2219} INFO - iteration 15, current learner rf\n",
      "[flaml.automl.logger: 03-31 18:05:16] {2392} INFO -  at 4.1s,\testimator rf's best error=0.0156,\tbest estimator lgbm's best error=0.0156\n",
      "[flaml.automl.logger: 03-31 18:05:16] {2219} INFO - iteration 16, current learner rf\n",
      "[flaml.automl.logger: 03-31 18:05:16] {2392} INFO -  at 4.3s,\testimator rf's best error=0.0156,\tbest estimator lgbm's best error=0.0156\n",
      "[flaml.automl.logger: 03-31 18:05:16] {2219} INFO - iteration 17, current learner extra_tree\n",
      "[flaml.automl.logger: 03-31 18:05:16] {2392} INFO -  at 4.5s,\testimator extra_tree's best error=0.0156,\tbest estimator lgbm's best error=0.0156\n",
      "[flaml.automl.logger: 03-31 18:05:16] {2219} INFO - iteration 18, current learner lgbm\n",
      "[flaml.automl.logger: 03-31 18:05:17] {2392} INFO -  at 4.8s,\testimator lgbm's best error=0.0156,\tbest estimator lgbm's best error=0.0156\n",
      "[flaml.automl.logger: 03-31 18:05:17] {2219} INFO - iteration 19, current learner extra_tree\n",
      "[flaml.automl.logger: 03-31 18:05:17] {2392} INFO -  at 4.9s,\testimator extra_tree's best error=0.0156,\tbest estimator lgbm's best error=0.0156\n",
      "[flaml.automl.logger: 03-31 18:05:17] {2219} INFO - iteration 20, current learner rf\n",
      "[flaml.automl.logger: 03-31 18:05:17] {2392} INFO -  at 5.1s,\testimator rf's best error=0.0156,\tbest estimator lgbm's best error=0.0156\n",
      "[flaml.automl.logger: 03-31 18:05:17] {2628} INFO - retrain lgbm for 0.3s\n",
      "[flaml.automl.logger: 03-31 18:05:17] {2631} INFO - retrained model: LGBMClassifier(learning_rate=0.09999999999999995, max_bin=255, n_estimators=1,\n",
      "               n_jobs=-1, num_leaves=4, reg_alpha=0.0009765625, reg_lambda=1.0,\n",
      "               verbose=-1)\n",
      "[flaml.automl.logger: 03-31 18:05:17] {1931} INFO - fit succeeded\n",
      "[flaml.automl.logger: 03-31 18:05:17] {1932} INFO - Time taken to find the best model: 0.7656769752502441\n"
     ]
    }
   ],
   "source": [
    "automl.fit(X_trainsub, y_trainsub, **automl_settings)"
   ]
  },
  {
   "cell_type": "code",
   "execution_count": 20,
   "id": "a21329e6",
   "metadata": {
    "execution": {
     "iopub.execute_input": "2024-03-31T18:05:17.698214Z",
     "iopub.status.busy": "2024-03-31T18:05:17.697820Z",
     "iopub.status.idle": "2024-03-31T18:05:17.704072Z",
     "shell.execute_reply": "2024-03-31T18:05:17.702895Z"
    },
    "papermill": {
     "duration": 0.024811,
     "end_time": "2024-03-31T18:05:17.706465",
     "exception": false,
     "start_time": "2024-03-31T18:05:17.681654",
     "status": "completed"
    },
    "tags": []
   },
   "outputs": [
    {
     "name": "stdout",
     "output_type": "stream",
     "text": [
      "Best ML leaner: lgbm\n",
      "Best hyperparmeter config: {'n_estimators': 4, 'num_leaves': 4, 'min_child_samples': 20, 'learning_rate': 0.09999999999999995, 'log_max_bin': 8, 'colsample_bytree': 1.0, 'reg_alpha': 0.0009765625, 'reg_lambda': 1.0}\n",
      "Best log_loss on validation data: 0.01562\n",
      "Training duration of best run: 0.3384 s\n"
     ]
    }
   ],
   "source": [
    "print('Best ML leaner:', automl.best_estimator)\n",
    "print('Best hyperparmeter config:', automl.best_config)\n",
    "print('Best log_loss on validation data: {0:.4g}'.format(automl.best_loss))\n",
    "print('Training duration of best run: {0:.4g} s'.format(automl.best_config_train_time))"
   ]
  },
  {
   "cell_type": "code",
   "execution_count": 21,
   "id": "ada9061d",
   "metadata": {
    "execution": {
     "iopub.execute_input": "2024-03-31T18:05:17.737391Z",
     "iopub.status.busy": "2024-03-31T18:05:17.737024Z",
     "iopub.status.idle": "2024-03-31T18:05:17.775613Z",
     "shell.execute_reply": "2024-03-31T18:05:17.774724Z"
    },
    "papermill": {
     "duration": 0.057484,
     "end_time": "2024-03-31T18:05:17.778326",
     "exception": false,
     "start_time": "2024-03-31T18:05:17.720842",
     "status": "completed"
    },
    "tags": []
   },
   "outputs": [],
   "source": [
    "y_pred1 = automl.predict(X_valid)\n",
    "rounded_predictions1 = np.round(y_pred1)\n",
    "integer_predictions1 = rounded_predictions1.astype(int)"
   ]
  },
  {
   "cell_type": "code",
   "execution_count": 22,
   "id": "5b9a2af2",
   "metadata": {
    "execution": {
     "iopub.execute_input": "2024-03-31T18:05:17.809761Z",
     "iopub.status.busy": "2024-03-31T18:05:17.809377Z",
     "iopub.status.idle": "2024-03-31T18:05:17.817899Z",
     "shell.execute_reply": "2024-03-31T18:05:17.816823Z"
    },
    "papermill": {
     "duration": 0.027531,
     "end_time": "2024-03-31T18:05:17.820508",
     "exception": false,
     "start_time": "2024-03-31T18:05:17.792977",
     "status": "completed"
    },
    "tags": []
   },
   "outputs": [
    {
     "name": "stdout",
     "output_type": "stream",
     "text": [
      "Accuracy: 0.9851745576279293\n"
     ]
    }
   ],
   "source": [
    "from sklearn.metrics import accuracy_score\n",
    "\n",
    "accuracy = accuracy_score(y_valid, integer_predictions1)\n",
    "\n",
    "# Print the accuracy score\n",
    "print(\"Accuracy:\", accuracy)"
   ]
  }
 ],
 "metadata": {
  "kaggle": {
   "accelerator": "none",
   "dataSources": [
    {
     "databundleVersionId": 7799805,
     "sourceId": 71331,
     "sourceType": "competition"
    }
   ],
   "dockerImageVersionId": 30673,
   "isGpuEnabled": false,
   "isInternetEnabled": true,
   "language": "python",
   "sourceType": "notebook"
  },
  "kernelspec": {
   "display_name": "Python 3",
   "language": "python",
   "name": "python3"
  },
  "language_info": {
   "codemirror_mode": {
    "name": "ipython",
    "version": 3
   },
   "file_extension": ".py",
   "mimetype": "text/x-python",
   "name": "python",
   "nbconvert_exporter": "python",
   "pygments_lexer": "ipython3",
   "version": "3.10.13"
  },
  "papermill": {
   "default_parameters": {},
   "duration": 34.226462,
   "end_time": "2024-03-31T18:05:18.858503",
   "environment_variables": {},
   "exception": null,
   "input_path": "__notebook__.ipynb",
   "output_path": "__notebook__.ipynb",
   "parameters": {},
   "start_time": "2024-03-31T18:04:44.632041",
   "version": "2.5.0"
  }
 },
 "nbformat": 4,
 "nbformat_minor": 5
}
