{
 "cells": [
  {
   "cell_type": "code",
   "execution_count": 1,
   "id": "a34580c4",
   "metadata": {
    "_cell_guid": "b1076dfc-b9ad-4769-8c92-a6c4dae69d19",
    "_uuid": "8f2839f25d086af736a60e9eeb907d3b93b6e0e5",
    "execution": {
     "iopub.execute_input": "2024-03-31T17:27:38.494340Z",
     "iopub.status.busy": "2024-03-31T17:27:38.493597Z",
     "iopub.status.idle": "2024-03-31T17:27:39.434460Z",
     "shell.execute_reply": "2024-03-31T17:27:39.433514Z"
    },
    "papermill": {
     "duration": 0.948558,
     "end_time": "2024-03-31T17:27:39.437194",
     "exception": false,
     "start_time": "2024-03-31T17:27:38.488636",
     "status": "completed"
    },
    "tags": []
   },
   "outputs": [],
   "source": [
    "import numpy as np\n",
    "import pandas as pd\n",
    "\n",
    "import warnings\n",
    "warnings.simplefilter(action='ignore', category=FutureWarning)"
   ]
  },
  {
   "cell_type": "code",
   "execution_count": 2,
   "id": "17ae28d7",
   "metadata": {
    "execution": {
     "iopub.execute_input": "2024-03-31T17:27:39.445162Z",
     "iopub.status.busy": "2024-03-31T17:27:39.444605Z",
     "iopub.status.idle": "2024-03-31T17:27:39.888259Z",
     "shell.execute_reply": "2024-03-31T17:27:39.887381Z"
    },
    "papermill": {
     "duration": 0.45047,
     "end_time": "2024-03-31T17:27:39.890890",
     "exception": false,
     "start_time": "2024-03-31T17:27:39.440420",
     "status": "completed"
    },
    "tags": []
   },
   "outputs": [],
   "source": [
    "train = pd.read_csv('/kaggle/input/ml-olympiad-ai-ml-malaysia/train.csv')\n",
    "test = pd.read_csv('/kaggle/input/ml-olympiad-ai-ml-malaysia/test.csv')"
   ]
  },
  {
   "cell_type": "code",
   "execution_count": 3,
   "id": "68350020",
   "metadata": {
    "execution": {
     "iopub.execute_input": "2024-03-31T17:27:39.899053Z",
     "iopub.status.busy": "2024-03-31T17:27:39.898066Z",
     "iopub.status.idle": "2024-03-31T17:27:39.941712Z",
     "shell.execute_reply": "2024-03-31T17:27:39.940504Z"
    },
    "papermill": {
     "duration": 0.050459,
     "end_time": "2024-03-31T17:27:39.944403",
     "exception": false,
     "start_time": "2024-03-31T17:27:39.893944",
     "status": "completed"
    },
    "tags": []
   },
   "outputs": [
    {
     "name": "stdout",
     "output_type": "stream",
     "text": [
      "<class 'pandas.core.frame.DataFrame'>\n",
      "RangeIndex: 55760 entries, 0 to 55759\n",
      "Data columns (total 21 columns):\n",
      " #   Column  Non-Null Count  Dtype  \n",
      "---  ------  --------------  -----  \n",
      " 0   id      55760 non-null  int64  \n",
      " 1   02      55760 non-null  int64  \n",
      " 2   03      55752 non-null  object \n",
      " 3   04      55760 non-null  object \n",
      " 4   05      55760 non-null  int64  \n",
      " 5   06      55102 non-null  float64\n",
      " 6   07      55760 non-null  int64  \n",
      " 7   08      52567 non-null  float64\n",
      " 8   09      52336 non-null  float64\n",
      " 9   10      55760 non-null  float64\n",
      " 10  11      55760 non-null  int64  \n",
      " 11  12      48289 non-null  float64\n",
      " 12  13      55760 non-null  int64  \n",
      " 13  14      55760 non-null  int64  \n",
      " 14  15      55760 non-null  int64  \n",
      " 15  16      55719 non-null  float64\n",
      " 16  17      33629 non-null  float64\n",
      " 17  18      33629 non-null  float64\n",
      " 18  19      17819 non-null  float64\n",
      " 19  20      55719 non-null  float64\n",
      " 20  class   55760 non-null  int64  \n",
      "dtypes: float64(10), int64(9), object(2)\n",
      "memory usage: 8.9+ MB\n"
     ]
    }
   ],
   "source": [
    "train.info()"
   ]
  },
  {
   "cell_type": "code",
   "execution_count": 4,
   "id": "48350f00",
   "metadata": {
    "execution": {
     "iopub.execute_input": "2024-03-31T17:27:39.952793Z",
     "iopub.status.busy": "2024-03-31T17:27:39.952030Z",
     "iopub.status.idle": "2024-03-31T17:27:39.962399Z",
     "shell.execute_reply": "2024-03-31T17:27:39.961441Z"
    },
    "papermill": {
     "duration": 0.017323,
     "end_time": "2024-03-31T17:27:39.964906",
     "exception": false,
     "start_time": "2024-03-31T17:27:39.947583",
     "status": "completed"
    },
    "tags": []
   },
   "outputs": [
    {
     "data": {
      "text/plain": [
       "array([0, 1])"
      ]
     },
     "execution_count": 4,
     "metadata": {},
     "output_type": "execute_result"
    }
   ],
   "source": [
    "train['class'].unique()"
   ]
  },
  {
   "cell_type": "code",
   "execution_count": 5,
   "id": "30999549",
   "metadata": {
    "execution": {
     "iopub.execute_input": "2024-03-31T17:27:39.973617Z",
     "iopub.status.busy": "2024-03-31T17:27:39.973226Z",
     "iopub.status.idle": "2024-03-31T17:27:39.984222Z",
     "shell.execute_reply": "2024-03-31T17:27:39.983079Z"
    },
    "papermill": {
     "duration": 0.01857,
     "end_time": "2024-03-31T17:27:39.987083",
     "exception": false,
     "start_time": "2024-03-31T17:27:39.968513",
     "status": "completed"
    },
    "tags": []
   },
   "outputs": [
    {
     "data": {
      "text/plain": [
       "class\n",
       "0    54916\n",
       "1      844\n",
       "Name: count, dtype: int64"
      ]
     },
     "execution_count": 5,
     "metadata": {},
     "output_type": "execute_result"
    }
   ],
   "source": [
    "train['class'].value_counts()"
   ]
  },
  {
   "cell_type": "code",
   "execution_count": 6,
   "id": "e54f912b",
   "metadata": {
    "execution": {
     "iopub.execute_input": "2024-03-31T17:27:39.996537Z",
     "iopub.status.busy": "2024-03-31T17:27:39.996136Z",
     "iopub.status.idle": "2024-03-31T17:27:40.012601Z",
     "shell.execute_reply": "2024-03-31T17:27:40.011397Z"
    },
    "papermill": {
     "duration": 0.02422,
     "end_time": "2024-03-31T17:27:40.015182",
     "exception": false,
     "start_time": "2024-03-31T17:27:39.990962",
     "status": "completed"
    },
    "tags": []
   },
   "outputs": [
    {
     "name": "stdout",
     "output_type": "stream",
     "text": [
      "<class 'pandas.core.frame.DataFrame'>\n",
      "RangeIndex: 13940 entries, 0 to 13939\n",
      "Data columns (total 20 columns):\n",
      " #   Column  Non-Null Count  Dtype  \n",
      "---  ------  --------------  -----  \n",
      " 0   id      13940 non-null  int64  \n",
      " 1   02      13940 non-null  int64  \n",
      " 2   03      13933 non-null  object \n",
      " 3   04      13940 non-null  object \n",
      " 4   05      13940 non-null  int64  \n",
      " 5   06      13784 non-null  float64\n",
      " 6   07      13940 non-null  int64  \n",
      " 7   08      13115 non-null  float64\n",
      " 8   09      13066 non-null  float64\n",
      " 9   10      13940 non-null  float64\n",
      " 10  11      13940 non-null  int64  \n",
      " 11  12      12023 non-null  float64\n",
      " 12  13      13940 non-null  int64  \n",
      " 13  14      13940 non-null  int64  \n",
      " 14  15      13940 non-null  int64  \n",
      " 15  16      13930 non-null  float64\n",
      " 16  17      8366 non-null   float64\n",
      " 17  18      8366 non-null   float64\n",
      " 18  19      4452 non-null   float64\n",
      " 19  20      13930 non-null  float64\n",
      "dtypes: float64(10), int64(8), object(2)\n",
      "memory usage: 2.1+ MB\n"
     ]
    }
   ],
   "source": [
    "test.info()"
   ]
  }
 ],
 "metadata": {
  "kaggle": {
   "accelerator": "none",
   "dataSources": [
    {
     "databundleVersionId": 7799805,
     "sourceId": 71331,
     "sourceType": "competition"
    }
   ],
   "isGpuEnabled": false,
   "isInternetEnabled": true,
   "language": "python",
   "sourceType": "notebook"
  },
  "kernelspec": {
   "display_name": "Python 3",
   "language": "python",
   "name": "python3"
  },
  "language_info": {
   "codemirror_mode": {
    "name": "ipython",
    "version": 3
   },
   "file_extension": ".py",
   "mimetype": "text/x-python",
   "name": "python",
   "nbconvert_exporter": "python",
   "pygments_lexer": "ipython3",
   "version": "3.10.13"
  },
  "papermill": {
   "default_parameters": {},
   "duration": 8.125943,
   "end_time": "2024-03-31T17:27:43.556028",
   "environment_variables": {},
   "exception": null,
   "input_path": "__notebook__.ipynb",
   "output_path": "__notebook__.ipynb",
   "parameters": {},
   "start_time": "2024-03-31T17:27:35.430085",
   "version": "2.5.0"
  }
 },
 "nbformat": 4,
 "nbformat_minor": 5
}
