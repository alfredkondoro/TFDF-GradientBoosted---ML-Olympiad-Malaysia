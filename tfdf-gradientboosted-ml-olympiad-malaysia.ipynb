{
 "cells": [
  {
   "cell_type": "code",
   "execution_count": 1,
   "id": "4c140b95",
   "metadata": {
    "_cell_guid": "b1076dfc-b9ad-4769-8c92-a6c4dae69d19",
    "_uuid": "8f2839f25d086af736a60e9eeb907d3b93b6e0e5",
    "execution": {
     "iopub.execute_input": "2024-03-31T18:23:06.042673Z",
     "iopub.status.busy": "2024-03-31T18:23:06.042159Z",
     "iopub.status.idle": "2024-03-31T18:23:06.962794Z",
     "shell.execute_reply": "2024-03-31T18:23:06.961580Z"
    },
    "papermill": {
     "duration": 0.938935,
     "end_time": "2024-03-31T18:23:06.966326",
     "exception": false,
     "start_time": "2024-03-31T18:23:06.027391",
     "status": "completed"
    },
    "tags": []
   },
   "outputs": [],
   "source": [
    "import numpy as np\n",
    "import pandas as pd\n",
    "\n",
    "import warnings\n",
    "warnings.simplefilter(action='ignore', category=FutureWarning)"
   ]
  },
  {
   "cell_type": "code",
   "execution_count": 2,
   "id": "f5d8f7f0",
   "metadata": {
    "execution": {
     "iopub.execute_input": "2024-03-31T18:23:06.994382Z",
     "iopub.status.busy": "2024-03-31T18:23:06.993800Z",
     "iopub.status.idle": "2024-03-31T18:23:07.449430Z",
     "shell.execute_reply": "2024-03-31T18:23:07.448088Z"
    },
    "papermill": {
     "duration": 0.47321,
     "end_time": "2024-03-31T18:23:07.452428",
     "exception": false,
     "start_time": "2024-03-31T18:23:06.979218",
     "status": "completed"
    },
    "tags": []
   },
   "outputs": [],
   "source": [
    "train = pd.read_csv('/kaggle/input/ml-olympiad-ai-ml-malaysia/train.csv')\n",
    "test = pd.read_csv('/kaggle/input/ml-olympiad-ai-ml-malaysia/test.csv')\n",
    "submit = pd.read_csv('/kaggle/input/ml-olympiad-ai-ml-malaysia/sample_submission.csv')"
   ]
  },
  {
   "cell_type": "code",
   "execution_count": 3,
   "id": "a9e147bc",
   "metadata": {
    "execution": {
     "iopub.execute_input": "2024-03-31T18:23:07.480910Z",
     "iopub.status.busy": "2024-03-31T18:23:07.479496Z",
     "iopub.status.idle": "2024-03-31T18:23:07.524941Z",
     "shell.execute_reply": "2024-03-31T18:23:07.523829Z"
    },
    "papermill": {
     "duration": 0.062534,
     "end_time": "2024-03-31T18:23:07.527784",
     "exception": false,
     "start_time": "2024-03-31T18:23:07.465250",
     "status": "completed"
    },
    "tags": []
   },
   "outputs": [
    {
     "name": "stdout",
     "output_type": "stream",
     "text": [
      "<class 'pandas.core.frame.DataFrame'>\n",
      "RangeIndex: 55760 entries, 0 to 55759\n",
      "Data columns (total 21 columns):\n",
      " #   Column  Non-Null Count  Dtype  \n",
      "---  ------  --------------  -----  \n",
      " 0   id      55760 non-null  int64  \n",
      " 1   02      55760 non-null  int64  \n",
      " 2   03      55752 non-null  object \n",
      " 3   04      55760 non-null  object \n",
      " 4   05      55760 non-null  int64  \n",
      " 5   06      55102 non-null  float64\n",
      " 6   07      55760 non-null  int64  \n",
      " 7   08      52567 non-null  float64\n",
      " 8   09      52336 non-null  float64\n",
      " 9   10      55760 non-null  float64\n",
      " 10  11      55760 non-null  int64  \n",
      " 11  12      48289 non-null  float64\n",
      " 12  13      55760 non-null  int64  \n",
      " 13  14      55760 non-null  int64  \n",
      " 14  15      55760 non-null  int64  \n",
      " 15  16      55719 non-null  float64\n",
      " 16  17      33629 non-null  float64\n",
      " 17  18      33629 non-null  float64\n",
      " 18  19      17819 non-null  float64\n",
      " 19  20      55719 non-null  float64\n",
      " 20  class   55760 non-null  int64  \n",
      "dtypes: float64(10), int64(9), object(2)\n",
      "memory usage: 8.9+ MB\n"
     ]
    }
   ],
   "source": [
    "train.info()"
   ]
  },
  {
   "cell_type": "code",
   "execution_count": 4,
   "id": "c57000ff",
   "metadata": {
    "execution": {
     "iopub.execute_input": "2024-03-31T18:23:07.554912Z",
     "iopub.status.busy": "2024-03-31T18:23:07.554167Z",
     "iopub.status.idle": "2024-03-31T18:23:07.565467Z",
     "shell.execute_reply": "2024-03-31T18:23:07.564397Z"
    },
    "papermill": {
     "duration": 0.027584,
     "end_time": "2024-03-31T18:23:07.567780",
     "exception": false,
     "start_time": "2024-03-31T18:23:07.540196",
     "status": "completed"
    },
    "tags": []
   },
   "outputs": [
    {
     "data": {
      "text/plain": [
       "array([0, 1])"
      ]
     },
     "execution_count": 4,
     "metadata": {},
     "output_type": "execute_result"
    }
   ],
   "source": [
    "train['class'].unique()"
   ]
  },
  {
   "cell_type": "code",
   "execution_count": 5,
   "id": "649aefef",
   "metadata": {
    "execution": {
     "iopub.execute_input": "2024-03-31T18:23:07.595049Z",
     "iopub.status.busy": "2024-03-31T18:23:07.594599Z",
     "iopub.status.idle": "2024-03-31T18:23:07.606005Z",
     "shell.execute_reply": "2024-03-31T18:23:07.604852Z"
    },
    "papermill": {
     "duration": 0.028072,
     "end_time": "2024-03-31T18:23:07.608435",
     "exception": false,
     "start_time": "2024-03-31T18:23:07.580363",
     "status": "completed"
    },
    "tags": []
   },
   "outputs": [
    {
     "data": {
      "text/plain": [
       "class\n",
       "0    54916\n",
       "1      844\n",
       "Name: count, dtype: int64"
      ]
     },
     "execution_count": 5,
     "metadata": {},
     "output_type": "execute_result"
    }
   ],
   "source": [
    "train['class'].value_counts()"
   ]
  },
  {
   "cell_type": "code",
   "execution_count": 6,
   "id": "1462caf8",
   "metadata": {
    "execution": {
     "iopub.execute_input": "2024-03-31T18:23:07.636707Z",
     "iopub.status.busy": "2024-03-31T18:23:07.636076Z",
     "iopub.status.idle": "2024-03-31T18:23:07.653022Z",
     "shell.execute_reply": "2024-03-31T18:23:07.651398Z"
    },
    "papermill": {
     "duration": 0.035116,
     "end_time": "2024-03-31T18:23:07.656140",
     "exception": false,
     "start_time": "2024-03-31T18:23:07.621024",
     "status": "completed"
    },
    "tags": []
   },
   "outputs": [
    {
     "name": "stdout",
     "output_type": "stream",
     "text": [
      "<class 'pandas.core.frame.DataFrame'>\n",
      "RangeIndex: 13940 entries, 0 to 13939\n",
      "Data columns (total 20 columns):\n",
      " #   Column  Non-Null Count  Dtype  \n",
      "---  ------  --------------  -----  \n",
      " 0   id      13940 non-null  int64  \n",
      " 1   02      13940 non-null  int64  \n",
      " 2   03      13933 non-null  object \n",
      " 3   04      13940 non-null  object \n",
      " 4   05      13940 non-null  int64  \n",
      " 5   06      13784 non-null  float64\n",
      " 6   07      13940 non-null  int64  \n",
      " 7   08      13115 non-null  float64\n",
      " 8   09      13066 non-null  float64\n",
      " 9   10      13940 non-null  float64\n",
      " 10  11      13940 non-null  int64  \n",
      " 11  12      12023 non-null  float64\n",
      " 12  13      13940 non-null  int64  \n",
      " 13  14      13940 non-null  int64  \n",
      " 14  15      13940 non-null  int64  \n",
      " 15  16      13930 non-null  float64\n",
      " 16  17      8366 non-null   float64\n",
      " 17  18      8366 non-null   float64\n",
      " 18  19      4452 non-null   float64\n",
      " 19  20      13930 non-null  float64\n",
      "dtypes: float64(10), int64(8), object(2)\n",
      "memory usage: 2.1+ MB\n"
     ]
    }
   ],
   "source": [
    "test.info()"
   ]
  },
  {
   "cell_type": "markdown",
   "id": "eea6152d",
   "metadata": {
    "papermill": {
     "duration": 0.012808,
     "end_time": "2024-03-31T18:23:07.682139",
     "exception": false,
     "start_time": "2024-03-31T18:23:07.669331",
     "status": "completed"
    },
    "tags": []
   },
   "source": [
    "## FEATURE ENGINEERING"
   ]
  },
  {
   "cell_type": "code",
   "execution_count": 7,
   "id": "f85c780d",
   "metadata": {
    "execution": {
     "iopub.execute_input": "2024-03-31T18:23:07.710104Z",
     "iopub.status.busy": "2024-03-31T18:23:07.709664Z",
     "iopub.status.idle": "2024-03-31T18:23:07.755966Z",
     "shell.execute_reply": "2024-03-31T18:23:07.754692Z"
    },
    "papermill": {
     "duration": 0.063694,
     "end_time": "2024-03-31T18:23:07.758934",
     "exception": false,
     "start_time": "2024-03-31T18:23:07.695240",
     "status": "completed"
    },
    "tags": []
   },
   "outputs": [],
   "source": [
    "cols_to_impute = ['06', '08', '09', '12', '16', '17', '18', '19', '20']\n",
    "\n",
    "def impute_dataset(df):\n",
    "    for column in cols_to_impute:\n",
    "        median_value = int(df[column].median())\n",
    "        df[column].fillna(median_value, inplace=True)    \n",
    "    #for the date\n",
    "    mode_value = df[column].mode()[0]\n",
    "    df['03'].fillna(mode_value, inplace=True)\n",
    "\n",
    "impute_dataset(train)\n",
    "impute_dataset(test)"
   ]
  },
  {
   "cell_type": "code",
   "execution_count": 8,
   "id": "97354283",
   "metadata": {
    "execution": {
     "iopub.execute_input": "2024-03-31T18:23:07.789439Z",
     "iopub.status.busy": "2024-03-31T18:23:07.788588Z",
     "iopub.status.idle": "2024-03-31T18:23:07.907097Z",
     "shell.execute_reply": "2024-03-31T18:23:07.905505Z"
    },
    "papermill": {
     "duration": 0.136585,
     "end_time": "2024-03-31T18:23:07.910357",
     "exception": false,
     "start_time": "2024-03-31T18:23:07.773772",
     "status": "completed"
    },
    "tags": []
   },
   "outputs": [],
   "source": [
    "def date_features(df):\n",
    "    df['03'] = pd.to_datetime(df['03'], errors='coerce')\n",
    "    df['04'] = pd.to_datetime(df['04'], errors='coerce')\n",
    "\n",
    "    df['dob_year'] = df['03'].dt.year\n",
    "    df['dob_month'] = df['03'].dt.month\n",
    "    df['dob_day'] = df['03'].dt.day\n",
    "    df['dob_dayofweek'] = df['03'].dt.dayofweek\n",
    "    df['dob_quarter'] = df['03'].dt.quarter\n",
    "\n",
    "    df['lead_year'] = df['04'].dt.year\n",
    "    df['lead_month'] = df['04'].dt.month\n",
    "    df['lead_day'] = df['04'].dt.day\n",
    "    df['lead_dayofweek'] = df['04'].dt.dayofweek\n",
    "    df['lead_quarter'] = df['04'].dt.quarter\n",
    "\n",
    "    # Calculate the age of the applicant at the time of lead creation based on the date of birth\n",
    "    df['age_at_lead_creation'] = df['04'].dt.year - df['03'].dt.year\n",
    "    \n",
    "date_features(train)    \n",
    "date_features(test)"
   ]
  },
  {
   "cell_type": "code",
   "execution_count": 9,
   "id": "c8de658a",
   "metadata": {
    "execution": {
     "iopub.execute_input": "2024-03-31T18:23:07.939521Z",
     "iopub.status.busy": "2024-03-31T18:23:07.939104Z",
     "iopub.status.idle": "2024-03-31T18:23:07.970107Z",
     "shell.execute_reply": "2024-03-31T18:23:07.968494Z"
    },
    "papermill": {
     "duration": 0.049225,
     "end_time": "2024-03-31T18:23:07.973272",
     "exception": false,
     "start_time": "2024-03-31T18:23:07.924047",
     "status": "completed"
    },
    "tags": []
   },
   "outputs": [],
   "source": [
    "def numerical_features(df):\n",
    "    numcols = ['10', '16', '17', '18', '19', '20']\n",
    "    # Normalize numerical features to bring them to a similar scale\n",
    "    for col in numcols:\n",
    "        df[col + '_normalized'] = (df[col] - df[col].mean()) / df[col].std()\n",
    "\n",
    "    # Create additional numerical features(didn't work out as planned)\n",
    "    #df['loan_amt_to_monthly_income_ratio'] = df['17'] / df['10']\n",
    "    #df['loan_installment_to_monthly_income_ratio'] = df['20'] / df['10']\n",
    "    #df['loan_installment_to_installment_ratio'] = df['20'] / df['16']\n",
    "\n",
    "numerical_features(train)\n",
    "numerical_features(test)"
   ]
  },
  {
   "cell_type": "code",
   "execution_count": 10,
   "id": "08563ff3",
   "metadata": {
    "execution": {
     "iopub.execute_input": "2024-03-31T18:23:08.001848Z",
     "iopub.status.busy": "2024-03-31T18:23:08.001436Z",
     "iopub.status.idle": "2024-03-31T18:23:08.143757Z",
     "shell.execute_reply": "2024-03-31T18:23:08.142776Z"
    },
    "papermill": {
     "duration": 0.160596,
     "end_time": "2024-03-31T18:23:08.147221",
     "exception": false,
     "start_time": "2024-03-31T18:23:07.986625",
     "status": "completed"
    },
    "tags": []
   },
   "outputs": [],
   "source": [
    "def feature_interaction(df):\n",
    "    df['employer_interaction'] = df['08'].astype(str) + '_' + df['09'].astype(str)\n",
    "\n",
    "feature_interaction(train)\n",
    "feature_interaction(test)"
   ]
  },
  {
   "cell_type": "code",
   "execution_count": 11,
   "id": "4336a6bb",
   "metadata": {
    "execution": {
     "iopub.execute_input": "2024-03-31T18:23:08.176705Z",
     "iopub.status.busy": "2024-03-31T18:23:08.176005Z",
     "iopub.status.idle": "2024-03-31T18:23:08.185778Z",
     "shell.execute_reply": "2024-03-31T18:23:08.184473Z"
    },
    "papermill": {
     "duration": 0.027665,
     "end_time": "2024-03-31T18:23:08.188580",
     "exception": false,
     "start_time": "2024-03-31T18:23:08.160915",
     "status": "completed"
    },
    "tags": []
   },
   "outputs": [],
   "source": [
    "def feature_derivation(df):\n",
    "    df['total_loan_amount'] = df['17'] * df['18']\n",
    "    df['total_interest_paid'] = df['19'] * df['17'] * df['18']\n",
    "\n",
    "feature_derivation(train)    \n",
    "feature_derivation(test)"
   ]
  },
  {
   "cell_type": "code",
   "execution_count": 12,
   "id": "e8eb859c",
   "metadata": {
    "execution": {
     "iopub.execute_input": "2024-03-31T18:23:08.218780Z",
     "iopub.status.busy": "2024-03-31T18:23:08.217714Z",
     "iopub.status.idle": "2024-03-31T18:23:08.246311Z",
     "shell.execute_reply": "2024-03-31T18:23:08.245188Z"
    },
    "papermill": {
     "duration": 0.047229,
     "end_time": "2024-03-31T18:23:08.249177",
     "exception": false,
     "start_time": "2024-03-31T18:23:08.201948",
     "status": "completed"
    },
    "tags": []
   },
   "outputs": [
    {
     "name": "stdout",
     "output_type": "stream",
     "text": [
      "<class 'pandas.core.frame.DataFrame'>\n",
      "RangeIndex: 55760 entries, 0 to 55759\n",
      "Data columns (total 41 columns):\n",
      " #   Column                Non-Null Count  Dtype         \n",
      "---  ------                --------------  -----         \n",
      " 0   id                    55760 non-null  int64         \n",
      " 1   02                    55760 non-null  int64         \n",
      " 2   03                    55752 non-null  datetime64[ns]\n",
      " 3   04                    55760 non-null  datetime64[ns]\n",
      " 4   05                    55760 non-null  int64         \n",
      " 5   06                    55760 non-null  float64       \n",
      " 6   07                    55760 non-null  int64         \n",
      " 7   08                    55760 non-null  float64       \n",
      " 8   09                    55760 non-null  float64       \n",
      " 9   10                    55760 non-null  float64       \n",
      " 10  11                    55760 non-null  int64         \n",
      " 11  12                    55760 non-null  float64       \n",
      " 12  13                    55760 non-null  int64         \n",
      " 13  14                    55760 non-null  int64         \n",
      " 14  15                    55760 non-null  int64         \n",
      " 15  16                    55760 non-null  float64       \n",
      " 16  17                    55760 non-null  float64       \n",
      " 17  18                    55760 non-null  float64       \n",
      " 18  19                    55760 non-null  float64       \n",
      " 19  20                    55760 non-null  float64       \n",
      " 20  class                 55760 non-null  int64         \n",
      " 21  dob_year              55752 non-null  float64       \n",
      " 22  dob_month             55752 non-null  float64       \n",
      " 23  dob_day               55752 non-null  float64       \n",
      " 24  dob_dayofweek         55752 non-null  float64       \n",
      " 25  dob_quarter           55752 non-null  float64       \n",
      " 26  lead_year             55760 non-null  int32         \n",
      " 27  lead_month            55760 non-null  int32         \n",
      " 28  lead_day              55760 non-null  int32         \n",
      " 29  lead_dayofweek        55760 non-null  int32         \n",
      " 30  lead_quarter          55760 non-null  int32         \n",
      " 31  age_at_lead_creation  55752 non-null  float64       \n",
      " 32  10_normalized         55760 non-null  float64       \n",
      " 33  16_normalized         55760 non-null  float64       \n",
      " 34  17_normalized         55760 non-null  float64       \n",
      " 35  18_normalized         55760 non-null  float64       \n",
      " 36  19_normalized         55760 non-null  float64       \n",
      " 37  20_normalized         55760 non-null  float64       \n",
      " 38  employer_interaction  55760 non-null  object        \n",
      " 39  total_loan_amount     55760 non-null  float64       \n",
      " 40  total_interest_paid   55760 non-null  float64       \n",
      "dtypes: datetime64[ns](2), float64(24), int32(5), int64(9), object(1)\n",
      "memory usage: 16.4+ MB\n"
     ]
    }
   ],
   "source": [
    "train.info()"
   ]
  },
  {
   "cell_type": "code",
   "execution_count": 13,
   "id": "6e167aac",
   "metadata": {
    "execution": {
     "iopub.execute_input": "2024-03-31T18:23:08.277587Z",
     "iopub.status.busy": "2024-03-31T18:23:08.276814Z",
     "iopub.status.idle": "2024-03-31T18:23:08.305703Z",
     "shell.execute_reply": "2024-03-31T18:23:08.304725Z"
    },
    "papermill": {
     "duration": 0.046033,
     "end_time": "2024-03-31T18:23:08.308380",
     "exception": false,
     "start_time": "2024-03-31T18:23:08.262347",
     "status": "completed"
    },
    "tags": []
   },
   "outputs": [],
   "source": [
    "train.drop(columns=['id', '03', '04', '11'], inplace=True)\n",
    "test.drop(columns=['id', '03', '04', '11'], inplace=True)"
   ]
  },
  {
   "cell_type": "code",
   "execution_count": 14,
   "id": "1e56e9a6",
   "metadata": {
    "execution": {
     "iopub.execute_input": "2024-03-31T18:23:08.336842Z",
     "iopub.status.busy": "2024-03-31T18:23:08.336377Z",
     "iopub.status.idle": "2024-03-31T18:23:08.399599Z",
     "shell.execute_reply": "2024-03-31T18:23:08.398134Z"
    },
    "papermill": {
     "duration": 0.081044,
     "end_time": "2024-03-31T18:23:08.402714",
     "exception": false,
     "start_time": "2024-03-31T18:23:08.321670",
     "status": "completed"
    },
    "tags": []
   },
   "outputs": [],
   "source": [
    "def onehot_encode(df):\n",
    "    one_hot_encoded = pd.get_dummies(df['employer_interaction'], prefix='employer_interaction')\n",
    "    df = pd.concat([df, one_hot_encoded], axis=1)\n",
    "    df.drop('employer_interaction', axis=1, inplace=True)\n",
    "\n",
    "onehot_encode(train)\n",
    "onehot_encode(test)"
   ]
  },
  {
   "cell_type": "markdown",
   "id": "4d55bb08",
   "metadata": {
    "papermill": {
     "duration": 0.012781,
     "end_time": "2024-03-31T18:23:08.429242",
     "exception": false,
     "start_time": "2024-03-31T18:23:08.416461",
     "status": "completed"
    },
    "tags": []
   },
   "source": [
    "## AUTO ML"
   ]
  },
  {
   "cell_type": "code",
   "execution_count": 15,
   "id": "54f101fb",
   "metadata": {
    "execution": {
     "iopub.execute_input": "2024-03-31T18:23:08.457763Z",
     "iopub.status.busy": "2024-03-31T18:23:08.457350Z",
     "iopub.status.idle": "2024-03-31T18:23:25.832952Z",
     "shell.execute_reply": "2024-03-31T18:23:25.831446Z"
    },
    "papermill": {
     "duration": 17.393427,
     "end_time": "2024-03-31T18:23:25.835970",
     "exception": false,
     "start_time": "2024-03-31T18:23:08.442543",
     "status": "completed"
    },
    "tags": []
   },
   "outputs": [
    {
     "name": "stdout",
     "output_type": "stream",
     "text": [
      "Collecting flaml\r\n",
      "  Downloading FLAML-2.1.2-py3-none-any.whl.metadata (15 kB)\r\n",
      "Requirement already satisfied: NumPy>=1.17 in /opt/conda/lib/python3.10/site-packages (from flaml) (1.26.4)\r\n",
      "Downloading FLAML-2.1.2-py3-none-any.whl (296 kB)\r\n",
      "\u001b[2K   \u001b[90m━━━━━━━━━━━━━━━━━━━━━━━━━━━━━━━━━━━━━━━━\u001b[0m \u001b[32m296.7/296.7 kB\u001b[0m \u001b[31m6.9 MB/s\u001b[0m eta \u001b[36m0:00:00\u001b[0m\r\n",
      "\u001b[?25hInstalling collected packages: flaml\r\n",
      "Successfully installed flaml-2.1.2\r\n"
     ]
    }
   ],
   "source": [
    "!pip install flaml"
   ]
  },
  {
   "cell_type": "code",
   "execution_count": 16,
   "id": "410158c4",
   "metadata": {
    "execution": {
     "iopub.execute_input": "2024-03-31T18:23:25.865788Z",
     "iopub.status.busy": "2024-03-31T18:23:25.865237Z",
     "iopub.status.idle": "2024-03-31T18:23:31.752283Z",
     "shell.execute_reply": "2024-03-31T18:23:31.750896Z"
    },
    "papermill": {
     "duration": 5.905707,
     "end_time": "2024-03-31T18:23:31.755466",
     "exception": false,
     "start_time": "2024-03-31T18:23:25.849759",
     "status": "completed"
    },
    "tags": []
   },
   "outputs": [
    {
     "name": "stderr",
     "output_type": "stream",
     "text": [
      "2024-03-31 18:23:26,944\tINFO util.py:124 -- Outdated packages:\n",
      "  ipywidgets==7.7.1 found, needs ipywidgets>=8\n",
      "Run `pip install -U ipywidgets`, then restart the notebook server for rich notebook output.\n",
      "2024-03-31 18:23:28,015\tINFO util.py:124 -- Outdated packages:\n",
      "  ipywidgets==7.7.1 found, needs ipywidgets>=8\n",
      "Run `pip install -U ipywidgets`, then restart the notebook server for rich notebook output.\n"
     ]
    }
   ],
   "source": [
    "from flaml import AutoML\n",
    "\n",
    "automl = AutoML()\n",
    "automl_settings = {\n",
    "    \"time_budget\": 300,\n",
    "    \"metric\": 'accuracy',\n",
    "    \"task\": 'classification',\n",
    "}"
   ]
  },
  {
   "cell_type": "code",
   "execution_count": 17,
   "id": "e6dbf9d5",
   "metadata": {
    "execution": {
     "iopub.execute_input": "2024-03-31T18:23:31.787156Z",
     "iopub.status.busy": "2024-03-31T18:23:31.785644Z",
     "iopub.status.idle": "2024-03-31T18:23:31.845100Z",
     "shell.execute_reply": "2024-03-31T18:23:31.843860Z"
    },
    "papermill": {
     "duration": 0.077812,
     "end_time": "2024-03-31T18:23:31.847818",
     "exception": false,
     "start_time": "2024-03-31T18:23:31.770006",
     "status": "completed"
    },
    "tags": []
   },
   "outputs": [],
   "source": [
    "selected_cols = train.select_dtypes(exclude=['object']).columns\n",
    "selected_cols = selected_cols.drop('class', errors='ignore')\n",
    "test_selected_cols = test.select_dtypes(exclude=['object']).columns\n",
    "X_train = train[selected_cols]\n",
    "y_train = train['class']\n",
    "X_test = test[test_selected_cols]"
   ]
  },
  {
   "cell_type": "code",
   "execution_count": 18,
   "id": "bd932b16",
   "metadata": {
    "execution": {
     "iopub.execute_input": "2024-03-31T18:23:31.877488Z",
     "iopub.status.busy": "2024-03-31T18:23:31.877098Z",
     "iopub.status.idle": "2024-03-31T18:23:31.928293Z",
     "shell.execute_reply": "2024-03-31T18:23:31.926966Z"
    },
    "papermill": {
     "duration": 0.069053,
     "end_time": "2024-03-31T18:23:31.931076",
     "exception": false,
     "start_time": "2024-03-31T18:23:31.862023",
     "status": "completed"
    },
    "tags": []
   },
   "outputs": [],
   "source": [
    "from sklearn.model_selection import train_test_split\n",
    "\n",
    "X_trainsub, X_valid, y_trainsub, y_valid = train_test_split(X_train, y_train, test_size=0.3, train_size=0.7, random_state=True)"
   ]
  },
  {
   "cell_type": "code",
   "execution_count": 19,
   "id": "ef8d836e",
   "metadata": {
    "execution": {
     "iopub.execute_input": "2024-03-31T18:23:31.960473Z",
     "iopub.status.busy": "2024-03-31T18:23:31.960010Z",
     "iopub.status.idle": "2024-03-31T18:28:32.311515Z",
     "shell.execute_reply": "2024-03-31T18:28:32.310341Z"
    },
    "papermill": {
     "duration": 300.369253,
     "end_time": "2024-03-31T18:28:32.314068",
     "exception": false,
     "start_time": "2024-03-31T18:23:31.944815",
     "status": "completed"
    },
    "tags": []
   },
   "outputs": [
    {
     "name": "stdout",
     "output_type": "stream",
     "text": [
      "[flaml.automl.logger: 03-31 18:23:32] {1680} INFO - task = classification\n",
      "[flaml.automl.logger: 03-31 18:23:32] {1691} INFO - Evaluation method: holdout\n",
      "[flaml.automl.logger: 03-31 18:23:32] {1789} INFO - Minimizing error metric: 1-accuracy\n",
      "[flaml.automl.logger: 03-31 18:23:32] {1901} INFO - List of ML learners in AutoML Run: ['lgbm', 'rf', 'catboost', 'xgboost', 'extra_tree', 'xgb_limitdepth', 'lrl1']\n",
      "[flaml.automl.logger: 03-31 18:23:32] {2219} INFO - iteration 0, current learner lgbm\n",
      "[flaml.automl.logger: 03-31 18:23:32] {2345} INFO - Estimated sufficient time budget=2088s. Estimated necessary time budget=51s.\n",
      "[flaml.automl.logger: 03-31 18:23:32] {2392} INFO -  at 0.8s,\testimator lgbm's best error=0.0156,\tbest estimator lgbm's best error=0.0156\n",
      "[flaml.automl.logger: 03-31 18:23:32] {2219} INFO - iteration 1, current learner lgbm\n",
      "[flaml.automl.logger: 03-31 18:23:33] {2392} INFO -  at 1.1s,\testimator lgbm's best error=0.0156,\tbest estimator lgbm's best error=0.0156\n",
      "[flaml.automl.logger: 03-31 18:23:33] {2219} INFO - iteration 2, current learner lgbm\n",
      "[flaml.automl.logger: 03-31 18:23:33] {2392} INFO -  at 1.4s,\testimator lgbm's best error=0.0156,\tbest estimator lgbm's best error=0.0156\n",
      "[flaml.automl.logger: 03-31 18:23:33] {2219} INFO - iteration 3, current learner xgboost\n",
      "[flaml.automl.logger: 03-31 18:23:33] {2392} INFO -  at 1.7s,\testimator xgboost's best error=0.0156,\tbest estimator lgbm's best error=0.0156\n",
      "[flaml.automl.logger: 03-31 18:23:33] {2219} INFO - iteration 4, current learner lgbm\n",
      "[flaml.automl.logger: 03-31 18:23:34] {2392} INFO -  at 2.1s,\testimator lgbm's best error=0.0156,\tbest estimator lgbm's best error=0.0156\n",
      "[flaml.automl.logger: 03-31 18:23:34] {2219} INFO - iteration 5, current learner xgboost\n",
      "[flaml.automl.logger: 03-31 18:23:34] {2392} INFO -  at 2.5s,\testimator xgboost's best error=0.0156,\tbest estimator lgbm's best error=0.0156\n",
      "[flaml.automl.logger: 03-31 18:23:34] {2219} INFO - iteration 6, current learner extra_tree\n",
      "[flaml.automl.logger: 03-31 18:23:34] {2392} INFO -  at 2.6s,\testimator extra_tree's best error=0.0156,\tbest estimator lgbm's best error=0.0156\n",
      "[flaml.automl.logger: 03-31 18:23:34] {2219} INFO - iteration 7, current learner xgboost\n",
      "[flaml.automl.logger: 03-31 18:23:34] {2392} INFO -  at 2.9s,\testimator xgboost's best error=0.0156,\tbest estimator lgbm's best error=0.0156\n",
      "[flaml.automl.logger: 03-31 18:23:34] {2219} INFO - iteration 8, current learner xgboost\n",
      "[flaml.automl.logger: 03-31 18:23:35] {2392} INFO -  at 3.2s,\testimator xgboost's best error=0.0156,\tbest estimator lgbm's best error=0.0156\n",
      "[flaml.automl.logger: 03-31 18:23:35] {2219} INFO - iteration 9, current learner extra_tree\n",
      "[flaml.automl.logger: 03-31 18:23:35] {2392} INFO -  at 3.3s,\testimator extra_tree's best error=0.0156,\tbest estimator lgbm's best error=0.0156\n",
      "[flaml.automl.logger: 03-31 18:23:35] {2219} INFO - iteration 10, current learner extra_tree\n",
      "[flaml.automl.logger: 03-31 18:23:35] {2392} INFO -  at 3.4s,\testimator extra_tree's best error=0.0156,\tbest estimator lgbm's best error=0.0156\n",
      "[flaml.automl.logger: 03-31 18:23:35] {2219} INFO - iteration 11, current learner extra_tree\n",
      "[flaml.automl.logger: 03-31 18:23:35] {2392} INFO -  at 3.5s,\testimator extra_tree's best error=0.0156,\tbest estimator lgbm's best error=0.0156\n",
      "[flaml.automl.logger: 03-31 18:23:35] {2219} INFO - iteration 12, current learner extra_tree\n",
      "[flaml.automl.logger: 03-31 18:23:35] {2392} INFO -  at 3.6s,\testimator extra_tree's best error=0.0156,\tbest estimator lgbm's best error=0.0156\n",
      "[flaml.automl.logger: 03-31 18:23:35] {2219} INFO - iteration 13, current learner rf\n",
      "[flaml.automl.logger: 03-31 18:23:35] {2392} INFO -  at 3.8s,\testimator rf's best error=0.0156,\tbest estimator lgbm's best error=0.0156\n",
      "[flaml.automl.logger: 03-31 18:23:35] {2219} INFO - iteration 14, current learner rf\n",
      "[flaml.automl.logger: 03-31 18:23:35] {2392} INFO -  at 3.9s,\testimator rf's best error=0.0156,\tbest estimator lgbm's best error=0.0156\n",
      "[flaml.automl.logger: 03-31 18:23:35] {2219} INFO - iteration 15, current learner rf\n",
      "[flaml.automl.logger: 03-31 18:23:36] {2392} INFO -  at 4.1s,\testimator rf's best error=0.0156,\tbest estimator lgbm's best error=0.0156\n",
      "[flaml.automl.logger: 03-31 18:23:36] {2219} INFO - iteration 16, current learner rf\n",
      "[flaml.automl.logger: 03-31 18:23:36] {2392} INFO -  at 4.3s,\testimator rf's best error=0.0156,\tbest estimator lgbm's best error=0.0156\n",
      "[flaml.automl.logger: 03-31 18:23:36] {2219} INFO - iteration 17, current learner extra_tree\n",
      "[flaml.automl.logger: 03-31 18:23:36] {2392} INFO -  at 4.5s,\testimator extra_tree's best error=0.0156,\tbest estimator lgbm's best error=0.0156\n",
      "[flaml.automl.logger: 03-31 18:23:36] {2219} INFO - iteration 18, current learner lgbm\n",
      "[flaml.automl.logger: 03-31 18:23:36] {2392} INFO -  at 4.8s,\testimator lgbm's best error=0.0156,\tbest estimator lgbm's best error=0.0156\n",
      "[flaml.automl.logger: 03-31 18:23:36] {2219} INFO - iteration 19, current learner xgboost\n",
      "[flaml.automl.logger: 03-31 18:23:37] {2392} INFO -  at 5.1s,\testimator xgboost's best error=0.0156,\tbest estimator lgbm's best error=0.0156\n",
      "[flaml.automl.logger: 03-31 18:23:37] {2219} INFO - iteration 20, current learner rf\n",
      "[flaml.automl.logger: 03-31 18:23:37] {2392} INFO -  at 5.2s,\testimator rf's best error=0.0156,\tbest estimator lgbm's best error=0.0156\n",
      "[flaml.automl.logger: 03-31 18:23:37] {2219} INFO - iteration 21, current learner xgboost\n",
      "[flaml.automl.logger: 03-31 18:23:37] {2392} INFO -  at 5.5s,\testimator xgboost's best error=0.0156,\tbest estimator lgbm's best error=0.0156\n",
      "[flaml.automl.logger: 03-31 18:23:37] {2219} INFO - iteration 22, current learner lgbm\n",
      "[flaml.automl.logger: 03-31 18:23:37] {2392} INFO -  at 5.8s,\testimator lgbm's best error=0.0156,\tbest estimator lgbm's best error=0.0156\n",
      "[flaml.automl.logger: 03-31 18:23:37] {2219} INFO - iteration 23, current learner rf\n",
      "[flaml.automl.logger: 03-31 18:23:38] {2392} INFO -  at 6.2s,\testimator rf's best error=0.0156,\tbest estimator lgbm's best error=0.0156\n",
      "[flaml.automl.logger: 03-31 18:23:38] {2219} INFO - iteration 24, current learner extra_tree\n",
      "[flaml.automl.logger: 03-31 18:23:38] {2392} INFO -  at 6.2s,\testimator extra_tree's best error=0.0156,\tbest estimator lgbm's best error=0.0156\n",
      "[flaml.automl.logger: 03-31 18:23:38] {2219} INFO - iteration 25, current learner extra_tree\n",
      "[flaml.automl.logger: 03-31 18:23:38] {2392} INFO -  at 6.5s,\testimator extra_tree's best error=0.0156,\tbest estimator lgbm's best error=0.0156\n",
      "[flaml.automl.logger: 03-31 18:23:38] {2219} INFO - iteration 26, current learner rf\n",
      "[flaml.automl.logger: 03-31 18:23:38] {2392} INFO -  at 6.6s,\testimator rf's best error=0.0156,\tbest estimator lgbm's best error=0.0156\n",
      "[flaml.automl.logger: 03-31 18:23:38] {2219} INFO - iteration 27, current learner extra_tree\n",
      "[flaml.automl.logger: 03-31 18:23:38] {2392} INFO -  at 6.7s,\testimator extra_tree's best error=0.0156,\tbest estimator lgbm's best error=0.0156\n",
      "[flaml.automl.logger: 03-31 18:23:38] {2219} INFO - iteration 28, current learner extra_tree\n",
      "[flaml.automl.logger: 03-31 18:23:38] {2392} INFO -  at 6.9s,\testimator extra_tree's best error=0.0156,\tbest estimator lgbm's best error=0.0156\n",
      "[flaml.automl.logger: 03-31 18:23:38] {2219} INFO - iteration 29, current learner extra_tree\n",
      "[flaml.automl.logger: 03-31 18:23:38] {2392} INFO -  at 7.0s,\testimator extra_tree's best error=0.0156,\tbest estimator lgbm's best error=0.0156\n",
      "[flaml.automl.logger: 03-31 18:23:38] {2219} INFO - iteration 30, current learner lgbm\n",
      "[flaml.automl.logger: 03-31 18:23:39] {2392} INFO -  at 7.3s,\testimator lgbm's best error=0.0156,\tbest estimator lgbm's best error=0.0156\n",
      "[flaml.automl.logger: 03-31 18:23:39] {2219} INFO - iteration 31, current learner lgbm\n",
      "[flaml.automl.logger: 03-31 18:23:39] {2392} INFO -  at 7.6s,\testimator lgbm's best error=0.0156,\tbest estimator lgbm's best error=0.0156\n",
      "[flaml.automl.logger: 03-31 18:23:39] {2219} INFO - iteration 32, current learner rf\n",
      "[flaml.automl.logger: 03-31 18:23:39] {2392} INFO -  at 7.9s,\testimator rf's best error=0.0156,\tbest estimator lgbm's best error=0.0156\n",
      "[flaml.automl.logger: 03-31 18:23:39] {2219} INFO - iteration 33, current learner extra_tree\n",
      "[flaml.automl.logger: 03-31 18:23:39] {2392} INFO -  at 8.0s,\testimator extra_tree's best error=0.0156,\tbest estimator lgbm's best error=0.0156\n",
      "[flaml.automl.logger: 03-31 18:23:39] {2219} INFO - iteration 34, current learner lgbm\n",
      "[flaml.automl.logger: 03-31 18:23:40] {2392} INFO -  at 8.4s,\testimator lgbm's best error=0.0156,\tbest estimator lgbm's best error=0.0156\n",
      "[flaml.automl.logger: 03-31 18:23:40] {2219} INFO - iteration 35, current learner rf\n",
      "[flaml.automl.logger: 03-31 18:23:40] {2392} INFO -  at 8.6s,\testimator rf's best error=0.0156,\tbest estimator lgbm's best error=0.0156\n",
      "[flaml.automl.logger: 03-31 18:23:40] {2219} INFO - iteration 36, current learner extra_tree\n",
      "[flaml.automl.logger: 03-31 18:23:40] {2392} INFO -  at 8.8s,\testimator extra_tree's best error=0.0156,\tbest estimator lgbm's best error=0.0156\n",
      "[flaml.automl.logger: 03-31 18:23:40] {2219} INFO - iteration 37, current learner xgboost\n",
      "[flaml.automl.logger: 03-31 18:23:41] {2392} INFO -  at 9.2s,\testimator xgboost's best error=0.0156,\tbest estimator lgbm's best error=0.0156\n",
      "[flaml.automl.logger: 03-31 18:23:41] {2219} INFO - iteration 38, current learner xgboost\n",
      "[flaml.automl.logger: 03-31 18:23:41] {2392} INFO -  at 9.5s,\testimator xgboost's best error=0.0156,\tbest estimator lgbm's best error=0.0156\n",
      "[flaml.automl.logger: 03-31 18:23:41] {2219} INFO - iteration 39, current learner rf\n",
      "[flaml.automl.logger: 03-31 18:23:41] {2392} INFO -  at 9.8s,\testimator rf's best error=0.0156,\tbest estimator lgbm's best error=0.0156\n",
      "[flaml.automl.logger: 03-31 18:23:41] {2219} INFO - iteration 40, current learner extra_tree\n",
      "[flaml.automl.logger: 03-31 18:23:41] {2392} INFO -  at 9.9s,\testimator extra_tree's best error=0.0156,\tbest estimator lgbm's best error=0.0156\n",
      "[flaml.automl.logger: 03-31 18:23:41] {2219} INFO - iteration 41, current learner extra_tree\n",
      "[flaml.automl.logger: 03-31 18:23:42] {2392} INFO -  at 10.1s,\testimator extra_tree's best error=0.0156,\tbest estimator lgbm's best error=0.0156\n",
      "[flaml.automl.logger: 03-31 18:23:42] {2219} INFO - iteration 42, current learner lgbm\n",
      "[flaml.automl.logger: 03-31 18:23:42] {2392} INFO -  at 10.4s,\testimator lgbm's best error=0.0156,\tbest estimator lgbm's best error=0.0156\n",
      "[flaml.automl.logger: 03-31 18:23:42] {2219} INFO - iteration 43, current learner extra_tree\n",
      "[flaml.automl.logger: 03-31 18:23:42] {2392} INFO -  at 10.5s,\testimator extra_tree's best error=0.0156,\tbest estimator lgbm's best error=0.0156\n",
      "[flaml.automl.logger: 03-31 18:23:42] {2219} INFO - iteration 44, current learner extra_tree\n",
      "[flaml.automl.logger: 03-31 18:23:42] {2392} INFO -  at 10.7s,\testimator extra_tree's best error=0.0156,\tbest estimator lgbm's best error=0.0156\n",
      "[flaml.automl.logger: 03-31 18:23:42] {2219} INFO - iteration 45, current learner extra_tree\n",
      "[flaml.automl.logger: 03-31 18:23:42] {2392} INFO -  at 10.8s,\testimator extra_tree's best error=0.0156,\tbest estimator lgbm's best error=0.0156\n",
      "[flaml.automl.logger: 03-31 18:23:42] {2219} INFO - iteration 46, current learner rf\n",
      "[flaml.automl.logger: 03-31 18:23:42] {2392} INFO -  at 11.0s,\testimator rf's best error=0.0156,\tbest estimator lgbm's best error=0.0156\n",
      "[flaml.automl.logger: 03-31 18:23:42] {2219} INFO - iteration 47, current learner extra_tree\n",
      "[flaml.automl.logger: 03-31 18:23:43] {2392} INFO -  at 11.1s,\testimator extra_tree's best error=0.0156,\tbest estimator lgbm's best error=0.0156\n",
      "[flaml.automl.logger: 03-31 18:23:43] {2219} INFO - iteration 48, current learner lgbm\n",
      "[flaml.automl.logger: 03-31 18:23:43] {2392} INFO -  at 11.6s,\testimator lgbm's best error=0.0156,\tbest estimator lgbm's best error=0.0156\n",
      "[flaml.automl.logger: 03-31 18:23:43] {2219} INFO - iteration 49, current learner rf\n",
      "[flaml.automl.logger: 03-31 18:23:43] {2392} INFO -  at 11.7s,\testimator rf's best error=0.0156,\tbest estimator lgbm's best error=0.0156\n",
      "[flaml.automl.logger: 03-31 18:23:43] {2219} INFO - iteration 50, current learner extra_tree\n",
      "[flaml.automl.logger: 03-31 18:23:43] {2392} INFO -  at 11.9s,\testimator extra_tree's best error=0.0156,\tbest estimator lgbm's best error=0.0156\n",
      "[flaml.automl.logger: 03-31 18:23:43] {2219} INFO - iteration 51, current learner rf\n",
      "[flaml.automl.logger: 03-31 18:23:44] {2392} INFO -  at 12.3s,\testimator rf's best error=0.0156,\tbest estimator lgbm's best error=0.0156\n",
      "[flaml.automl.logger: 03-31 18:23:44] {2219} INFO - iteration 52, current learner rf\n",
      "[flaml.automl.logger: 03-31 18:23:44] {2392} INFO -  at 12.5s,\testimator rf's best error=0.0156,\tbest estimator lgbm's best error=0.0156\n",
      "[flaml.automl.logger: 03-31 18:23:44] {2219} INFO - iteration 53, current learner lgbm\n",
      "[flaml.automl.logger: 03-31 18:23:44] {2392} INFO -  at 12.8s,\testimator lgbm's best error=0.0156,\tbest estimator lgbm's best error=0.0156\n",
      "[flaml.automl.logger: 03-31 18:23:44] {2219} INFO - iteration 54, current learner lgbm\n",
      "[flaml.automl.logger: 03-31 18:23:45] {2392} INFO -  at 13.1s,\testimator lgbm's best error=0.0156,\tbest estimator lgbm's best error=0.0156\n",
      "[flaml.automl.logger: 03-31 18:23:45] {2219} INFO - iteration 55, current learner xgboost\n",
      "[flaml.automl.logger: 03-31 18:23:45] {2392} INFO -  at 13.4s,\testimator xgboost's best error=0.0156,\tbest estimator lgbm's best error=0.0156\n",
      "[flaml.automl.logger: 03-31 18:23:45] {2219} INFO - iteration 56, current learner rf\n",
      "[flaml.automl.logger: 03-31 18:23:45] {2392} INFO -  at 13.7s,\testimator rf's best error=0.0156,\tbest estimator lgbm's best error=0.0156\n",
      "[flaml.automl.logger: 03-31 18:23:45] {2219} INFO - iteration 57, current learner rf\n",
      "[flaml.automl.logger: 03-31 18:23:45] {2392} INFO -  at 13.9s,\testimator rf's best error=0.0156,\tbest estimator lgbm's best error=0.0156\n",
      "[flaml.automl.logger: 03-31 18:23:45] {2219} INFO - iteration 58, current learner xgboost\n",
      "[flaml.automl.logger: 03-31 18:23:46] {2392} INFO -  at 14.2s,\testimator xgboost's best error=0.0156,\tbest estimator lgbm's best error=0.0156\n",
      "[flaml.automl.logger: 03-31 18:23:46] {2219} INFO - iteration 59, current learner lgbm\n",
      "[flaml.automl.logger: 03-31 18:23:46] {2392} INFO -  at 14.5s,\testimator lgbm's best error=0.0156,\tbest estimator lgbm's best error=0.0156\n",
      "[flaml.automl.logger: 03-31 18:23:46] {2219} INFO - iteration 60, current learner xgboost\n",
      "[flaml.automl.logger: 03-31 18:23:46] {2392} INFO -  at 14.8s,\testimator xgboost's best error=0.0156,\tbest estimator lgbm's best error=0.0156\n",
      "[flaml.automl.logger: 03-31 18:23:46] {2219} INFO - iteration 61, current learner lgbm\n",
      "[flaml.automl.logger: 03-31 18:23:47] {2392} INFO -  at 15.1s,\testimator lgbm's best error=0.0156,\tbest estimator lgbm's best error=0.0156\n",
      "[flaml.automl.logger: 03-31 18:23:47] {2219} INFO - iteration 62, current learner xgboost\n",
      "[flaml.automl.logger: 03-31 18:23:47] {2392} INFO -  at 15.4s,\testimator xgboost's best error=0.0156,\tbest estimator lgbm's best error=0.0156\n",
      "[flaml.automl.logger: 03-31 18:23:47] {2219} INFO - iteration 63, current learner extra_tree\n",
      "[flaml.automl.logger: 03-31 18:23:47] {2392} INFO -  at 15.6s,\testimator extra_tree's best error=0.0156,\tbest estimator lgbm's best error=0.0156\n",
      "[flaml.automl.logger: 03-31 18:23:47] {2219} INFO - iteration 64, current learner lgbm\n",
      "[flaml.automl.logger: 03-31 18:23:47] {2392} INFO -  at 15.9s,\testimator lgbm's best error=0.0156,\tbest estimator lgbm's best error=0.0156\n",
      "[flaml.automl.logger: 03-31 18:23:47] {2219} INFO - iteration 65, current learner rf\n",
      "[flaml.automl.logger: 03-31 18:23:48] {2392} INFO -  at 16.1s,\testimator rf's best error=0.0156,\tbest estimator lgbm's best error=0.0156\n",
      "[flaml.automl.logger: 03-31 18:23:48] {2219} INFO - iteration 66, current learner extra_tree\n",
      "[flaml.automl.logger: 03-31 18:23:48] {2392} INFO -  at 16.4s,\testimator extra_tree's best error=0.0156,\tbest estimator lgbm's best error=0.0156\n",
      "[flaml.automl.logger: 03-31 18:23:48] {2219} INFO - iteration 67, current learner rf\n",
      "[flaml.automl.logger: 03-31 18:23:48] {2392} INFO -  at 16.6s,\testimator rf's best error=0.0156,\tbest estimator lgbm's best error=0.0156\n",
      "[flaml.automl.logger: 03-31 18:23:48] {2219} INFO - iteration 68, current learner lgbm\n",
      "[flaml.automl.logger: 03-31 18:23:48] {2392} INFO -  at 17.0s,\testimator lgbm's best error=0.0156,\tbest estimator lgbm's best error=0.0156\n",
      "[flaml.automl.logger: 03-31 18:23:48] {2219} INFO - iteration 69, current learner xgboost\n",
      "[flaml.automl.logger: 03-31 18:23:49] {2392} INFO -  at 17.3s,\testimator xgboost's best error=0.0156,\tbest estimator lgbm's best error=0.0156\n",
      "[flaml.automl.logger: 03-31 18:23:49] {2219} INFO - iteration 70, current learner xgboost\n",
      "[flaml.automl.logger: 03-31 18:23:49] {2392} INFO -  at 17.6s,\testimator xgboost's best error=0.0156,\tbest estimator lgbm's best error=0.0156\n",
      "[flaml.automl.logger: 03-31 18:23:49] {2219} INFO - iteration 71, current learner xgboost\n",
      "[flaml.automl.logger: 03-31 18:23:49] {2392} INFO -  at 17.9s,\testimator xgboost's best error=0.0156,\tbest estimator lgbm's best error=0.0156\n",
      "[flaml.automl.logger: 03-31 18:23:49] {2219} INFO - iteration 72, current learner extra_tree\n",
      "[flaml.automl.logger: 03-31 18:23:50] {2392} INFO -  at 18.2s,\testimator extra_tree's best error=0.0156,\tbest estimator lgbm's best error=0.0156\n",
      "[flaml.automl.logger: 03-31 18:23:50] {2219} INFO - iteration 73, current learner catboost\n",
      "[flaml.automl.logger: 03-31 18:23:51] {2392} INFO -  at 19.2s,\testimator catboost's best error=0.0156,\tbest estimator lgbm's best error=0.0156\n",
      "[flaml.automl.logger: 03-31 18:23:51] {2219} INFO - iteration 74, current learner catboost\n",
      "[flaml.automl.logger: 03-31 18:23:52] {2392} INFO -  at 20.2s,\testimator catboost's best error=0.0156,\tbest estimator lgbm's best error=0.0156\n",
      "[flaml.automl.logger: 03-31 18:23:52] {2219} INFO - iteration 75, current learner extra_tree\n",
      "[flaml.automl.logger: 03-31 18:23:52] {2392} INFO -  at 20.4s,\testimator extra_tree's best error=0.0156,\tbest estimator lgbm's best error=0.0156\n",
      "[flaml.automl.logger: 03-31 18:23:52] {2219} INFO - iteration 76, current learner rf\n",
      "[flaml.automl.logger: 03-31 18:23:52] {2392} INFO -  at 20.6s,\testimator rf's best error=0.0156,\tbest estimator lgbm's best error=0.0156\n",
      "[flaml.automl.logger: 03-31 18:23:52] {2219} INFO - iteration 77, current learner rf\n",
      "[flaml.automl.logger: 03-31 18:23:52] {2392} INFO -  at 20.9s,\testimator rf's best error=0.0156,\tbest estimator lgbm's best error=0.0156\n",
      "[flaml.automl.logger: 03-31 18:23:52] {2219} INFO - iteration 78, current learner xgboost\n",
      "[flaml.automl.logger: 03-31 18:23:53] {2392} INFO -  at 21.2s,\testimator xgboost's best error=0.0156,\tbest estimator lgbm's best error=0.0156\n",
      "[flaml.automl.logger: 03-31 18:23:53] {2219} INFO - iteration 79, current learner catboost\n",
      "[flaml.automl.logger: 03-31 18:23:53] {2392} INFO -  at 21.6s,\testimator catboost's best error=0.0156,\tbest estimator lgbm's best error=0.0156\n",
      "[flaml.automl.logger: 03-31 18:23:53] {2219} INFO - iteration 80, current learner rf\n",
      "[flaml.automl.logger: 03-31 18:23:53] {2392} INFO -  at 21.8s,\testimator rf's best error=0.0156,\tbest estimator lgbm's best error=0.0156\n",
      "[flaml.automl.logger: 03-31 18:23:53] {2219} INFO - iteration 81, current learner extra_tree\n",
      "[flaml.automl.logger: 03-31 18:23:54] {2392} INFO -  at 22.2s,\testimator extra_tree's best error=0.0156,\tbest estimator lgbm's best error=0.0156\n",
      "[flaml.automl.logger: 03-31 18:23:54] {2219} INFO - iteration 82, current learner catboost\n",
      "[flaml.automl.logger: 03-31 18:23:54] {2392} INFO -  at 22.8s,\testimator catboost's best error=0.0156,\tbest estimator lgbm's best error=0.0156\n",
      "[flaml.automl.logger: 03-31 18:23:54] {2219} INFO - iteration 83, current learner xgboost\n",
      "[flaml.automl.logger: 03-31 18:23:55] {2392} INFO -  at 23.2s,\testimator xgboost's best error=0.0156,\tbest estimator lgbm's best error=0.0156\n",
      "[flaml.automl.logger: 03-31 18:23:55] {2219} INFO - iteration 84, current learner xgboost\n",
      "[flaml.automl.logger: 03-31 18:23:55] {2392} INFO -  at 23.4s,\testimator xgboost's best error=0.0156,\tbest estimator lgbm's best error=0.0156\n",
      "[flaml.automl.logger: 03-31 18:23:55] {2219} INFO - iteration 85, current learner extra_tree\n",
      "[flaml.automl.logger: 03-31 18:23:55] {2392} INFO -  at 23.6s,\testimator extra_tree's best error=0.0156,\tbest estimator lgbm's best error=0.0156\n",
      "[flaml.automl.logger: 03-31 18:23:55] {2219} INFO - iteration 86, current learner catboost\n",
      "[flaml.automl.logger: 03-31 18:23:56] {2392} INFO -  at 24.4s,\testimator catboost's best error=0.0156,\tbest estimator lgbm's best error=0.0156\n",
      "[flaml.automl.logger: 03-31 18:23:56] {2219} INFO - iteration 87, current learner xgboost\n",
      "[flaml.automl.logger: 03-31 18:23:56] {2392} INFO -  at 24.8s,\testimator xgboost's best error=0.0156,\tbest estimator lgbm's best error=0.0156\n",
      "[flaml.automl.logger: 03-31 18:23:56] {2219} INFO - iteration 88, current learner catboost\n",
      "[flaml.automl.logger: 03-31 18:24:00] {2392} INFO -  at 29.0s,\testimator catboost's best error=0.0156,\tbest estimator lgbm's best error=0.0156\n",
      "[flaml.automl.logger: 03-31 18:24:00] {2219} INFO - iteration 89, current learner rf\n",
      "[flaml.automl.logger: 03-31 18:24:01] {2392} INFO -  at 29.6s,\testimator rf's best error=0.0156,\tbest estimator lgbm's best error=0.0156\n",
      "[flaml.automl.logger: 03-31 18:24:01] {2219} INFO - iteration 90, current learner extra_tree\n",
      "[flaml.automl.logger: 03-31 18:24:01] {2392} INFO -  at 30.0s,\testimator extra_tree's best error=0.0156,\tbest estimator lgbm's best error=0.0156\n",
      "[flaml.automl.logger: 03-31 18:24:01] {2219} INFO - iteration 91, current learner catboost\n",
      "[flaml.automl.logger: 03-31 18:24:08] {2392} INFO -  at 36.3s,\testimator catboost's best error=0.0156,\tbest estimator lgbm's best error=0.0156\n",
      "[flaml.automl.logger: 03-31 18:24:08] {2219} INFO - iteration 92, current learner extra_tree\n",
      "[flaml.automl.logger: 03-31 18:24:08] {2392} INFO -  at 36.4s,\testimator extra_tree's best error=0.0156,\tbest estimator lgbm's best error=0.0156\n",
      "[flaml.automl.logger: 03-31 18:24:08] {2219} INFO - iteration 93, current learner xgboost\n",
      "[flaml.automl.logger: 03-31 18:24:08] {2392} INFO -  at 36.7s,\testimator xgboost's best error=0.0156,\tbest estimator lgbm's best error=0.0156\n",
      "[flaml.automl.logger: 03-31 18:24:08] {2219} INFO - iteration 94, current learner xgboost\n",
      "[flaml.automl.logger: 03-31 18:24:09] {2392} INFO -  at 37.1s,\testimator xgboost's best error=0.0156,\tbest estimator lgbm's best error=0.0156\n",
      "[flaml.automl.logger: 03-31 18:24:09] {2219} INFO - iteration 95, current learner lgbm\n",
      "[flaml.automl.logger: 03-31 18:24:09] {2392} INFO -  at 37.4s,\testimator lgbm's best error=0.0156,\tbest estimator lgbm's best error=0.0156\n",
      "[flaml.automl.logger: 03-31 18:24:09] {2219} INFO - iteration 96, current learner extra_tree\n",
      "[flaml.automl.logger: 03-31 18:24:09] {2392} INFO -  at 37.7s,\testimator extra_tree's best error=0.0156,\tbest estimator lgbm's best error=0.0156\n",
      "[flaml.automl.logger: 03-31 18:24:09] {2219} INFO - iteration 97, current learner rf\n",
      "[flaml.automl.logger: 03-31 18:24:10] {2392} INFO -  at 38.3s,\testimator rf's best error=0.0156,\tbest estimator lgbm's best error=0.0156\n",
      "[flaml.automl.logger: 03-31 18:24:10] {2219} INFO - iteration 98, current learner xgboost\n",
      "[flaml.automl.logger: 03-31 18:24:10] {2392} INFO -  at 38.6s,\testimator xgboost's best error=0.0156,\tbest estimator lgbm's best error=0.0156\n",
      "[flaml.automl.logger: 03-31 18:24:10] {2219} INFO - iteration 99, current learner rf\n",
      "[flaml.automl.logger: 03-31 18:24:10] {2392} INFO -  at 38.9s,\testimator rf's best error=0.0156,\tbest estimator lgbm's best error=0.0156\n",
      "[flaml.automl.logger: 03-31 18:24:10] {2219} INFO - iteration 100, current learner rf\n",
      "[flaml.automl.logger: 03-31 18:24:11] {2392} INFO -  at 39.4s,\testimator rf's best error=0.0156,\tbest estimator lgbm's best error=0.0156\n",
      "[flaml.automl.logger: 03-31 18:24:11] {2219} INFO - iteration 101, current learner extra_tree\n",
      "[flaml.automl.logger: 03-31 18:24:11] {2392} INFO -  at 39.7s,\testimator extra_tree's best error=0.0156,\tbest estimator lgbm's best error=0.0156\n",
      "[flaml.automl.logger: 03-31 18:24:11] {2219} INFO - iteration 102, current learner xgboost\n",
      "[flaml.automl.logger: 03-31 18:24:11] {2392} INFO -  at 39.9s,\testimator xgboost's best error=0.0156,\tbest estimator lgbm's best error=0.0156\n",
      "[flaml.automl.logger: 03-31 18:24:11] {2219} INFO - iteration 103, current learner lgbm\n",
      "[flaml.automl.logger: 03-31 18:24:12] {2392} INFO -  at 40.3s,\testimator lgbm's best error=0.0156,\tbest estimator lgbm's best error=0.0156\n",
      "[flaml.automl.logger: 03-31 18:24:12] {2219} INFO - iteration 104, current learner xgboost\n",
      "[flaml.automl.logger: 03-31 18:24:12] {2392} INFO -  at 40.6s,\testimator xgboost's best error=0.0156,\tbest estimator lgbm's best error=0.0156\n",
      "[flaml.automl.logger: 03-31 18:24:12] {2219} INFO - iteration 105, current learner rf\n",
      "[flaml.automl.logger: 03-31 18:24:12] {2392} INFO -  at 40.9s,\testimator rf's best error=0.0156,\tbest estimator lgbm's best error=0.0156\n",
      "[flaml.automl.logger: 03-31 18:24:12] {2219} INFO - iteration 106, current learner catboost\n",
      "[flaml.automl.logger: 03-31 18:24:15] {2392} INFO -  at 43.2s,\testimator catboost's best error=0.0156,\tbest estimator lgbm's best error=0.0156\n",
      "[flaml.automl.logger: 03-31 18:24:15] {2219} INFO - iteration 107, current learner extra_tree\n",
      "[flaml.automl.logger: 03-31 18:24:15] {2392} INFO -  at 43.7s,\testimator extra_tree's best error=0.0156,\tbest estimator lgbm's best error=0.0156\n",
      "[flaml.automl.logger: 03-31 18:24:15] {2219} INFO - iteration 108, current learner rf\n",
      "[flaml.automl.logger: 03-31 18:24:16] {2392} INFO -  at 44.6s,\testimator rf's best error=0.0156,\tbest estimator lgbm's best error=0.0156\n",
      "[flaml.automl.logger: 03-31 18:24:16] {2219} INFO - iteration 109, current learner extra_tree\n",
      "[flaml.automl.logger: 03-31 18:24:16] {2392} INFO -  at 44.7s,\testimator extra_tree's best error=0.0156,\tbest estimator lgbm's best error=0.0156\n",
      "[flaml.automl.logger: 03-31 18:24:16] {2219} INFO - iteration 110, current learner xgboost\n",
      "[flaml.automl.logger: 03-31 18:24:17] {2392} INFO -  at 45.1s,\testimator xgboost's best error=0.0156,\tbest estimator lgbm's best error=0.0156\n",
      "[flaml.automl.logger: 03-31 18:24:17] {2219} INFO - iteration 111, current learner lgbm\n",
      "[flaml.automl.logger: 03-31 18:24:17] {2392} INFO -  at 45.4s,\testimator lgbm's best error=0.0156,\tbest estimator lgbm's best error=0.0156\n",
      "[flaml.automl.logger: 03-31 18:24:17] {2219} INFO - iteration 112, current learner extra_tree\n",
      "[flaml.automl.logger: 03-31 18:24:17] {2392} INFO -  at 45.6s,\testimator extra_tree's best error=0.0156,\tbest estimator lgbm's best error=0.0156\n",
      "[flaml.automl.logger: 03-31 18:24:17] {2219} INFO - iteration 113, current learner xgboost\n",
      "[flaml.automl.logger: 03-31 18:24:17] {2392} INFO -  at 45.8s,\testimator xgboost's best error=0.0156,\tbest estimator lgbm's best error=0.0156\n",
      "[flaml.automl.logger: 03-31 18:24:17] {2219} INFO - iteration 114, current learner extra_tree\n",
      "[flaml.automl.logger: 03-31 18:24:18] {2392} INFO -  at 46.1s,\testimator extra_tree's best error=0.0156,\tbest estimator lgbm's best error=0.0156\n",
      "[flaml.automl.logger: 03-31 18:24:18] {2219} INFO - iteration 115, current learner lgbm\n",
      "[flaml.automl.logger: 03-31 18:24:18] {2392} INFO -  at 46.5s,\testimator lgbm's best error=0.0156,\tbest estimator lgbm's best error=0.0156\n",
      "[flaml.automl.logger: 03-31 18:24:18] {2219} INFO - iteration 116, current learner lgbm\n",
      "[flaml.automl.logger: 03-31 18:24:18] {2392} INFO -  at 46.8s,\testimator lgbm's best error=0.0156,\tbest estimator lgbm's best error=0.0156\n",
      "[flaml.automl.logger: 03-31 18:24:18] {2219} INFO - iteration 117, current learner extra_tree\n",
      "[flaml.automl.logger: 03-31 18:24:20] {2392} INFO -  at 48.0s,\testimator extra_tree's best error=0.0156,\tbest estimator lgbm's best error=0.0156\n",
      "[flaml.automl.logger: 03-31 18:24:20] {2219} INFO - iteration 118, current learner xgboost\n",
      "[flaml.automl.logger: 03-31 18:24:20] {2392} INFO -  at 48.5s,\testimator xgboost's best error=0.0156,\tbest estimator lgbm's best error=0.0156\n",
      "[flaml.automl.logger: 03-31 18:24:20] {2219} INFO - iteration 119, current learner lgbm\n",
      "[flaml.automl.logger: 03-31 18:24:20] {2392} INFO -  at 48.8s,\testimator lgbm's best error=0.0156,\tbest estimator lgbm's best error=0.0156\n",
      "[flaml.automl.logger: 03-31 18:24:20] {2219} INFO - iteration 120, current learner xgboost\n",
      "[flaml.automl.logger: 03-31 18:24:21] {2392} INFO -  at 49.1s,\testimator xgboost's best error=0.0156,\tbest estimator lgbm's best error=0.0156\n",
      "[flaml.automl.logger: 03-31 18:24:21] {2219} INFO - iteration 121, current learner xgboost\n",
      "[flaml.automl.logger: 03-31 18:24:21] {2392} INFO -  at 49.4s,\testimator xgboost's best error=0.0156,\tbest estimator lgbm's best error=0.0156\n",
      "[flaml.automl.logger: 03-31 18:24:21] {2219} INFO - iteration 122, current learner extra_tree\n",
      "[flaml.automl.logger: 03-31 18:24:23] {2392} INFO -  at 51.3s,\testimator extra_tree's best error=0.0156,\tbest estimator lgbm's best error=0.0156\n",
      "[flaml.automl.logger: 03-31 18:24:23] {2219} INFO - iteration 123, current learner xgboost\n",
      "[flaml.automl.logger: 03-31 18:24:23] {2392} INFO -  at 51.6s,\testimator xgboost's best error=0.0156,\tbest estimator lgbm's best error=0.0156\n",
      "[flaml.automl.logger: 03-31 18:24:23] {2219} INFO - iteration 124, current learner lgbm\n",
      "[flaml.automl.logger: 03-31 18:24:24] {2392} INFO -  at 52.0s,\testimator lgbm's best error=0.0156,\tbest estimator lgbm's best error=0.0156\n",
      "[flaml.automl.logger: 03-31 18:24:24] {2219} INFO - iteration 125, current learner lgbm\n",
      "[flaml.automl.logger: 03-31 18:24:24] {2392} INFO -  at 52.4s,\testimator lgbm's best error=0.0156,\tbest estimator lgbm's best error=0.0156\n",
      "[flaml.automl.logger: 03-31 18:24:24] {2219} INFO - iteration 126, current learner lgbm\n",
      "[flaml.automl.logger: 03-31 18:24:24] {2392} INFO -  at 52.8s,\testimator lgbm's best error=0.0156,\tbest estimator lgbm's best error=0.0156\n",
      "[flaml.automl.logger: 03-31 18:24:24] {2219} INFO - iteration 127, current learner lgbm\n",
      "[flaml.automl.logger: 03-31 18:24:25] {2392} INFO -  at 53.1s,\testimator lgbm's best error=0.0156,\tbest estimator lgbm's best error=0.0156\n",
      "[flaml.automl.logger: 03-31 18:24:25] {2219} INFO - iteration 128, current learner rf\n",
      "[flaml.automl.logger: 03-31 18:24:25] {2392} INFO -  at 53.3s,\testimator rf's best error=0.0156,\tbest estimator lgbm's best error=0.0156\n",
      "[flaml.automl.logger: 03-31 18:24:25] {2219} INFO - iteration 129, current learner extra_tree\n",
      "[flaml.automl.logger: 03-31 18:24:26] {2392} INFO -  at 54.4s,\testimator extra_tree's best error=0.0156,\tbest estimator lgbm's best error=0.0156\n",
      "[flaml.automl.logger: 03-31 18:24:26] {2219} INFO - iteration 130, current learner catboost\n",
      "[flaml.automl.logger: 03-31 18:24:31] {2392} INFO -  at 59.3s,\testimator catboost's best error=0.0156,\tbest estimator lgbm's best error=0.0156\n",
      "[flaml.automl.logger: 03-31 18:24:31] {2219} INFO - iteration 131, current learner catboost\n",
      "[flaml.automl.logger: 03-31 18:24:35] {2392} INFO -  at 63.1s,\testimator catboost's best error=0.0156,\tbest estimator lgbm's best error=0.0156\n",
      "[flaml.automl.logger: 03-31 18:24:35] {2219} INFO - iteration 132, current learner extra_tree\n",
      "[flaml.automl.logger: 03-31 18:24:36] {2392} INFO -  at 64.8s,\testimator extra_tree's best error=0.0156,\tbest estimator lgbm's best error=0.0156\n",
      "[flaml.automl.logger: 03-31 18:24:36] {2219} INFO - iteration 133, current learner lgbm\n",
      "[flaml.automl.logger: 03-31 18:24:37] {2392} INFO -  at 65.1s,\testimator lgbm's best error=0.0156,\tbest estimator lgbm's best error=0.0156\n",
      "[flaml.automl.logger: 03-31 18:24:37] {2219} INFO - iteration 134, current learner rf\n",
      "[flaml.automl.logger: 03-31 18:24:37] {2392} INFO -  at 65.7s,\testimator rf's best error=0.0156,\tbest estimator lgbm's best error=0.0156\n",
      "[flaml.automl.logger: 03-31 18:24:37] {2219} INFO - iteration 135, current learner xgboost\n",
      "[flaml.automl.logger: 03-31 18:24:38] {2392} INFO -  at 66.1s,\testimator xgboost's best error=0.0156,\tbest estimator lgbm's best error=0.0156\n",
      "[flaml.automl.logger: 03-31 18:24:38] {2219} INFO - iteration 136, current learner extra_tree\n",
      "[flaml.automl.logger: 03-31 18:24:39] {2392} INFO -  at 67.1s,\testimator extra_tree's best error=0.0156,\tbest estimator lgbm's best error=0.0156\n",
      "[flaml.automl.logger: 03-31 18:24:39] {2219} INFO - iteration 137, current learner catboost\n",
      "[flaml.automl.logger: 03-31 18:24:40] {2392} INFO -  at 68.1s,\testimator catboost's best error=0.0156,\tbest estimator lgbm's best error=0.0156\n",
      "[flaml.automl.logger: 03-31 18:24:40] {2219} INFO - iteration 138, current learner lgbm\n",
      "[flaml.automl.logger: 03-31 18:24:40] {2392} INFO -  at 68.4s,\testimator lgbm's best error=0.0156,\tbest estimator lgbm's best error=0.0156\n",
      "[flaml.automl.logger: 03-31 18:24:40] {2219} INFO - iteration 139, current learner xgboost\n",
      "[flaml.automl.logger: 03-31 18:24:40] {2392} INFO -  at 68.7s,\testimator xgboost's best error=0.0156,\tbest estimator lgbm's best error=0.0156\n",
      "[flaml.automl.logger: 03-31 18:24:40] {2219} INFO - iteration 140, current learner lgbm\n",
      "[flaml.automl.logger: 03-31 18:24:40] {2392} INFO -  at 69.0s,\testimator lgbm's best error=0.0156,\tbest estimator lgbm's best error=0.0156\n",
      "[flaml.automl.logger: 03-31 18:24:40] {2219} INFO - iteration 141, current learner xgboost\n",
      "[flaml.automl.logger: 03-31 18:24:41] {2392} INFO -  at 69.3s,\testimator xgboost's best error=0.0156,\tbest estimator lgbm's best error=0.0156\n",
      "[flaml.automl.logger: 03-31 18:24:41] {2219} INFO - iteration 142, current learner rf\n",
      "[flaml.automl.logger: 03-31 18:24:41] {2392} INFO -  at 69.7s,\testimator rf's best error=0.0156,\tbest estimator lgbm's best error=0.0156\n",
      "[flaml.automl.logger: 03-31 18:24:41] {2219} INFO - iteration 143, current learner extra_tree\n",
      "[flaml.automl.logger: 03-31 18:24:42] {2392} INFO -  at 70.5s,\testimator extra_tree's best error=0.0156,\tbest estimator lgbm's best error=0.0156\n",
      "[flaml.automl.logger: 03-31 18:24:42] {2219} INFO - iteration 144, current learner xgboost\n",
      "[flaml.automl.logger: 03-31 18:24:42] {2392} INFO -  at 70.9s,\testimator xgboost's best error=0.0156,\tbest estimator lgbm's best error=0.0156\n",
      "[flaml.automl.logger: 03-31 18:24:42] {2219} INFO - iteration 145, current learner catboost\n",
      "[flaml.automl.logger: 03-31 18:24:44] {2392} INFO -  at 72.2s,\testimator catboost's best error=0.0156,\tbest estimator lgbm's best error=0.0156\n",
      "[flaml.automl.logger: 03-31 18:24:44] {2219} INFO - iteration 146, current learner lgbm\n",
      "[flaml.automl.logger: 03-31 18:24:44] {2392} INFO -  at 72.6s,\testimator lgbm's best error=0.0156,\tbest estimator lgbm's best error=0.0156\n",
      "[flaml.automl.logger: 03-31 18:24:44] {2219} INFO - iteration 147, current learner lgbm\n",
      "[flaml.automl.logger: 03-31 18:24:44] {2392} INFO -  at 72.9s,\testimator lgbm's best error=0.0156,\tbest estimator lgbm's best error=0.0156\n",
      "[flaml.automl.logger: 03-31 18:24:44] {2219} INFO - iteration 148, current learner lgbm\n",
      "[flaml.automl.logger: 03-31 18:24:45] {2392} INFO -  at 73.3s,\testimator lgbm's best error=0.0156,\tbest estimator lgbm's best error=0.0156\n",
      "[flaml.automl.logger: 03-31 18:24:45] {2219} INFO - iteration 149, current learner lgbm\n",
      "[flaml.automl.logger: 03-31 18:24:45] {2392} INFO -  at 73.6s,\testimator lgbm's best error=0.0156,\tbest estimator lgbm's best error=0.0156\n",
      "[flaml.automl.logger: 03-31 18:24:45] {2219} INFO - iteration 150, current learner lgbm\n",
      "[flaml.automl.logger: 03-31 18:24:45] {2392} INFO -  at 73.9s,\testimator lgbm's best error=0.0156,\tbest estimator lgbm's best error=0.0156\n",
      "[flaml.automl.logger: 03-31 18:24:45] {2219} INFO - iteration 151, current learner rf\n",
      "[flaml.automl.logger: 03-31 18:24:46] {2392} INFO -  at 74.7s,\testimator rf's best error=0.0156,\tbest estimator lgbm's best error=0.0156\n",
      "[flaml.automl.logger: 03-31 18:24:46] {2219} INFO - iteration 152, current learner xgboost\n",
      "[flaml.automl.logger: 03-31 18:24:46] {2392} INFO -  at 75.0s,\testimator xgboost's best error=0.0156,\tbest estimator lgbm's best error=0.0156\n",
      "[flaml.automl.logger: 03-31 18:24:46] {2219} INFO - iteration 153, current learner catboost\n",
      "[flaml.automl.logger: 03-31 18:24:47] {2392} INFO -  at 76.0s,\testimator catboost's best error=0.0156,\tbest estimator lgbm's best error=0.0156\n",
      "[flaml.automl.logger: 03-31 18:24:47] {2219} INFO - iteration 154, current learner lgbm\n",
      "[flaml.automl.logger: 03-31 18:24:48] {2392} INFO -  at 76.5s,\testimator lgbm's best error=0.0156,\tbest estimator lgbm's best error=0.0156\n",
      "[flaml.automl.logger: 03-31 18:24:48] {2219} INFO - iteration 155, current learner lgbm\n",
      "[flaml.automl.logger: 03-31 18:24:48] {2392} INFO -  at 76.8s,\testimator lgbm's best error=0.0156,\tbest estimator lgbm's best error=0.0156\n",
      "[flaml.automl.logger: 03-31 18:24:48] {2219} INFO - iteration 156, current learner extra_tree\n",
      "[flaml.automl.logger: 03-31 18:24:51] {2392} INFO -  at 79.2s,\testimator extra_tree's best error=0.0156,\tbest estimator lgbm's best error=0.0156\n",
      "[flaml.automl.logger: 03-31 18:24:51] {2219} INFO - iteration 157, current learner catboost\n",
      "[flaml.automl.logger: 03-31 18:24:52] {2392} INFO -  at 80.0s,\testimator catboost's best error=0.0156,\tbest estimator lgbm's best error=0.0156\n",
      "[flaml.automl.logger: 03-31 18:24:52] {2219} INFO - iteration 158, current learner lgbm\n",
      "[flaml.automl.logger: 03-31 18:24:52] {2392} INFO -  at 80.4s,\testimator lgbm's best error=0.0156,\tbest estimator lgbm's best error=0.0156\n",
      "[flaml.automl.logger: 03-31 18:24:52] {2219} INFO - iteration 159, current learner rf\n",
      "[flaml.automl.logger: 03-31 18:24:52] {2392} INFO -  at 80.6s,\testimator rf's best error=0.0156,\tbest estimator lgbm's best error=0.0156\n",
      "[flaml.automl.logger: 03-31 18:24:52] {2219} INFO - iteration 160, current learner xgboost\n",
      "[flaml.automl.logger: 03-31 18:24:53] {2392} INFO -  at 81.1s,\testimator xgboost's best error=0.0156,\tbest estimator lgbm's best error=0.0156\n",
      "[flaml.automl.logger: 03-31 18:24:53] {2219} INFO - iteration 161, current learner lgbm\n",
      "[flaml.automl.logger: 03-31 18:24:53] {2392} INFO -  at 81.4s,\testimator lgbm's best error=0.0156,\tbest estimator lgbm's best error=0.0156\n",
      "[flaml.automl.logger: 03-31 18:24:53] {2219} INFO - iteration 162, current learner catboost\n",
      "[flaml.automl.logger: 03-31 18:24:54] {2392} INFO -  at 82.8s,\testimator catboost's best error=0.0156,\tbest estimator lgbm's best error=0.0156\n",
      "[flaml.automl.logger: 03-31 18:24:54] {2219} INFO - iteration 163, current learner extra_tree\n",
      "[flaml.automl.logger: 03-31 18:24:56] {2392} INFO -  at 84.2s,\testimator extra_tree's best error=0.0156,\tbest estimator lgbm's best error=0.0156\n",
      "[flaml.automl.logger: 03-31 18:24:56] {2219} INFO - iteration 164, current learner extra_tree\n",
      "[flaml.automl.logger: 03-31 18:24:57] {2392} INFO -  at 85.3s,\testimator extra_tree's best error=0.0156,\tbest estimator lgbm's best error=0.0156\n",
      "[flaml.automl.logger: 03-31 18:24:57] {2219} INFO - iteration 165, current learner rf\n",
      "[flaml.automl.logger: 03-31 18:24:57] {2392} INFO -  at 85.6s,\testimator rf's best error=0.0156,\tbest estimator lgbm's best error=0.0156\n",
      "[flaml.automl.logger: 03-31 18:24:57] {2219} INFO - iteration 166, current learner rf\n",
      "[flaml.automl.logger: 03-31 18:24:58] {2392} INFO -  at 86.1s,\testimator rf's best error=0.0156,\tbest estimator lgbm's best error=0.0156\n",
      "[flaml.automl.logger: 03-31 18:24:58] {2219} INFO - iteration 167, current learner xgboost\n",
      "[flaml.automl.logger: 03-31 18:24:58] {2392} INFO -  at 86.4s,\testimator xgboost's best error=0.0156,\tbest estimator lgbm's best error=0.0156\n",
      "[flaml.automl.logger: 03-31 18:24:58] {2219} INFO - iteration 168, current learner xgboost\n",
      "[flaml.automl.logger: 03-31 18:24:58] {2392} INFO -  at 86.7s,\testimator xgboost's best error=0.0156,\tbest estimator lgbm's best error=0.0156\n",
      "[flaml.automl.logger: 03-31 18:24:58] {2219} INFO - iteration 169, current learner lgbm\n",
      "[flaml.automl.logger: 03-31 18:24:59] {2392} INFO -  at 87.1s,\testimator lgbm's best error=0.0156,\tbest estimator lgbm's best error=0.0156\n",
      "[flaml.automl.logger: 03-31 18:24:59] {2219} INFO - iteration 170, current learner lgbm\n",
      "[flaml.automl.logger: 03-31 18:24:59] {2392} INFO -  at 87.4s,\testimator lgbm's best error=0.0156,\tbest estimator lgbm's best error=0.0156\n",
      "[flaml.automl.logger: 03-31 18:24:59] {2219} INFO - iteration 171, current learner lgbm\n",
      "[flaml.automl.logger: 03-31 18:24:59] {2392} INFO -  at 87.7s,\testimator lgbm's best error=0.0156,\tbest estimator lgbm's best error=0.0156\n",
      "[flaml.automl.logger: 03-31 18:24:59] {2219} INFO - iteration 172, current learner rf\n",
      "[flaml.automl.logger: 03-31 18:25:01] {2392} INFO -  at 89.9s,\testimator rf's best error=0.0156,\tbest estimator lgbm's best error=0.0156\n",
      "[flaml.automl.logger: 03-31 18:25:01] {2219} INFO - iteration 173, current learner xgboost\n",
      "[flaml.automl.logger: 03-31 18:25:02] {2392} INFO -  at 90.2s,\testimator xgboost's best error=0.0156,\tbest estimator lgbm's best error=0.0156\n",
      "[flaml.automl.logger: 03-31 18:25:02] {2219} INFO - iteration 174, current learner catboost\n",
      "[flaml.automl.logger: 03-31 18:25:03] {2392} INFO -  at 91.2s,\testimator catboost's best error=0.0156,\tbest estimator lgbm's best error=0.0156\n",
      "[flaml.automl.logger: 03-31 18:25:03] {2219} INFO - iteration 175, current learner rf\n",
      "[flaml.automl.logger: 03-31 18:25:06] {2392} INFO -  at 94.4s,\testimator rf's best error=0.0156,\tbest estimator lgbm's best error=0.0156\n",
      "[flaml.automl.logger: 03-31 18:25:06] {2219} INFO - iteration 176, current learner extra_tree\n",
      "[flaml.automl.logger: 03-31 18:25:07] {2392} INFO -  at 95.9s,\testimator extra_tree's best error=0.0156,\tbest estimator lgbm's best error=0.0156\n",
      "[flaml.automl.logger: 03-31 18:25:07] {2219} INFO - iteration 177, current learner xgboost\n",
      "[flaml.automl.logger: 03-31 18:25:08] {2392} INFO -  at 96.2s,\testimator xgboost's best error=0.0156,\tbest estimator lgbm's best error=0.0156\n",
      "[flaml.automl.logger: 03-31 18:25:08] {2219} INFO - iteration 178, current learner rf\n",
      "[flaml.automl.logger: 03-31 18:25:10] {2392} INFO -  at 98.1s,\testimator rf's best error=0.0156,\tbest estimator lgbm's best error=0.0156\n",
      "[flaml.automl.logger: 03-31 18:25:10] {2219} INFO - iteration 179, current learner xgboost\n",
      "[flaml.automl.logger: 03-31 18:25:10] {2392} INFO -  at 98.4s,\testimator xgboost's best error=0.0156,\tbest estimator lgbm's best error=0.0156\n",
      "[flaml.automl.logger: 03-31 18:25:10] {2219} INFO - iteration 180, current learner xgboost\n",
      "[flaml.automl.logger: 03-31 18:25:10] {2392} INFO -  at 98.7s,\testimator xgboost's best error=0.0156,\tbest estimator lgbm's best error=0.0156\n",
      "[flaml.automl.logger: 03-31 18:25:10] {2219} INFO - iteration 181, current learner xgboost\n",
      "[flaml.automl.logger: 03-31 18:25:11] {2392} INFO -  at 99.0s,\testimator xgboost's best error=0.0156,\tbest estimator lgbm's best error=0.0156\n",
      "[flaml.automl.logger: 03-31 18:25:11] {2219} INFO - iteration 182, current learner rf\n",
      "[flaml.automl.logger: 03-31 18:25:14] {2392} INFO -  at 102.4s,\testimator rf's best error=0.0156,\tbest estimator lgbm's best error=0.0156\n",
      "[flaml.automl.logger: 03-31 18:25:14] {2219} INFO - iteration 183, current learner lgbm\n",
      "[flaml.automl.logger: 03-31 18:25:14] {2392} INFO -  at 102.9s,\testimator lgbm's best error=0.0156,\tbest estimator lgbm's best error=0.0156\n",
      "[flaml.automl.logger: 03-31 18:25:14] {2219} INFO - iteration 184, current learner rf\n",
      "[flaml.automl.logger: 03-31 18:25:16] {2392} INFO -  at 104.7s,\testimator rf's best error=0.0156,\tbest estimator lgbm's best error=0.0156\n",
      "[flaml.automl.logger: 03-31 18:25:16] {2219} INFO - iteration 185, current learner xgboost\n",
      "[flaml.automl.logger: 03-31 18:25:16] {2392} INFO -  at 104.9s,\testimator xgboost's best error=0.0156,\tbest estimator lgbm's best error=0.0156\n",
      "[flaml.automl.logger: 03-31 18:25:16] {2219} INFO - iteration 186, current learner xgb_limitdepth\n",
      "[flaml.automl.logger: 03-31 18:25:17] {2392} INFO -  at 105.3s,\testimator xgb_limitdepth's best error=0.0156,\tbest estimator lgbm's best error=0.0156\n",
      "[flaml.automl.logger: 03-31 18:25:17] {2219} INFO - iteration 187, current learner xgb_limitdepth\n",
      "[flaml.automl.logger: 03-31 18:25:17] {2392} INFO -  at 105.7s,\testimator xgb_limitdepth's best error=0.0156,\tbest estimator lgbm's best error=0.0156\n",
      "[flaml.automl.logger: 03-31 18:25:17] {2219} INFO - iteration 188, current learner xgb_limitdepth\n",
      "[flaml.automl.logger: 03-31 18:25:18] {2392} INFO -  at 106.1s,\testimator xgb_limitdepth's best error=0.0156,\tbest estimator lgbm's best error=0.0156\n",
      "[flaml.automl.logger: 03-31 18:25:18] {2219} INFO - iteration 189, current learner rf\n",
      "[flaml.automl.logger: 03-31 18:25:19] {2392} INFO -  at 107.6s,\testimator rf's best error=0.0156,\tbest estimator lgbm's best error=0.0156\n",
      "[flaml.automl.logger: 03-31 18:25:19] {2219} INFO - iteration 190, current learner xgb_limitdepth\n",
      "[flaml.automl.logger: 03-31 18:25:19] {2392} INFO -  at 108.0s,\testimator xgb_limitdepth's best error=0.0156,\tbest estimator lgbm's best error=0.0156\n",
      "[flaml.automl.logger: 03-31 18:25:19] {2219} INFO - iteration 191, current learner xgb_limitdepth\n",
      "[flaml.automl.logger: 03-31 18:25:20] {2392} INFO -  at 108.4s,\testimator xgb_limitdepth's best error=0.0156,\tbest estimator lgbm's best error=0.0156\n",
      "[flaml.automl.logger: 03-31 18:25:20] {2219} INFO - iteration 192, current learner xgboost\n",
      "[flaml.automl.logger: 03-31 18:25:20] {2392} INFO -  at 108.7s,\testimator xgboost's best error=0.0156,\tbest estimator lgbm's best error=0.0156\n",
      "[flaml.automl.logger: 03-31 18:25:20] {2219} INFO - iteration 193, current learner xgb_limitdepth\n",
      "[flaml.automl.logger: 03-31 18:25:20] {2392} INFO -  at 109.0s,\testimator xgb_limitdepth's best error=0.0156,\tbest estimator lgbm's best error=0.0156\n",
      "[flaml.automl.logger: 03-31 18:25:20] {2219} INFO - iteration 194, current learner xgb_limitdepth\n",
      "[flaml.automl.logger: 03-31 18:25:21] {2392} INFO -  at 109.6s,\testimator xgb_limitdepth's best error=0.0156,\tbest estimator lgbm's best error=0.0156\n",
      "[flaml.automl.logger: 03-31 18:25:21] {2219} INFO - iteration 195, current learner xgb_limitdepth\n",
      "[flaml.automl.logger: 03-31 18:25:22] {2392} INFO -  at 110.1s,\testimator xgb_limitdepth's best error=0.0156,\tbest estimator lgbm's best error=0.0156\n",
      "[flaml.automl.logger: 03-31 18:25:22] {2219} INFO - iteration 196, current learner xgboost\n",
      "[flaml.automl.logger: 03-31 18:25:22] {2392} INFO -  at 110.4s,\testimator xgboost's best error=0.0156,\tbest estimator lgbm's best error=0.0156\n",
      "[flaml.automl.logger: 03-31 18:25:22] {2219} INFO - iteration 197, current learner lgbm\n",
      "[flaml.automl.logger: 03-31 18:25:22] {2392} INFO -  at 110.8s,\testimator lgbm's best error=0.0156,\tbest estimator lgbm's best error=0.0156\n",
      "[flaml.automl.logger: 03-31 18:25:22] {2219} INFO - iteration 198, current learner xgb_limitdepth\n",
      "[flaml.automl.logger: 03-31 18:25:23] {2392} INFO -  at 111.1s,\testimator xgb_limitdepth's best error=0.0156,\tbest estimator lgbm's best error=0.0156\n",
      "[flaml.automl.logger: 03-31 18:25:23] {2219} INFO - iteration 199, current learner xgb_limitdepth\n",
      "[flaml.automl.logger: 03-31 18:25:23] {2392} INFO -  at 111.6s,\testimator xgb_limitdepth's best error=0.0156,\tbest estimator lgbm's best error=0.0156\n",
      "[flaml.automl.logger: 03-31 18:25:23] {2219} INFO - iteration 200, current learner xgb_limitdepth\n",
      "[flaml.automl.logger: 03-31 18:25:23] {2392} INFO -  at 111.9s,\testimator xgb_limitdepth's best error=0.0156,\tbest estimator lgbm's best error=0.0156\n",
      "[flaml.automl.logger: 03-31 18:25:23] {2219} INFO - iteration 201, current learner xgb_limitdepth\n",
      "[flaml.automl.logger: 03-31 18:25:24] {2392} INFO -  at 112.3s,\testimator xgb_limitdepth's best error=0.0156,\tbest estimator lgbm's best error=0.0156\n",
      "[flaml.automl.logger: 03-31 18:25:24] {2219} INFO - iteration 202, current learner lgbm\n",
      "[flaml.automl.logger: 03-31 18:25:24] {2392} INFO -  at 112.6s,\testimator lgbm's best error=0.0156,\tbest estimator lgbm's best error=0.0156\n",
      "[flaml.automl.logger: 03-31 18:25:24] {2219} INFO - iteration 203, current learner catboost\n",
      "[flaml.automl.logger: 03-31 18:25:25] {2392} INFO -  at 113.3s,\testimator catboost's best error=0.0156,\tbest estimator lgbm's best error=0.0156\n",
      "[flaml.automl.logger: 03-31 18:25:25] {2219} INFO - iteration 204, current learner xgb_limitdepth\n",
      "[flaml.automl.logger: 03-31 18:25:25] {2392} INFO -  at 113.8s,\testimator xgb_limitdepth's best error=0.0156,\tbest estimator lgbm's best error=0.0156\n",
      "[flaml.automl.logger: 03-31 18:25:25] {2219} INFO - iteration 205, current learner xgb_limitdepth\n",
      "[flaml.automl.logger: 03-31 18:25:26] {2392} INFO -  at 114.2s,\testimator xgb_limitdepth's best error=0.0156,\tbest estimator lgbm's best error=0.0156\n",
      "[flaml.automl.logger: 03-31 18:25:26] {2219} INFO - iteration 206, current learner xgb_limitdepth\n",
      "[flaml.automl.logger: 03-31 18:25:26] {2392} INFO -  at 114.9s,\testimator xgb_limitdepth's best error=0.0156,\tbest estimator lgbm's best error=0.0156\n",
      "[flaml.automl.logger: 03-31 18:25:26] {2219} INFO - iteration 207, current learner extra_tree\n",
      "[flaml.automl.logger: 03-31 18:25:27] {2392} INFO -  at 116.0s,\testimator extra_tree's best error=0.0156,\tbest estimator lgbm's best error=0.0156\n",
      "[flaml.automl.logger: 03-31 18:25:27] {2219} INFO - iteration 208, current learner xgb_limitdepth\n",
      "[flaml.automl.logger: 03-31 18:25:28] {2392} INFO -  at 116.3s,\testimator xgb_limitdepth's best error=0.0156,\tbest estimator lgbm's best error=0.0156\n",
      "[flaml.automl.logger: 03-31 18:25:28] {2219} INFO - iteration 209, current learner xgb_limitdepth\n",
      "[flaml.automl.logger: 03-31 18:25:28] {2392} INFO -  at 116.8s,\testimator xgb_limitdepth's best error=0.0156,\tbest estimator lgbm's best error=0.0156\n",
      "[flaml.automl.logger: 03-31 18:25:28] {2219} INFO - iteration 210, current learner xgboost\n",
      "[flaml.automl.logger: 03-31 18:25:29] {2392} INFO -  at 117.1s,\testimator xgboost's best error=0.0156,\tbest estimator lgbm's best error=0.0156\n",
      "[flaml.automl.logger: 03-31 18:25:29] {2219} INFO - iteration 211, current learner xgboost\n",
      "[flaml.automl.logger: 03-31 18:25:29] {2392} INFO -  at 117.4s,\testimator xgboost's best error=0.0156,\tbest estimator lgbm's best error=0.0156\n",
      "[flaml.automl.logger: 03-31 18:25:29] {2219} INFO - iteration 212, current learner extra_tree\n",
      "[flaml.automl.logger: 03-31 18:25:30] {2392} INFO -  at 118.8s,\testimator extra_tree's best error=0.0156,\tbest estimator lgbm's best error=0.0156\n",
      "[flaml.automl.logger: 03-31 18:25:30] {2219} INFO - iteration 213, current learner extra_tree\n",
      "[flaml.automl.logger: 03-31 18:25:31] {2392} INFO -  at 120.0s,\testimator extra_tree's best error=0.0156,\tbest estimator lgbm's best error=0.0156\n",
      "[flaml.automl.logger: 03-31 18:25:31] {2219} INFO - iteration 214, current learner xgb_limitdepth\n",
      "[flaml.automl.logger: 03-31 18:25:32] {2392} INFO -  at 120.3s,\testimator xgb_limitdepth's best error=0.0156,\tbest estimator lgbm's best error=0.0156\n",
      "[flaml.automl.logger: 03-31 18:25:32] {2219} INFO - iteration 215, current learner xgb_limitdepth\n",
      "[flaml.automl.logger: 03-31 18:25:32] {2392} INFO -  at 121.0s,\testimator xgb_limitdepth's best error=0.0156,\tbest estimator lgbm's best error=0.0156\n",
      "[flaml.automl.logger: 03-31 18:25:32] {2219} INFO - iteration 216, current learner xgboost\n",
      "[flaml.automl.logger: 03-31 18:25:33] {2392} INFO -  at 121.3s,\testimator xgboost's best error=0.0156,\tbest estimator lgbm's best error=0.0156\n",
      "[flaml.automl.logger: 03-31 18:25:33] {2219} INFO - iteration 217, current learner xgb_limitdepth\n",
      "[flaml.automl.logger: 03-31 18:25:33] {2392} INFO -  at 121.6s,\testimator xgb_limitdepth's best error=0.0156,\tbest estimator lgbm's best error=0.0156\n",
      "[flaml.automl.logger: 03-31 18:25:33] {2219} INFO - iteration 218, current learner lgbm\n",
      "[flaml.automl.logger: 03-31 18:25:33] {2392} INFO -  at 121.9s,\testimator lgbm's best error=0.0156,\tbest estimator lgbm's best error=0.0156\n",
      "[flaml.automl.logger: 03-31 18:25:33] {2219} INFO - iteration 219, current learner lgbm\n",
      "[flaml.automl.logger: 03-31 18:25:34] {2392} INFO -  at 122.4s,\testimator lgbm's best error=0.0156,\tbest estimator lgbm's best error=0.0156\n",
      "[flaml.automl.logger: 03-31 18:25:34] {2219} INFO - iteration 220, current learner lgbm\n",
      "[flaml.automl.logger: 03-31 18:25:34] {2392} INFO -  at 122.7s,\testimator lgbm's best error=0.0156,\tbest estimator lgbm's best error=0.0156\n",
      "[flaml.automl.logger: 03-31 18:25:34] {2219} INFO - iteration 221, current learner xgboost\n",
      "[flaml.automl.logger: 03-31 18:25:35] {2392} INFO -  at 123.1s,\testimator xgboost's best error=0.0156,\tbest estimator lgbm's best error=0.0156\n",
      "[flaml.automl.logger: 03-31 18:25:35] {2219} INFO - iteration 222, current learner lgbm\n",
      "[flaml.automl.logger: 03-31 18:25:35] {2392} INFO -  at 123.7s,\testimator lgbm's best error=0.0156,\tbest estimator lgbm's best error=0.0156\n",
      "[flaml.automl.logger: 03-31 18:25:35] {2219} INFO - iteration 223, current learner xgb_limitdepth\n",
      "[flaml.automl.logger: 03-31 18:25:36] {2392} INFO -  at 124.4s,\testimator xgb_limitdepth's best error=0.0156,\tbest estimator lgbm's best error=0.0156\n",
      "[flaml.automl.logger: 03-31 18:25:36] {2219} INFO - iteration 224, current learner xgb_limitdepth\n",
      "[flaml.automl.logger: 03-31 18:25:36] {2392} INFO -  at 124.8s,\testimator xgb_limitdepth's best error=0.0156,\tbest estimator lgbm's best error=0.0156\n",
      "[flaml.automl.logger: 03-31 18:25:36] {2219} INFO - iteration 225, current learner lgbm\n",
      "[flaml.automl.logger: 03-31 18:25:37] {2392} INFO -  at 125.1s,\testimator lgbm's best error=0.0156,\tbest estimator lgbm's best error=0.0156\n",
      "[flaml.automl.logger: 03-31 18:25:37] {2219} INFO - iteration 226, current learner rf\n",
      "[flaml.automl.logger: 03-31 18:25:41] {2392} INFO -  at 129.7s,\testimator rf's best error=0.0156,\tbest estimator lgbm's best error=0.0156\n",
      "[flaml.automl.logger: 03-31 18:25:41] {2219} INFO - iteration 227, current learner catboost\n",
      "[flaml.automl.logger: 03-31 18:25:43] {2392} INFO -  at 132.0s,\testimator catboost's best error=0.0156,\tbest estimator lgbm's best error=0.0156\n",
      "[flaml.automl.logger: 03-31 18:25:43] {2219} INFO - iteration 228, current learner lgbm\n",
      "[flaml.automl.logger: 03-31 18:25:44] {2392} INFO -  at 132.7s,\testimator lgbm's best error=0.0156,\tbest estimator lgbm's best error=0.0156\n",
      "[flaml.automl.logger: 03-31 18:25:44] {2219} INFO - iteration 229, current learner xgb_limitdepth\n",
      "[flaml.automl.logger: 03-31 18:25:45] {2392} INFO -  at 133.1s,\testimator xgb_limitdepth's best error=0.0156,\tbest estimator lgbm's best error=0.0156\n",
      "[flaml.automl.logger: 03-31 18:25:45] {2219} INFO - iteration 230, current learner catboost\n",
      "[flaml.automl.logger: 03-31 18:25:47] {2392} INFO -  at 135.8s,\testimator catboost's best error=0.0156,\tbest estimator lgbm's best error=0.0156\n",
      "[flaml.automl.logger: 03-31 18:25:47] {2219} INFO - iteration 231, current learner xgb_limitdepth\n",
      "[flaml.automl.logger: 03-31 18:25:48] {2392} INFO -  at 136.1s,\testimator xgb_limitdepth's best error=0.0156,\tbest estimator lgbm's best error=0.0156\n",
      "[flaml.automl.logger: 03-31 18:25:48] {2219} INFO - iteration 232, current learner extra_tree\n",
      "[flaml.automl.logger: 03-31 18:25:49] {2392} INFO -  at 137.3s,\testimator extra_tree's best error=0.0156,\tbest estimator lgbm's best error=0.0156\n",
      "[flaml.automl.logger: 03-31 18:25:49] {2219} INFO - iteration 233, current learner xgb_limitdepth\n",
      "[flaml.automl.logger: 03-31 18:25:49] {2392} INFO -  at 137.9s,\testimator xgb_limitdepth's best error=0.0156,\tbest estimator lgbm's best error=0.0156\n",
      "[flaml.automl.logger: 03-31 18:25:49] {2219} INFO - iteration 234, current learner xgb_limitdepth\n",
      "[flaml.automl.logger: 03-31 18:25:50] {2392} INFO -  at 138.2s,\testimator xgb_limitdepth's best error=0.0156,\tbest estimator lgbm's best error=0.0156\n",
      "[flaml.automl.logger: 03-31 18:25:50] {2219} INFO - iteration 235, current learner xgb_limitdepth\n",
      "[flaml.automl.logger: 03-31 18:25:50] {2392} INFO -  at 139.0s,\testimator xgb_limitdepth's best error=0.0156,\tbest estimator lgbm's best error=0.0156\n",
      "[flaml.automl.logger: 03-31 18:25:50] {2219} INFO - iteration 236, current learner xgboost\n",
      "[flaml.automl.logger: 03-31 18:25:51] {2392} INFO -  at 139.3s,\testimator xgboost's best error=0.0156,\tbest estimator lgbm's best error=0.0156\n",
      "[flaml.automl.logger: 03-31 18:25:51] {2219} INFO - iteration 237, current learner xgboost\n",
      "[flaml.automl.logger: 03-31 18:25:51] {2392} INFO -  at 139.6s,\testimator xgboost's best error=0.0156,\tbest estimator lgbm's best error=0.0156\n",
      "[flaml.automl.logger: 03-31 18:25:51] {2219} INFO - iteration 238, current learner xgb_limitdepth\n",
      "[flaml.automl.logger: 03-31 18:25:51] {2392} INFO -  at 140.0s,\testimator xgb_limitdepth's best error=0.0156,\tbest estimator lgbm's best error=0.0156\n",
      "[flaml.automl.logger: 03-31 18:25:51] {2219} INFO - iteration 239, current learner rf\n",
      "[flaml.automl.logger: 03-31 18:25:54] {2392} INFO -  at 142.7s,\testimator rf's best error=0.0156,\tbest estimator lgbm's best error=0.0156\n",
      "[flaml.automl.logger: 03-31 18:25:54] {2219} INFO - iteration 240, current learner xgboost\n",
      "[flaml.automl.logger: 03-31 18:25:54] {2392} INFO -  at 143.0s,\testimator xgboost's best error=0.0156,\tbest estimator lgbm's best error=0.0156\n",
      "[flaml.automl.logger: 03-31 18:25:54] {2219} INFO - iteration 241, current learner extra_tree\n",
      "[flaml.automl.logger: 03-31 18:25:56] {2392} INFO -  at 144.6s,\testimator extra_tree's best error=0.0156,\tbest estimator lgbm's best error=0.0156\n",
      "[flaml.automl.logger: 03-31 18:25:56] {2219} INFO - iteration 242, current learner lgbm\n",
      "[flaml.automl.logger: 03-31 18:25:57] {2392} INFO -  at 145.2s,\testimator lgbm's best error=0.0156,\tbest estimator lgbm's best error=0.0156\n",
      "[flaml.automl.logger: 03-31 18:25:57] {2219} INFO - iteration 243, current learner extra_tree\n",
      "[flaml.automl.logger: 03-31 18:25:58] {2392} INFO -  at 146.6s,\testimator extra_tree's best error=0.0156,\tbest estimator lgbm's best error=0.0156\n",
      "[flaml.automl.logger: 03-31 18:25:58] {2219} INFO - iteration 244, current learner xgboost\n",
      "[flaml.automl.logger: 03-31 18:25:58] {2392} INFO -  at 147.0s,\testimator xgboost's best error=0.0156,\tbest estimator lgbm's best error=0.0156\n",
      "[flaml.automl.logger: 03-31 18:25:58] {2219} INFO - iteration 245, current learner xgb_limitdepth\n",
      "[flaml.automl.logger: 03-31 18:25:59] {2392} INFO -  at 147.4s,\testimator xgb_limitdepth's best error=0.0156,\tbest estimator lgbm's best error=0.0156\n",
      "[flaml.automl.logger: 03-31 18:25:59] {2219} INFO - iteration 246, current learner catboost\n",
      "[flaml.automl.logger: 03-31 18:26:01] {2392} INFO -  at 149.2s,\testimator catboost's best error=0.0156,\tbest estimator lgbm's best error=0.0156\n",
      "[flaml.automl.logger: 03-31 18:26:01] {2219} INFO - iteration 247, current learner xgb_limitdepth\n",
      "[flaml.automl.logger: 03-31 18:26:01] {2392} INFO -  at 149.5s,\testimator xgb_limitdepth's best error=0.0156,\tbest estimator lgbm's best error=0.0156\n",
      "[flaml.automl.logger: 03-31 18:26:01] {2219} INFO - iteration 248, current learner xgboost\n",
      "[flaml.automl.logger: 03-31 18:26:01] {2392} INFO -  at 149.8s,\testimator xgboost's best error=0.0156,\tbest estimator lgbm's best error=0.0156\n",
      "[flaml.automl.logger: 03-31 18:26:01] {2219} INFO - iteration 249, current learner lgbm\n",
      "[flaml.automl.logger: 03-31 18:26:02] {2392} INFO -  at 150.1s,\testimator lgbm's best error=0.0156,\tbest estimator lgbm's best error=0.0156\n",
      "[flaml.automl.logger: 03-31 18:26:02] {2219} INFO - iteration 250, current learner xgb_limitdepth\n",
      "[flaml.automl.logger: 03-31 18:26:03] {2392} INFO -  at 151.1s,\testimator xgb_limitdepth's best error=0.0156,\tbest estimator lgbm's best error=0.0156\n",
      "[flaml.automl.logger: 03-31 18:26:03] {2219} INFO - iteration 251, current learner extra_tree\n",
      "[flaml.automl.logger: 03-31 18:26:04] {2392} INFO -  at 152.2s,\testimator extra_tree's best error=0.0156,\tbest estimator lgbm's best error=0.0156\n",
      "[flaml.automl.logger: 03-31 18:26:04] {2219} INFO - iteration 252, current learner lgbm\n",
      "[flaml.automl.logger: 03-31 18:26:04] {2392} INFO -  at 152.7s,\testimator lgbm's best error=0.0156,\tbest estimator lgbm's best error=0.0156\n",
      "[flaml.automl.logger: 03-31 18:26:04] {2219} INFO - iteration 253, current learner xgboost\n",
      "[flaml.automl.logger: 03-31 18:26:04] {2392} INFO -  at 153.0s,\testimator xgboost's best error=0.0156,\tbest estimator lgbm's best error=0.0156\n",
      "[flaml.automl.logger: 03-31 18:26:04] {2219} INFO - iteration 254, current learner extra_tree\n",
      "[flaml.automl.logger: 03-31 18:26:06] {2392} INFO -  at 154.7s,\testimator extra_tree's best error=0.0156,\tbest estimator lgbm's best error=0.0156\n",
      "[flaml.automl.logger: 03-31 18:26:06] {2219} INFO - iteration 255, current learner xgb_limitdepth\n",
      "[flaml.automl.logger: 03-31 18:26:07] {2392} INFO -  at 155.0s,\testimator xgb_limitdepth's best error=0.0156,\tbest estimator lgbm's best error=0.0156\n",
      "[flaml.automl.logger: 03-31 18:26:07] {2219} INFO - iteration 256, current learner lgbm\n",
      "[flaml.automl.logger: 03-31 18:26:07] {2392} INFO -  at 155.4s,\testimator lgbm's best error=0.0156,\tbest estimator lgbm's best error=0.0156\n",
      "[flaml.automl.logger: 03-31 18:26:07] {2219} INFO - iteration 257, current learner xgb_limitdepth\n",
      "[flaml.automl.logger: 03-31 18:26:07] {2392} INFO -  at 155.8s,\testimator xgb_limitdepth's best error=0.0156,\tbest estimator lgbm's best error=0.0156\n",
      "[flaml.automl.logger: 03-31 18:26:07] {2219} INFO - iteration 258, current learner catboost\n",
      "[flaml.automl.logger: 03-31 18:26:10] {2392} INFO -  at 158.8s,\testimator catboost's best error=0.0156,\tbest estimator lgbm's best error=0.0156\n",
      "[flaml.automl.logger: 03-31 18:26:10] {2219} INFO - iteration 259, current learner xgb_limitdepth\n",
      "[flaml.automl.logger: 03-31 18:26:11] {2392} INFO -  at 159.3s,\testimator xgb_limitdepth's best error=0.0156,\tbest estimator lgbm's best error=0.0156\n",
      "[flaml.automl.logger: 03-31 18:26:11] {2219} INFO - iteration 260, current learner xgboost\n",
      "[flaml.automl.logger: 03-31 18:26:11] {2392} INFO -  at 159.6s,\testimator xgboost's best error=0.0156,\tbest estimator lgbm's best error=0.0156\n",
      "[flaml.automl.logger: 03-31 18:26:11] {2219} INFO - iteration 261, current learner xgb_limitdepth\n",
      "[flaml.automl.logger: 03-31 18:26:11] {2392} INFO -  at 159.9s,\testimator xgb_limitdepth's best error=0.0156,\tbest estimator lgbm's best error=0.0156\n",
      "[flaml.automl.logger: 03-31 18:26:11] {2219} INFO - iteration 262, current learner xgboost\n",
      "[flaml.automl.logger: 03-31 18:26:12] {2392} INFO -  at 160.3s,\testimator xgboost's best error=0.0156,\tbest estimator lgbm's best error=0.0156\n",
      "[flaml.automl.logger: 03-31 18:26:12] {2219} INFO - iteration 263, current learner extra_tree\n",
      "[flaml.automl.logger: 03-31 18:26:13] {2392} INFO -  at 161.4s,\testimator extra_tree's best error=0.0156,\tbest estimator lgbm's best error=0.0156\n",
      "[flaml.automl.logger: 03-31 18:26:13] {2219} INFO - iteration 264, current learner rf\n",
      "[flaml.automl.logger: 03-31 18:26:15] {2392} INFO -  at 163.3s,\testimator rf's best error=0.0156,\tbest estimator lgbm's best error=0.0156\n",
      "[flaml.automl.logger: 03-31 18:26:15] {2219} INFO - iteration 265, current learner xgboost\n",
      "[flaml.automl.logger: 03-31 18:26:15] {2392} INFO -  at 163.6s,\testimator xgboost's best error=0.0156,\tbest estimator lgbm's best error=0.0156\n",
      "[flaml.automl.logger: 03-31 18:26:15] {2219} INFO - iteration 266, current learner xgb_limitdepth\n",
      "[flaml.automl.logger: 03-31 18:26:16] {2392} INFO -  at 164.7s,\testimator xgb_limitdepth's best error=0.0156,\tbest estimator lgbm's best error=0.0156\n",
      "[flaml.automl.logger: 03-31 18:26:16] {2219} INFO - iteration 267, current learner xgb_limitdepth\n",
      "[flaml.automl.logger: 03-31 18:26:17] {2392} INFO -  at 165.0s,\testimator xgb_limitdepth's best error=0.0156,\tbest estimator lgbm's best error=0.0156\n",
      "[flaml.automl.logger: 03-31 18:26:17] {2219} INFO - iteration 268, current learner extra_tree\n",
      "[flaml.automl.logger: 03-31 18:26:18] {2392} INFO -  at 166.2s,\testimator extra_tree's best error=0.0156,\tbest estimator lgbm's best error=0.0156\n",
      "[flaml.automl.logger: 03-31 18:26:18] {2219} INFO - iteration 269, current learner extra_tree\n",
      "[flaml.automl.logger: 03-31 18:26:19] {2392} INFO -  at 167.8s,\testimator extra_tree's best error=0.0156,\tbest estimator lgbm's best error=0.0156\n",
      "[flaml.automl.logger: 03-31 18:26:19] {2219} INFO - iteration 270, current learner xgb_limitdepth\n",
      "[flaml.automl.logger: 03-31 18:26:20] {2392} INFO -  at 168.2s,\testimator xgb_limitdepth's best error=0.0156,\tbest estimator lgbm's best error=0.0156\n",
      "[flaml.automl.logger: 03-31 18:26:20] {2219} INFO - iteration 271, current learner rf\n",
      "[flaml.automl.logger: 03-31 18:26:23] {2392} INFO -  at 171.3s,\testimator rf's best error=0.0156,\tbest estimator lgbm's best error=0.0156\n",
      "[flaml.automl.logger: 03-31 18:26:23] {2219} INFO - iteration 272, current learner extra_tree\n",
      "[flaml.automl.logger: 03-31 18:26:24] {2392} INFO -  at 172.6s,\testimator extra_tree's best error=0.0156,\tbest estimator lgbm's best error=0.0156\n",
      "[flaml.automl.logger: 03-31 18:26:24] {2219} INFO - iteration 273, current learner xgboost\n",
      "[flaml.automl.logger: 03-31 18:26:24] {2392} INFO -  at 172.9s,\testimator xgboost's best error=0.0156,\tbest estimator lgbm's best error=0.0156\n",
      "[flaml.automl.logger: 03-31 18:26:24] {2219} INFO - iteration 274, current learner catboost\n",
      "[flaml.automl.logger: 03-31 18:26:26] {2392} INFO -  at 174.4s,\testimator catboost's best error=0.0156,\tbest estimator lgbm's best error=0.0156\n",
      "[flaml.automl.logger: 03-31 18:26:26] {2219} INFO - iteration 275, current learner catboost\n",
      "[flaml.automl.logger: 03-31 18:26:28] {2392} INFO -  at 176.6s,\testimator catboost's best error=0.0156,\tbest estimator lgbm's best error=0.0156\n",
      "[flaml.automl.logger: 03-31 18:26:28] {2219} INFO - iteration 276, current learner catboost\n",
      "[flaml.automl.logger: 03-31 18:26:30] {2392} INFO -  at 178.4s,\testimator catboost's best error=0.0156,\tbest estimator lgbm's best error=0.0156\n",
      "[flaml.automl.logger: 03-31 18:26:30] {2219} INFO - iteration 277, current learner rf\n",
      "[flaml.automl.logger: 03-31 18:26:32] {2392} INFO -  at 180.2s,\testimator rf's best error=0.0156,\tbest estimator lgbm's best error=0.0156\n",
      "[flaml.automl.logger: 03-31 18:26:32] {2219} INFO - iteration 278, current learner xgboost\n",
      "[flaml.automl.logger: 03-31 18:26:32] {2392} INFO -  at 180.5s,\testimator xgboost's best error=0.0156,\tbest estimator lgbm's best error=0.0156\n",
      "[flaml.automl.logger: 03-31 18:26:32] {2219} INFO - iteration 279, current learner xgboost\n",
      "[flaml.automl.logger: 03-31 18:26:32] {2392} INFO -  at 180.9s,\testimator xgboost's best error=0.0156,\tbest estimator lgbm's best error=0.0156\n",
      "[flaml.automl.logger: 03-31 18:26:32] {2219} INFO - iteration 280, current learner xgb_limitdepth\n",
      "[flaml.automl.logger: 03-31 18:26:33] {2392} INFO -  at 181.3s,\testimator xgb_limitdepth's best error=0.0156,\tbest estimator lgbm's best error=0.0156\n",
      "[flaml.automl.logger: 03-31 18:26:33] {2219} INFO - iteration 281, current learner extra_tree\n",
      "[flaml.automl.logger: 03-31 18:26:34] {2392} INFO -  at 182.7s,\testimator extra_tree's best error=0.0156,\tbest estimator lgbm's best error=0.0156\n",
      "[flaml.automl.logger: 03-31 18:26:34] {2219} INFO - iteration 282, current learner lgbm\n",
      "[flaml.automl.logger: 03-31 18:26:35] {2392} INFO -  at 183.2s,\testimator lgbm's best error=0.0156,\tbest estimator lgbm's best error=0.0156\n",
      "[flaml.automl.logger: 03-31 18:26:35] {2219} INFO - iteration 283, current learner xgboost\n",
      "[flaml.automl.logger: 03-31 18:26:35] {2392} INFO -  at 183.5s,\testimator xgboost's best error=0.0156,\tbest estimator lgbm's best error=0.0156\n",
      "[flaml.automl.logger: 03-31 18:26:35] {2219} INFO - iteration 284, current learner catboost\n",
      "[flaml.automl.logger: 03-31 18:26:38] {2392} INFO -  at 186.3s,\testimator catboost's best error=0.0156,\tbest estimator lgbm's best error=0.0156\n",
      "[flaml.automl.logger: 03-31 18:26:38] {2219} INFO - iteration 285, current learner xgb_limitdepth\n",
      "[flaml.automl.logger: 03-31 18:26:38] {2392} INFO -  at 186.8s,\testimator xgb_limitdepth's best error=0.0156,\tbest estimator lgbm's best error=0.0156\n",
      "[flaml.automl.logger: 03-31 18:26:38] {2219} INFO - iteration 286, current learner xgb_limitdepth\n",
      "[flaml.automl.logger: 03-31 18:26:39] {2392} INFO -  at 187.1s,\testimator xgb_limitdepth's best error=0.0156,\tbest estimator lgbm's best error=0.0156\n",
      "[flaml.automl.logger: 03-31 18:26:39] {2219} INFO - iteration 287, current learner xgb_limitdepth\n",
      "[flaml.automl.logger: 03-31 18:26:39] {2392} INFO -  at 187.5s,\testimator xgb_limitdepth's best error=0.0156,\tbest estimator lgbm's best error=0.0156\n",
      "[flaml.automl.logger: 03-31 18:26:39] {2219} INFO - iteration 288, current learner extra_tree\n",
      "[flaml.automl.logger: 03-31 18:26:40] {2392} INFO -  at 189.0s,\testimator extra_tree's best error=0.0156,\tbest estimator lgbm's best error=0.0156\n",
      "[flaml.automl.logger: 03-31 18:26:40] {2219} INFO - iteration 289, current learner rf\n",
      "[flaml.automl.logger: 03-31 18:26:43] {2392} INFO -  at 191.6s,\testimator rf's best error=0.0156,\tbest estimator lgbm's best error=0.0156\n",
      "[flaml.automl.logger: 03-31 18:26:43] {2219} INFO - iteration 290, current learner rf\n",
      "[flaml.automl.logger: 03-31 18:26:45] {2392} INFO -  at 193.9s,\testimator rf's best error=0.0156,\tbest estimator lgbm's best error=0.0156\n",
      "[flaml.automl.logger: 03-31 18:26:45] {2219} INFO - iteration 291, current learner xgb_limitdepth\n",
      "[flaml.automl.logger: 03-31 18:26:46] {2392} INFO -  at 194.5s,\testimator xgb_limitdepth's best error=0.0156,\tbest estimator lgbm's best error=0.0156\n",
      "[flaml.automl.logger: 03-31 18:26:46] {2219} INFO - iteration 292, current learner xgboost\n",
      "[flaml.automl.logger: 03-31 18:26:46] {2392} INFO -  at 194.8s,\testimator xgboost's best error=0.0156,\tbest estimator lgbm's best error=0.0156\n",
      "[flaml.automl.logger: 03-31 18:26:46] {2219} INFO - iteration 293, current learner xgb_limitdepth\n",
      "[flaml.automl.logger: 03-31 18:26:47] {2392} INFO -  at 195.2s,\testimator xgb_limitdepth's best error=0.0156,\tbest estimator lgbm's best error=0.0156\n",
      "[flaml.automl.logger: 03-31 18:26:47] {2219} INFO - iteration 294, current learner xgboost\n",
      "[flaml.automl.logger: 03-31 18:26:47] {2392} INFO -  at 195.5s,\testimator xgboost's best error=0.0156,\tbest estimator lgbm's best error=0.0156\n",
      "[flaml.automl.logger: 03-31 18:26:47] {2219} INFO - iteration 295, current learner extra_tree\n",
      "[flaml.automl.logger: 03-31 18:26:48] {2392} INFO -  at 196.7s,\testimator extra_tree's best error=0.0156,\tbest estimator lgbm's best error=0.0156\n",
      "[flaml.automl.logger: 03-31 18:26:48] {2219} INFO - iteration 296, current learner xgboost\n",
      "[flaml.automl.logger: 03-31 18:26:48] {2392} INFO -  at 197.0s,\testimator xgboost's best error=0.0156,\tbest estimator lgbm's best error=0.0156\n",
      "[flaml.automl.logger: 03-31 18:26:48] {2219} INFO - iteration 297, current learner xgb_limitdepth\n",
      "[flaml.automl.logger: 03-31 18:26:49] {2392} INFO -  at 197.4s,\testimator xgb_limitdepth's best error=0.0156,\tbest estimator lgbm's best error=0.0156\n",
      "[flaml.automl.logger: 03-31 18:26:49] {2219} INFO - iteration 298, current learner xgboost\n",
      "[flaml.automl.logger: 03-31 18:26:49] {2392} INFO -  at 197.8s,\testimator xgboost's best error=0.0156,\tbest estimator lgbm's best error=0.0156\n",
      "[flaml.automl.logger: 03-31 18:26:49] {2219} INFO - iteration 299, current learner xgboost\n",
      "[flaml.automl.logger: 03-31 18:26:50] {2392} INFO -  at 198.1s,\testimator xgboost's best error=0.0156,\tbest estimator lgbm's best error=0.0156\n",
      "[flaml.automl.logger: 03-31 18:26:50] {2219} INFO - iteration 300, current learner catboost\n",
      "[flaml.automl.logger: 03-31 18:26:53] {2392} INFO -  at 201.2s,\testimator catboost's best error=0.0156,\tbest estimator lgbm's best error=0.0156\n",
      "[flaml.automl.logger: 03-31 18:26:53] {2219} INFO - iteration 301, current learner lgbm\n",
      "[flaml.automl.logger: 03-31 18:26:53] {2392} INFO -  at 201.5s,\testimator lgbm's best error=0.0156,\tbest estimator lgbm's best error=0.0156\n",
      "[flaml.automl.logger: 03-31 18:26:53] {2219} INFO - iteration 302, current learner catboost\n",
      "[flaml.automl.logger: 03-31 18:26:55] {2392} INFO -  at 203.1s,\testimator catboost's best error=0.0156,\tbest estimator lgbm's best error=0.0156\n",
      "[flaml.automl.logger: 03-31 18:26:55] {2219} INFO - iteration 303, current learner lgbm\n",
      "[flaml.automl.logger: 03-31 18:26:55] {2392} INFO -  at 203.4s,\testimator lgbm's best error=0.0156,\tbest estimator lgbm's best error=0.0156\n",
      "[flaml.automl.logger: 03-31 18:26:55] {2219} INFO - iteration 304, current learner xgb_limitdepth\n",
      "[flaml.automl.logger: 03-31 18:26:55] {2392} INFO -  at 204.0s,\testimator xgb_limitdepth's best error=0.0156,\tbest estimator lgbm's best error=0.0156\n",
      "[flaml.automl.logger: 03-31 18:26:55] {2219} INFO - iteration 305, current learner lgbm\n",
      "[flaml.automl.logger: 03-31 18:26:56] {2392} INFO -  at 204.4s,\testimator lgbm's best error=0.0156,\tbest estimator lgbm's best error=0.0156\n",
      "[flaml.automl.logger: 03-31 18:26:56] {2219} INFO - iteration 306, current learner xgb_limitdepth\n",
      "[flaml.automl.logger: 03-31 18:26:56] {2392} INFO -  at 204.7s,\testimator xgb_limitdepth's best error=0.0156,\tbest estimator lgbm's best error=0.0156\n",
      "[flaml.automl.logger: 03-31 18:26:56] {2219} INFO - iteration 307, current learner xgb_limitdepth\n",
      "[flaml.automl.logger: 03-31 18:26:57] {2392} INFO -  at 205.1s,\testimator xgb_limitdepth's best error=0.0156,\tbest estimator lgbm's best error=0.0156\n",
      "[flaml.automl.logger: 03-31 18:26:57] {2219} INFO - iteration 308, current learner extra_tree\n",
      "[flaml.automl.logger: 03-31 18:26:58] {2392} INFO -  at 206.2s,\testimator extra_tree's best error=0.0156,\tbest estimator lgbm's best error=0.0156\n",
      "[flaml.automl.logger: 03-31 18:26:58] {2219} INFO - iteration 309, current learner xgboost\n",
      "[flaml.automl.logger: 03-31 18:26:58] {2392} INFO -  at 206.5s,\testimator xgboost's best error=0.0156,\tbest estimator lgbm's best error=0.0156\n",
      "[flaml.automl.logger: 03-31 18:26:58] {2219} INFO - iteration 310, current learner lgbm\n",
      "[flaml.automl.logger: 03-31 18:26:58] {2392} INFO -  at 206.9s,\testimator lgbm's best error=0.0156,\tbest estimator lgbm's best error=0.0156\n",
      "[flaml.automl.logger: 03-31 18:26:58] {2219} INFO - iteration 311, current learner xgboost\n",
      "[flaml.automl.logger: 03-31 18:26:59] {2392} INFO -  at 207.2s,\testimator xgboost's best error=0.0156,\tbest estimator lgbm's best error=0.0156\n",
      "[flaml.automl.logger: 03-31 18:26:59] {2219} INFO - iteration 312, current learner catboost\n",
      "[flaml.automl.logger: 03-31 18:27:01] {2392} INFO -  at 209.7s,\testimator catboost's best error=0.0156,\tbest estimator lgbm's best error=0.0156\n",
      "[flaml.automl.logger: 03-31 18:27:01] {2219} INFO - iteration 313, current learner lgbm\n",
      "[flaml.automl.logger: 03-31 18:27:02] {2392} INFO -  at 210.1s,\testimator lgbm's best error=0.0156,\tbest estimator lgbm's best error=0.0156\n",
      "[flaml.automl.logger: 03-31 18:27:02] {2219} INFO - iteration 314, current learner xgboost\n",
      "[flaml.automl.logger: 03-31 18:27:02] {2392} INFO -  at 210.4s,\testimator xgboost's best error=0.0156,\tbest estimator lgbm's best error=0.0156\n",
      "[flaml.automl.logger: 03-31 18:27:02] {2219} INFO - iteration 315, current learner rf\n",
      "[flaml.automl.logger: 03-31 18:27:04] {2392} INFO -  at 212.5s,\testimator rf's best error=0.0156,\tbest estimator lgbm's best error=0.0156\n",
      "[flaml.automl.logger: 03-31 18:27:04] {2219} INFO - iteration 316, current learner xgb_limitdepth\n",
      "[flaml.automl.logger: 03-31 18:27:05] {2392} INFO -  at 213.1s,\testimator xgb_limitdepth's best error=0.0156,\tbest estimator lgbm's best error=0.0156\n",
      "[flaml.automl.logger: 03-31 18:27:05] {2219} INFO - iteration 317, current learner xgb_limitdepth\n",
      "[flaml.automl.logger: 03-31 18:27:05] {2392} INFO -  at 213.7s,\testimator xgb_limitdepth's best error=0.0156,\tbest estimator lgbm's best error=0.0156\n",
      "[flaml.automl.logger: 03-31 18:27:05] {2219} INFO - iteration 318, current learner rf\n",
      "[flaml.automl.logger: 03-31 18:27:08] {2392} INFO -  at 217.0s,\testimator rf's best error=0.0156,\tbest estimator lgbm's best error=0.0156\n",
      "[flaml.automl.logger: 03-31 18:27:08] {2219} INFO - iteration 319, current learner lgbm\n",
      "[flaml.automl.logger: 03-31 18:27:09] {2392} INFO -  at 217.5s,\testimator lgbm's best error=0.0156,\tbest estimator lgbm's best error=0.0156\n",
      "[flaml.automl.logger: 03-31 18:27:09] {2219} INFO - iteration 320, current learner lgbm\n",
      "[flaml.automl.logger: 03-31 18:27:09] {2392} INFO -  at 217.8s,\testimator lgbm's best error=0.0156,\tbest estimator lgbm's best error=0.0156\n",
      "[flaml.automl.logger: 03-31 18:27:09] {2219} INFO - iteration 321, current learner xgboost\n",
      "[flaml.automl.logger: 03-31 18:27:10] {2392} INFO -  at 218.2s,\testimator xgboost's best error=0.0156,\tbest estimator lgbm's best error=0.0156\n",
      "[flaml.automl.logger: 03-31 18:27:10] {2219} INFO - iteration 322, current learner extra_tree\n",
      "[flaml.automl.logger: 03-31 18:27:11] {2392} INFO -  at 220.0s,\testimator extra_tree's best error=0.0156,\tbest estimator lgbm's best error=0.0156\n",
      "[flaml.automl.logger: 03-31 18:27:11] {2219} INFO - iteration 323, current learner lgbm\n",
      "[flaml.automl.logger: 03-31 18:27:12] {2392} INFO -  at 220.3s,\testimator lgbm's best error=0.0156,\tbest estimator lgbm's best error=0.0156\n",
      "[flaml.automl.logger: 03-31 18:27:12] {2219} INFO - iteration 324, current learner rf\n",
      "[flaml.automl.logger: 03-31 18:27:14] {2392} INFO -  at 222.4s,\testimator rf's best error=0.0156,\tbest estimator lgbm's best error=0.0156\n",
      "[flaml.automl.logger: 03-31 18:27:14] {2219} INFO - iteration 325, current learner xgb_limitdepth\n",
      "[flaml.automl.logger: 03-31 18:27:14] {2392} INFO -  at 222.8s,\testimator xgb_limitdepth's best error=0.0156,\tbest estimator lgbm's best error=0.0156\n",
      "[flaml.automl.logger: 03-31 18:27:14] {2219} INFO - iteration 326, current learner catboost\n",
      "[flaml.automl.logger: 03-31 18:27:17] {2392} INFO -  at 225.1s,\testimator catboost's best error=0.0156,\tbest estimator lgbm's best error=0.0156\n",
      "[flaml.automl.logger: 03-31 18:27:17] {2219} INFO - iteration 327, current learner xgboost\n",
      "[flaml.automl.logger: 03-31 18:27:17] {2392} INFO -  at 225.4s,\testimator xgboost's best error=0.0156,\tbest estimator lgbm's best error=0.0156\n",
      "[flaml.automl.logger: 03-31 18:27:17] {2219} INFO - iteration 328, current learner rf\n",
      "[flaml.automl.logger: 03-31 18:27:19] {2392} INFO -  at 227.9s,\testimator rf's best error=0.0156,\tbest estimator lgbm's best error=0.0156\n",
      "[flaml.automl.logger: 03-31 18:27:19] {2219} INFO - iteration 329, current learner lgbm\n",
      "[flaml.automl.logger: 03-31 18:27:20] {2392} INFO -  at 228.2s,\testimator lgbm's best error=0.0156,\tbest estimator lgbm's best error=0.0156\n",
      "[flaml.automl.logger: 03-31 18:27:20] {2219} INFO - iteration 330, current learner xgboost\n",
      "[flaml.automl.logger: 03-31 18:27:20] {2392} INFO -  at 228.5s,\testimator xgboost's best error=0.0156,\tbest estimator lgbm's best error=0.0156\n",
      "[flaml.automl.logger: 03-31 18:27:20] {2219} INFO - iteration 331, current learner xgboost\n",
      "[flaml.automl.logger: 03-31 18:27:20] {2392} INFO -  at 228.8s,\testimator xgboost's best error=0.0156,\tbest estimator lgbm's best error=0.0156\n",
      "[flaml.automl.logger: 03-31 18:27:20] {2219} INFO - iteration 332, current learner lgbm\n",
      "[flaml.automl.logger: 03-31 18:27:21] {2392} INFO -  at 229.1s,\testimator lgbm's best error=0.0156,\tbest estimator lgbm's best error=0.0156\n",
      "[flaml.automl.logger: 03-31 18:27:21] {2219} INFO - iteration 333, current learner xgboost\n",
      "[flaml.automl.logger: 03-31 18:27:21] {2392} INFO -  at 229.4s,\testimator xgboost's best error=0.0156,\tbest estimator lgbm's best error=0.0156\n",
      "[flaml.automl.logger: 03-31 18:27:21] {2219} INFO - iteration 334, current learner xgboost\n",
      "[flaml.automl.logger: 03-31 18:27:21] {2392} INFO -  at 229.7s,\testimator xgboost's best error=0.0156,\tbest estimator lgbm's best error=0.0156\n",
      "[flaml.automl.logger: 03-31 18:27:21] {2219} INFO - iteration 335, current learner extra_tree\n",
      "[flaml.automl.logger: 03-31 18:27:23] {2392} INFO -  at 231.2s,\testimator extra_tree's best error=0.0156,\tbest estimator lgbm's best error=0.0156\n",
      "[flaml.automl.logger: 03-31 18:27:23] {2219} INFO - iteration 336, current learner lgbm\n",
      "[flaml.automl.logger: 03-31 18:27:23] {2392} INFO -  at 231.6s,\testimator lgbm's best error=0.0156,\tbest estimator lgbm's best error=0.0156\n",
      "[flaml.automl.logger: 03-31 18:27:23] {2219} INFO - iteration 337, current learner extra_tree\n",
      "[flaml.automl.logger: 03-31 18:27:24] {2392} INFO -  at 232.8s,\testimator extra_tree's best error=0.0156,\tbest estimator lgbm's best error=0.0156\n",
      "[flaml.automl.logger: 03-31 18:27:24] {2219} INFO - iteration 338, current learner lgbm\n",
      "[flaml.automl.logger: 03-31 18:27:25] {2392} INFO -  at 233.1s,\testimator lgbm's best error=0.0156,\tbest estimator lgbm's best error=0.0156\n",
      "[flaml.automl.logger: 03-31 18:27:25] {2219} INFO - iteration 339, current learner xgboost\n",
      "[flaml.automl.logger: 03-31 18:27:25] {2392} INFO -  at 233.4s,\testimator xgboost's best error=0.0156,\tbest estimator lgbm's best error=0.0156\n",
      "[flaml.automl.logger: 03-31 18:27:25] {2219} INFO - iteration 340, current learner xgb_limitdepth\n",
      "[flaml.automl.logger: 03-31 18:27:25] {2392} INFO -  at 234.0s,\testimator xgb_limitdepth's best error=0.0156,\tbest estimator lgbm's best error=0.0156\n",
      "[flaml.automl.logger: 03-31 18:27:25] {2219} INFO - iteration 341, current learner lgbm\n",
      "[flaml.automl.logger: 03-31 18:27:26] {2392} INFO -  at 234.3s,\testimator lgbm's best error=0.0156,\tbest estimator lgbm's best error=0.0156\n",
      "[flaml.automl.logger: 03-31 18:27:26] {2219} INFO - iteration 342, current learner rf\n",
      "[flaml.automl.logger: 03-31 18:27:29] {2392} INFO -  at 237.7s,\testimator rf's best error=0.0156,\tbest estimator lgbm's best error=0.0156\n",
      "[flaml.automl.logger: 03-31 18:27:29] {2219} INFO - iteration 343, current learner xgb_limitdepth\n",
      "[flaml.automl.logger: 03-31 18:27:29] {2392} INFO -  at 238.0s,\testimator xgb_limitdepth's best error=0.0156,\tbest estimator lgbm's best error=0.0156\n",
      "[flaml.automl.logger: 03-31 18:27:29] {2219} INFO - iteration 344, current learner xgb_limitdepth\n",
      "[flaml.automl.logger: 03-31 18:27:30] {2392} INFO -  at 238.5s,\testimator xgb_limitdepth's best error=0.0156,\tbest estimator lgbm's best error=0.0156\n",
      "[flaml.automl.logger: 03-31 18:27:30] {2219} INFO - iteration 345, current learner xgboost\n",
      "[flaml.automl.logger: 03-31 18:27:30] {2392} INFO -  at 238.8s,\testimator xgboost's best error=0.0156,\tbest estimator lgbm's best error=0.0156\n",
      "[flaml.automl.logger: 03-31 18:27:30] {2219} INFO - iteration 346, current learner xgb_limitdepth\n",
      "[flaml.automl.logger: 03-31 18:27:31] {2392} INFO -  at 239.2s,\testimator xgb_limitdepth's best error=0.0156,\tbest estimator lgbm's best error=0.0156\n",
      "[flaml.automl.logger: 03-31 18:27:31] {2219} INFO - iteration 347, current learner xgb_limitdepth\n",
      "[flaml.automl.logger: 03-31 18:27:31] {2392} INFO -  at 239.6s,\testimator xgb_limitdepth's best error=0.0156,\tbest estimator lgbm's best error=0.0156\n",
      "[flaml.automl.logger: 03-31 18:27:31] {2219} INFO - iteration 348, current learner xgb_limitdepth\n",
      "[flaml.automl.logger: 03-31 18:27:31] {2392} INFO -  at 240.0s,\testimator xgb_limitdepth's best error=0.0156,\tbest estimator lgbm's best error=0.0156\n",
      "[flaml.automl.logger: 03-31 18:27:31] {2219} INFO - iteration 349, current learner xgb_limitdepth\n",
      "[flaml.automl.logger: 03-31 18:27:32] {2392} INFO -  at 240.7s,\testimator xgb_limitdepth's best error=0.0156,\tbest estimator lgbm's best error=0.0156\n",
      "[flaml.automl.logger: 03-31 18:27:32] {2219} INFO - iteration 350, current learner lgbm\n",
      "[flaml.automl.logger: 03-31 18:27:33] {2392} INFO -  at 241.4s,\testimator lgbm's best error=0.0156,\tbest estimator lgbm's best error=0.0156\n",
      "[flaml.automl.logger: 03-31 18:27:33] {2219} INFO - iteration 351, current learner xgboost\n",
      "[flaml.automl.logger: 03-31 18:27:33] {2392} INFO -  at 241.8s,\testimator xgboost's best error=0.0156,\tbest estimator lgbm's best error=0.0156\n",
      "[flaml.automl.logger: 03-31 18:27:33] {2219} INFO - iteration 352, current learner extra_tree\n",
      "[flaml.automl.logger: 03-31 18:27:35] {2392} INFO -  at 243.1s,\testimator extra_tree's best error=0.0156,\tbest estimator lgbm's best error=0.0156\n",
      "[flaml.automl.logger: 03-31 18:27:35] {2219} INFO - iteration 353, current learner xgboost\n",
      "[flaml.automl.logger: 03-31 18:27:35] {2392} INFO -  at 243.4s,\testimator xgboost's best error=0.0156,\tbest estimator lgbm's best error=0.0156\n",
      "[flaml.automl.logger: 03-31 18:27:35] {2219} INFO - iteration 354, current learner xgb_limitdepth\n",
      "[flaml.automl.logger: 03-31 18:27:35] {2392} INFO -  at 243.7s,\testimator xgb_limitdepth's best error=0.0156,\tbest estimator lgbm's best error=0.0156\n",
      "[flaml.automl.logger: 03-31 18:27:35] {2219} INFO - iteration 355, current learner lgbm\n",
      "[flaml.automl.logger: 03-31 18:27:36] {2392} INFO -  at 244.1s,\testimator lgbm's best error=0.0156,\tbest estimator lgbm's best error=0.0156\n",
      "[flaml.automl.logger: 03-31 18:27:36] {2219} INFO - iteration 356, current learner extra_tree\n",
      "[flaml.automl.logger: 03-31 18:27:37] {2392} INFO -  at 245.5s,\testimator extra_tree's best error=0.0156,\tbest estimator lgbm's best error=0.0156\n",
      "[flaml.automl.logger: 03-31 18:27:37] {2219} INFO - iteration 357, current learner extra_tree\n",
      "[flaml.automl.logger: 03-31 18:27:39] {2392} INFO -  at 247.2s,\testimator extra_tree's best error=0.0156,\tbest estimator lgbm's best error=0.0156\n",
      "[flaml.automl.logger: 03-31 18:27:39] {2219} INFO - iteration 358, current learner rf\n",
      "[flaml.automl.logger: 03-31 18:27:41] {2392} INFO -  at 249.2s,\testimator rf's best error=0.0156,\tbest estimator lgbm's best error=0.0156\n",
      "[flaml.automl.logger: 03-31 18:27:41] {2219} INFO - iteration 359, current learner rf\n",
      "[flaml.automl.logger: 03-31 18:27:43] {2392} INFO -  at 251.4s,\testimator rf's best error=0.0156,\tbest estimator lgbm's best error=0.0156\n",
      "[flaml.automl.logger: 03-31 18:27:43] {2219} INFO - iteration 360, current learner xgboost\n",
      "[flaml.automl.logger: 03-31 18:27:43] {2392} INFO -  at 251.7s,\testimator xgboost's best error=0.0156,\tbest estimator lgbm's best error=0.0156\n",
      "[flaml.automl.logger: 03-31 18:27:43] {2219} INFO - iteration 361, current learner catboost\n",
      "[flaml.automl.logger: 03-31 18:27:44] {2392} INFO -  at 252.5s,\testimator catboost's best error=0.0156,\tbest estimator lgbm's best error=0.0156\n",
      "[flaml.automl.logger: 03-31 18:27:44] {2219} INFO - iteration 362, current learner xgb_limitdepth\n",
      "[flaml.automl.logger: 03-31 18:27:44] {2392} INFO -  at 252.8s,\testimator xgb_limitdepth's best error=0.0156,\tbest estimator lgbm's best error=0.0156\n",
      "[flaml.automl.logger: 03-31 18:27:44] {2219} INFO - iteration 363, current learner xgboost\n",
      "[flaml.automl.logger: 03-31 18:27:45] {2392} INFO -  at 253.2s,\testimator xgboost's best error=0.0156,\tbest estimator lgbm's best error=0.0156\n",
      "[flaml.automl.logger: 03-31 18:27:45] {2219} INFO - iteration 364, current learner xgb_limitdepth\n",
      "[flaml.automl.logger: 03-31 18:27:45] {2392} INFO -  at 253.6s,\testimator xgb_limitdepth's best error=0.0156,\tbest estimator lgbm's best error=0.0156\n",
      "[flaml.automl.logger: 03-31 18:27:45] {2219} INFO - iteration 365, current learner xgb_limitdepth\n",
      "[flaml.automl.logger: 03-31 18:27:46] {2392} INFO -  at 254.3s,\testimator xgb_limitdepth's best error=0.0156,\tbest estimator lgbm's best error=0.0156\n",
      "[flaml.automl.logger: 03-31 18:27:46] {2219} INFO - iteration 366, current learner rf\n",
      "[flaml.automl.logger: 03-31 18:27:48] {2392} INFO -  at 257.0s,\testimator rf's best error=0.0156,\tbest estimator lgbm's best error=0.0156\n",
      "[flaml.automl.logger: 03-31 18:27:48] {2219} INFO - iteration 367, current learner lgbm\n",
      "[flaml.automl.logger: 03-31 18:27:49] {2392} INFO -  at 257.3s,\testimator lgbm's best error=0.0156,\tbest estimator lgbm's best error=0.0156\n",
      "[flaml.automl.logger: 03-31 18:27:49] {2219} INFO - iteration 368, current learner xgb_limitdepth\n",
      "[flaml.automl.logger: 03-31 18:27:49] {2392} INFO -  at 257.6s,\testimator xgb_limitdepth's best error=0.0156,\tbest estimator lgbm's best error=0.0156\n",
      "[flaml.automl.logger: 03-31 18:27:49] {2219} INFO - iteration 369, current learner xgboost\n",
      "[flaml.automl.logger: 03-31 18:27:49] {2392} INFO -  at 257.9s,\testimator xgboost's best error=0.0156,\tbest estimator lgbm's best error=0.0156\n",
      "[flaml.automl.logger: 03-31 18:27:49] {2219} INFO - iteration 370, current learner xgb_limitdepth\n",
      "[flaml.automl.logger: 03-31 18:27:50] {2392} INFO -  at 258.3s,\testimator xgb_limitdepth's best error=0.0156,\tbest estimator lgbm's best error=0.0156\n",
      "[flaml.automl.logger: 03-31 18:27:50] {2219} INFO - iteration 371, current learner xgboost\n",
      "[flaml.automl.logger: 03-31 18:27:50] {2392} INFO -  at 258.6s,\testimator xgboost's best error=0.0156,\tbest estimator lgbm's best error=0.0156\n",
      "[flaml.automl.logger: 03-31 18:27:50] {2219} INFO - iteration 372, current learner xgb_limitdepth\n",
      "[flaml.automl.logger: 03-31 18:27:50] {2392} INFO -  at 259.0s,\testimator xgb_limitdepth's best error=0.0156,\tbest estimator lgbm's best error=0.0156\n",
      "[flaml.automl.logger: 03-31 18:27:50] {2219} INFO - iteration 373, current learner xgboost\n",
      "[flaml.automl.logger: 03-31 18:27:51] {2392} INFO -  at 259.3s,\testimator xgboost's best error=0.0156,\tbest estimator lgbm's best error=0.0156\n",
      "[flaml.automl.logger: 03-31 18:27:51] {2219} INFO - iteration 374, current learner xgboost\n",
      "[flaml.automl.logger: 03-31 18:27:51] {2392} INFO -  at 259.6s,\testimator xgboost's best error=0.0156,\tbest estimator lgbm's best error=0.0156\n",
      "[flaml.automl.logger: 03-31 18:27:51] {2219} INFO - iteration 375, current learner lgbm\n",
      "[flaml.automl.logger: 03-31 18:27:51] {2392} INFO -  at 259.9s,\testimator lgbm's best error=0.0156,\tbest estimator lgbm's best error=0.0156\n",
      "[flaml.automl.logger: 03-31 18:27:51] {2219} INFO - iteration 376, current learner catboost\n",
      "[flaml.automl.logger: 03-31 18:27:52] {2392} INFO -  at 260.8s,\testimator catboost's best error=0.0156,\tbest estimator lgbm's best error=0.0156\n",
      "[flaml.automl.logger: 03-31 18:27:52] {2219} INFO - iteration 377, current learner lgbm\n",
      "[flaml.automl.logger: 03-31 18:27:53] {2392} INFO -  at 261.1s,\testimator lgbm's best error=0.0156,\tbest estimator lgbm's best error=0.0156\n",
      "[flaml.automl.logger: 03-31 18:27:53] {2219} INFO - iteration 378, current learner lgbm\n",
      "[flaml.automl.logger: 03-31 18:27:53] {2392} INFO -  at 261.7s,\testimator lgbm's best error=0.0156,\tbest estimator lgbm's best error=0.0156\n",
      "[flaml.automl.logger: 03-31 18:27:53] {2219} INFO - iteration 379, current learner extra_tree\n",
      "[flaml.automl.logger: 03-31 18:27:54] {2392} INFO -  at 262.9s,\testimator extra_tree's best error=0.0156,\tbest estimator lgbm's best error=0.0156\n",
      "[flaml.automl.logger: 03-31 18:27:54] {2219} INFO - iteration 380, current learner lgbm\n",
      "[flaml.automl.logger: 03-31 18:27:55] {2392} INFO -  at 263.3s,\testimator lgbm's best error=0.0156,\tbest estimator lgbm's best error=0.0156\n",
      "[flaml.automl.logger: 03-31 18:27:55] {2219} INFO - iteration 381, current learner catboost\n",
      "[flaml.automl.logger: 03-31 18:27:55] {2392} INFO -  at 263.9s,\testimator catboost's best error=0.0156,\tbest estimator lgbm's best error=0.0156\n",
      "[flaml.automl.logger: 03-31 18:27:55] {2219} INFO - iteration 382, current learner xgb_limitdepth\n",
      "[flaml.automl.logger: 03-31 18:27:56] {2392} INFO -  at 264.2s,\testimator xgb_limitdepth's best error=0.0156,\tbest estimator lgbm's best error=0.0156\n",
      "[flaml.automl.logger: 03-31 18:27:56] {2219} INFO - iteration 383, current learner extra_tree\n",
      "[flaml.automl.logger: 03-31 18:27:57] {2392} INFO -  at 265.5s,\testimator extra_tree's best error=0.0156,\tbest estimator lgbm's best error=0.0156\n",
      "[flaml.automl.logger: 03-31 18:27:57] {2219} INFO - iteration 384, current learner extra_tree\n",
      "[flaml.automl.logger: 03-31 18:27:58] {2392} INFO -  at 267.0s,\testimator extra_tree's best error=0.0156,\tbest estimator lgbm's best error=0.0156\n",
      "[flaml.automl.logger: 03-31 18:27:58] {2219} INFO - iteration 385, current learner lgbm\n",
      "[flaml.automl.logger: 03-31 18:27:59] {2392} INFO -  at 267.3s,\testimator lgbm's best error=0.0156,\tbest estimator lgbm's best error=0.0156\n",
      "[flaml.automl.logger: 03-31 18:27:59] {2219} INFO - iteration 386, current learner xgboost\n",
      "[flaml.automl.logger: 03-31 18:27:59] {2392} INFO -  at 267.6s,\testimator xgboost's best error=0.0156,\tbest estimator lgbm's best error=0.0156\n",
      "[flaml.automl.logger: 03-31 18:27:59] {2219} INFO - iteration 387, current learner xgboost\n",
      "[flaml.automl.logger: 03-31 18:27:59] {2392} INFO -  at 267.9s,\testimator xgboost's best error=0.0156,\tbest estimator lgbm's best error=0.0156\n",
      "[flaml.automl.logger: 03-31 18:27:59] {2219} INFO - iteration 388, current learner xgb_limitdepth\n",
      "[flaml.automl.logger: 03-31 18:28:00] {2392} INFO -  at 268.8s,\testimator xgb_limitdepth's best error=0.0156,\tbest estimator lgbm's best error=0.0156\n",
      "[flaml.automl.logger: 03-31 18:28:00] {2219} INFO - iteration 389, current learner lgbm\n",
      "[flaml.automl.logger: 03-31 18:28:01] {2392} INFO -  at 269.1s,\testimator lgbm's best error=0.0156,\tbest estimator lgbm's best error=0.0156\n",
      "[flaml.automl.logger: 03-31 18:28:01] {2219} INFO - iteration 390, current learner rf\n",
      "[flaml.automl.logger: 03-31 18:28:03] {2392} INFO -  at 271.5s,\testimator rf's best error=0.0156,\tbest estimator lgbm's best error=0.0156\n",
      "[flaml.automl.logger: 03-31 18:28:03] {2219} INFO - iteration 391, current learner rf\n",
      "[flaml.automl.logger: 03-31 18:28:06] {2392} INFO -  at 274.6s,\testimator rf's best error=0.0156,\tbest estimator lgbm's best error=0.0156\n",
      "[flaml.automl.logger: 03-31 18:28:06] {2219} INFO - iteration 392, current learner extra_tree\n",
      "[flaml.automl.logger: 03-31 18:28:07] {2392} INFO -  at 275.7s,\testimator extra_tree's best error=0.0156,\tbest estimator lgbm's best error=0.0156\n",
      "[flaml.automl.logger: 03-31 18:28:07] {2219} INFO - iteration 393, current learner xgboost\n",
      "[flaml.automl.logger: 03-31 18:28:07] {2392} INFO -  at 276.0s,\testimator xgboost's best error=0.0156,\tbest estimator lgbm's best error=0.0156\n",
      "[flaml.automl.logger: 03-31 18:28:07] {2219} INFO - iteration 394, current learner lgbm\n",
      "[flaml.automl.logger: 03-31 18:28:08] {2392} INFO -  at 276.5s,\testimator lgbm's best error=0.0156,\tbest estimator lgbm's best error=0.0156\n",
      "[flaml.automl.logger: 03-31 18:28:08] {2219} INFO - iteration 395, current learner xgboost\n",
      "[flaml.automl.logger: 03-31 18:28:08] {2392} INFO -  at 276.8s,\testimator xgboost's best error=0.0156,\tbest estimator lgbm's best error=0.0156\n",
      "[flaml.automl.logger: 03-31 18:28:08] {2219} INFO - iteration 396, current learner lgbm\n",
      "[flaml.automl.logger: 03-31 18:28:09] {2392} INFO -  at 277.2s,\testimator lgbm's best error=0.0156,\tbest estimator lgbm's best error=0.0156\n",
      "[flaml.automl.logger: 03-31 18:28:09] {2219} INFO - iteration 397, current learner xgb_limitdepth\n",
      "[flaml.automl.logger: 03-31 18:28:09] {2392} INFO -  at 277.6s,\testimator xgb_limitdepth's best error=0.0156,\tbest estimator lgbm's best error=0.0156\n",
      "[flaml.automl.logger: 03-31 18:28:09] {2219} INFO - iteration 398, current learner rf\n",
      "[flaml.automl.logger: 03-31 18:28:12] {2392} INFO -  at 280.6s,\testimator rf's best error=0.0156,\tbest estimator lgbm's best error=0.0156\n",
      "[flaml.automl.logger: 03-31 18:28:12] {2219} INFO - iteration 399, current learner lgbm\n",
      "[flaml.automl.logger: 03-31 18:28:12] {2392} INFO -  at 280.9s,\testimator lgbm's best error=0.0156,\tbest estimator lgbm's best error=0.0156\n",
      "[flaml.automl.logger: 03-31 18:28:12] {2219} INFO - iteration 400, current learner xgboost\n",
      "[flaml.automl.logger: 03-31 18:28:13] {2392} INFO -  at 281.2s,\testimator xgboost's best error=0.0156,\tbest estimator lgbm's best error=0.0156\n",
      "[flaml.automl.logger: 03-31 18:28:13] {2219} INFO - iteration 401, current learner xgb_limitdepth\n",
      "[flaml.automl.logger: 03-31 18:28:13] {2392} INFO -  at 281.6s,\testimator xgb_limitdepth's best error=0.0156,\tbest estimator lgbm's best error=0.0156\n",
      "[flaml.automl.logger: 03-31 18:28:13] {2219} INFO - iteration 402, current learner catboost\n",
      "[flaml.automl.logger: 03-31 18:28:14] {2392} INFO -  at 282.4s,\testimator catboost's best error=0.0156,\tbest estimator lgbm's best error=0.0156\n",
      "[flaml.automl.logger: 03-31 18:28:14] {2219} INFO - iteration 403, current learner extra_tree\n",
      "[flaml.automl.logger: 03-31 18:28:15] {2392} INFO -  at 284.0s,\testimator extra_tree's best error=0.0156,\tbest estimator lgbm's best error=0.0156\n",
      "[flaml.automl.logger: 03-31 18:28:15] {2219} INFO - iteration 404, current learner xgboost\n",
      "[flaml.automl.logger: 03-31 18:28:16] {2392} INFO -  at 284.3s,\testimator xgboost's best error=0.0156,\tbest estimator lgbm's best error=0.0156\n",
      "[flaml.automl.logger: 03-31 18:28:16] {2219} INFO - iteration 405, current learner xgboost\n",
      "[flaml.automl.logger: 03-31 18:28:16] {2392} INFO -  at 284.6s,\testimator xgboost's best error=0.0156,\tbest estimator lgbm's best error=0.0156\n",
      "[flaml.automl.logger: 03-31 18:28:16] {2219} INFO - iteration 406, current learner xgb_limitdepth\n",
      "[flaml.automl.logger: 03-31 18:28:17] {2392} INFO -  at 285.2s,\testimator xgb_limitdepth's best error=0.0156,\tbest estimator lgbm's best error=0.0156\n",
      "[flaml.automl.logger: 03-31 18:28:17] {2219} INFO - iteration 407, current learner xgb_limitdepth\n",
      "[flaml.automl.logger: 03-31 18:28:17] {2392} INFO -  at 285.5s,\testimator xgb_limitdepth's best error=0.0156,\tbest estimator lgbm's best error=0.0156\n",
      "[flaml.automl.logger: 03-31 18:28:17] {2219} INFO - iteration 408, current learner lgbm\n",
      "[flaml.automl.logger: 03-31 18:28:17] {2392} INFO -  at 286.0s,\testimator lgbm's best error=0.0156,\tbest estimator lgbm's best error=0.0156\n",
      "[flaml.automl.logger: 03-31 18:28:17] {2219} INFO - iteration 409, current learner extra_tree\n",
      "[flaml.automl.logger: 03-31 18:28:19] {2392} INFO -  at 287.6s,\testimator extra_tree's best error=0.0156,\tbest estimator lgbm's best error=0.0156\n",
      "[flaml.automl.logger: 03-31 18:28:19] {2219} INFO - iteration 410, current learner xgboost\n",
      "[flaml.automl.logger: 03-31 18:28:19] {2392} INFO -  at 287.9s,\testimator xgboost's best error=0.0156,\tbest estimator lgbm's best error=0.0156\n",
      "[flaml.automl.logger: 03-31 18:28:19] {2219} INFO - iteration 411, current learner xgb_limitdepth\n",
      "[flaml.automl.logger: 03-31 18:28:20] {2392} INFO -  at 288.5s,\testimator xgb_limitdepth's best error=0.0156,\tbest estimator lgbm's best error=0.0156\n",
      "[flaml.automl.logger: 03-31 18:28:20] {2219} INFO - iteration 412, current learner lgbm\n",
      "[flaml.automl.logger: 03-31 18:28:20] {2392} INFO -  at 288.8s,\testimator lgbm's best error=0.0156,\tbest estimator lgbm's best error=0.0156\n",
      "[flaml.automl.logger: 03-31 18:28:20] {2219} INFO - iteration 413, current learner rf\n",
      "[flaml.automl.logger: 03-31 18:28:22] {2392} INFO -  at 290.9s,\testimator rf's best error=0.0156,\tbest estimator lgbm's best error=0.0156\n",
      "[flaml.automl.logger: 03-31 18:28:22] {2219} INFO - iteration 414, current learner lgbm\n",
      "[flaml.automl.logger: 03-31 18:28:23] {2392} INFO -  at 291.2s,\testimator lgbm's best error=0.0156,\tbest estimator lgbm's best error=0.0156\n",
      "[flaml.automl.logger: 03-31 18:28:23] {2219} INFO - iteration 415, current learner catboost\n",
      "[flaml.automl.logger: 03-31 18:28:24] {2392} INFO -  at 292.1s,\testimator catboost's best error=0.0156,\tbest estimator lgbm's best error=0.0156\n",
      "[flaml.automl.logger: 03-31 18:28:24] {2219} INFO - iteration 416, current learner lgbm\n",
      "[flaml.automl.logger: 03-31 18:28:24] {2392} INFO -  at 292.4s,\testimator lgbm's best error=0.0156,\tbest estimator lgbm's best error=0.0156\n",
      "[flaml.automl.logger: 03-31 18:28:24] {2219} INFO - iteration 417, current learner xgboost\n",
      "[flaml.automl.logger: 03-31 18:28:24] {2392} INFO -  at 292.8s,\testimator xgboost's best error=0.0156,\tbest estimator lgbm's best error=0.0156\n",
      "[flaml.automl.logger: 03-31 18:28:24] {2219} INFO - iteration 418, current learner xgb_limitdepth\n",
      "[flaml.automl.logger: 03-31 18:28:25] {2392} INFO -  at 293.2s,\testimator xgb_limitdepth's best error=0.0156,\tbest estimator lgbm's best error=0.0156\n",
      "[flaml.automl.logger: 03-31 18:28:25] {2219} INFO - iteration 419, current learner extra_tree\n",
      "[flaml.automl.logger: 03-31 18:28:26] {2392} INFO -  at 294.4s,\testimator extra_tree's best error=0.0156,\tbest estimator lgbm's best error=0.0156\n",
      "[flaml.automl.logger: 03-31 18:28:26] {2219} INFO - iteration 420, current learner extra_tree\n",
      "[flaml.automl.logger: 03-31 18:28:27] {2392} INFO -  at 295.8s,\testimator extra_tree's best error=0.0156,\tbest estimator lgbm's best error=0.0156\n",
      "[flaml.automl.logger: 03-31 18:28:27] {2219} INFO - iteration 421, current learner catboost\n",
      "[flaml.automl.logger: 03-31 18:28:30] {2392} INFO -  at 298.4s,\testimator catboost's best error=0.0156,\tbest estimator lgbm's best error=0.0156\n",
      "[flaml.automl.logger: 03-31 18:28:30] {2219} INFO - iteration 422, current learner xgb_limitdepth\n",
      "[flaml.automl.logger: 03-31 18:28:30] {2392} INFO -  at 298.9s,\testimator xgb_limitdepth's best error=0.0156,\tbest estimator lgbm's best error=0.0156\n",
      "[flaml.automl.logger: 03-31 18:28:30] {2219} INFO - iteration 423, current learner catboost\n",
      "[flaml.automl.logger: 03-31 18:28:31] {2392} INFO -  at 300.0s,\testimator catboost's best error=0.0156,\tbest estimator lgbm's best error=0.0156\n",
      "[flaml.automl.logger: 03-31 18:28:31] {2219} INFO - iteration 424, current learner lrl1\n",
      "[flaml.automl.logger: 03-31 18:28:31] {2420} INFO - stop trying learner lrl1\n",
      "[flaml.automl.logger: 03-31 18:28:32] {2628} INFO - retrain lgbm for 0.3s\n",
      "[flaml.automl.logger: 03-31 18:28:32] {2631} INFO - retrained model: LGBMClassifier(learning_rate=0.09999999999999995, max_bin=255, n_estimators=1,\n",
      "               n_jobs=-1, num_leaves=4, reg_alpha=0.0009765625, reg_lambda=1.0,\n",
      "               verbose=-1)\n",
      "[flaml.automl.logger: 03-31 18:28:32] {1931} INFO - fit succeeded\n",
      "[flaml.automl.logger: 03-31 18:28:32] {1932} INFO - Time taken to find the best model: 0.792294979095459\n"
     ]
    }
   ],
   "source": [
    "automl.fit(X_trainsub, y_trainsub, **automl_settings)"
   ]
  },
  {
   "cell_type": "code",
   "execution_count": 20,
   "id": "9ad4da91",
   "metadata": {
    "execution": {
     "iopub.execute_input": "2024-03-31T18:28:32.509236Z",
     "iopub.status.busy": "2024-03-31T18:28:32.508257Z",
     "iopub.status.idle": "2024-03-31T18:28:32.515238Z",
     "shell.execute_reply": "2024-03-31T18:28:32.514174Z"
    },
    "papermill": {
     "duration": 0.105861,
     "end_time": "2024-03-31T18:28:32.517335",
     "exception": false,
     "start_time": "2024-03-31T18:28:32.411474",
     "status": "completed"
    },
    "tags": []
   },
   "outputs": [
    {
     "name": "stdout",
     "output_type": "stream",
     "text": [
      "Best ML leaner: lgbm\n",
      "Best hyperparmeter config: {'n_estimators': 4, 'num_leaves': 4, 'min_child_samples': 20, 'learning_rate': 0.09999999999999995, 'log_max_bin': 8, 'colsample_bytree': 1.0, 'reg_alpha': 0.0009765625, 'reg_lambda': 1.0}\n",
      "Best log_loss on validation data: 0.01562\n",
      "Training duration of best run: 0.3334 s\n"
     ]
    }
   ],
   "source": [
    "print('Best ML leaner:', automl.best_estimator)\n",
    "print('Best hyperparmeter config:', automl.best_config)\n",
    "print('Best log_loss on validation data: {0:.4g}'.format(automl.best_loss))\n",
    "print('Training duration of best run: {0:.4g} s'.format(automl.best_config_train_time))"
   ]
  },
  {
   "cell_type": "code",
   "execution_count": 21,
   "id": "dd89084e",
   "metadata": {
    "execution": {
     "iopub.execute_input": "2024-03-31T18:28:32.705390Z",
     "iopub.status.busy": "2024-03-31T18:28:32.704661Z",
     "iopub.status.idle": "2024-03-31T18:28:32.746925Z",
     "shell.execute_reply": "2024-03-31T18:28:32.745994Z"
    },
    "papermill": {
     "duration": 0.139056,
     "end_time": "2024-03-31T18:28:32.749515",
     "exception": false,
     "start_time": "2024-03-31T18:28:32.610459",
     "status": "completed"
    },
    "tags": []
   },
   "outputs": [],
   "source": [
    "y_pred1 = automl.predict(X_valid)\n",
    "rounded_predictions1 = np.round(y_pred1)\n",
    "integer_predictions1 = rounded_predictions1.astype(int)"
   ]
  },
  {
   "cell_type": "code",
   "execution_count": 22,
   "id": "06f4ecda",
   "metadata": {
    "execution": {
     "iopub.execute_input": "2024-03-31T18:28:32.940252Z",
     "iopub.status.busy": "2024-03-31T18:28:32.939584Z",
     "iopub.status.idle": "2024-03-31T18:28:32.948146Z",
     "shell.execute_reply": "2024-03-31T18:28:32.947066Z"
    },
    "papermill": {
     "duration": 0.105665,
     "end_time": "2024-03-31T18:28:32.950471",
     "exception": false,
     "start_time": "2024-03-31T18:28:32.844806",
     "status": "completed"
    },
    "tags": []
   },
   "outputs": [
    {
     "name": "stdout",
     "output_type": "stream",
     "text": [
      "Accuracy: 0.9851745576279293\n"
     ]
    }
   ],
   "source": [
    "from sklearn.metrics import accuracy_score\n",
    "\n",
    "accuracy1 = accuracy_score(y_valid, integer_predictions1)\n",
    "print(\"Accuracy:\", accuracy1)"
   ]
  },
  {
   "cell_type": "markdown",
   "id": "930f44e9",
   "metadata": {
    "papermill": {
     "duration": 0.093962,
     "end_time": "2024-03-31T18:28:33.138520",
     "exception": false,
     "start_time": "2024-03-31T18:28:33.044558",
     "status": "completed"
    },
    "tags": []
   },
   "source": [
    "## KNN Neighbors"
   ]
  },
  {
   "cell_type": "code",
   "execution_count": 23,
   "id": "d4e44a5e",
   "metadata": {
    "execution": {
     "iopub.execute_input": "2024-03-31T18:28:33.327795Z",
     "iopub.status.busy": "2024-03-31T18:28:33.327376Z",
     "iopub.status.idle": "2024-03-31T18:28:33.402008Z",
     "shell.execute_reply": "2024-03-31T18:28:33.400747Z"
    },
    "papermill": {
     "duration": 0.172348,
     "end_time": "2024-03-31T18:28:33.404664",
     "exception": false,
     "start_time": "2024-03-31T18:28:33.232316",
     "status": "completed"
    },
    "tags": []
   },
   "outputs": [],
   "source": [
    "X_trainsub = X_trainsub.fillna(X_trainsub.median()) \n",
    "X_valid = X_valid.fillna(X_valid.median()) "
   ]
  },
  {
   "cell_type": "code",
   "execution_count": 24,
   "id": "ec3b5be6",
   "metadata": {
    "execution": {
     "iopub.execute_input": "2024-03-31T18:28:33.594173Z",
     "iopub.status.busy": "2024-03-31T18:28:33.593749Z",
     "iopub.status.idle": "2024-03-31T18:28:33.619061Z",
     "shell.execute_reply": "2024-03-31T18:28:33.617657Z"
    },
    "papermill": {
     "duration": 0.122653,
     "end_time": "2024-03-31T18:28:33.621565",
     "exception": false,
     "start_time": "2024-03-31T18:28:33.498912",
     "status": "completed"
    },
    "tags": []
   },
   "outputs": [
    {
     "data": {
      "text/html": [
       "<style>#sk-container-id-1 {color: black;background-color: white;}#sk-container-id-1 pre{padding: 0;}#sk-container-id-1 div.sk-toggleable {background-color: white;}#sk-container-id-1 label.sk-toggleable__label {cursor: pointer;display: block;width: 100%;margin-bottom: 0;padding: 0.3em;box-sizing: border-box;text-align: center;}#sk-container-id-1 label.sk-toggleable__label-arrow:before {content: \"▸\";float: left;margin-right: 0.25em;color: #696969;}#sk-container-id-1 label.sk-toggleable__label-arrow:hover:before {color: black;}#sk-container-id-1 div.sk-estimator:hover label.sk-toggleable__label-arrow:before {color: black;}#sk-container-id-1 div.sk-toggleable__content {max-height: 0;max-width: 0;overflow: hidden;text-align: left;background-color: #f0f8ff;}#sk-container-id-1 div.sk-toggleable__content pre {margin: 0.2em;color: black;border-radius: 0.25em;background-color: #f0f8ff;}#sk-container-id-1 input.sk-toggleable__control:checked~div.sk-toggleable__content {max-height: 200px;max-width: 100%;overflow: auto;}#sk-container-id-1 input.sk-toggleable__control:checked~label.sk-toggleable__label-arrow:before {content: \"▾\";}#sk-container-id-1 div.sk-estimator input.sk-toggleable__control:checked~label.sk-toggleable__label {background-color: #d4ebff;}#sk-container-id-1 div.sk-label input.sk-toggleable__control:checked~label.sk-toggleable__label {background-color: #d4ebff;}#sk-container-id-1 input.sk-hidden--visually {border: 0;clip: rect(1px 1px 1px 1px);clip: rect(1px, 1px, 1px, 1px);height: 1px;margin: -1px;overflow: hidden;padding: 0;position: absolute;width: 1px;}#sk-container-id-1 div.sk-estimator {font-family: monospace;background-color: #f0f8ff;border: 1px dotted black;border-radius: 0.25em;box-sizing: border-box;margin-bottom: 0.5em;}#sk-container-id-1 div.sk-estimator:hover {background-color: #d4ebff;}#sk-container-id-1 div.sk-parallel-item::after {content: \"\";width: 100%;border-bottom: 1px solid gray;flex-grow: 1;}#sk-container-id-1 div.sk-label:hover label.sk-toggleable__label {background-color: #d4ebff;}#sk-container-id-1 div.sk-serial::before {content: \"\";position: absolute;border-left: 1px solid gray;box-sizing: border-box;top: 0;bottom: 0;left: 50%;z-index: 0;}#sk-container-id-1 div.sk-serial {display: flex;flex-direction: column;align-items: center;background-color: white;padding-right: 0.2em;padding-left: 0.2em;position: relative;}#sk-container-id-1 div.sk-item {position: relative;z-index: 1;}#sk-container-id-1 div.sk-parallel {display: flex;align-items: stretch;justify-content: center;background-color: white;position: relative;}#sk-container-id-1 div.sk-item::before, #sk-container-id-1 div.sk-parallel-item::before {content: \"\";position: absolute;border-left: 1px solid gray;box-sizing: border-box;top: 0;bottom: 0;left: 50%;z-index: -1;}#sk-container-id-1 div.sk-parallel-item {display: flex;flex-direction: column;z-index: 1;position: relative;background-color: white;}#sk-container-id-1 div.sk-parallel-item:first-child::after {align-self: flex-end;width: 50%;}#sk-container-id-1 div.sk-parallel-item:last-child::after {align-self: flex-start;width: 50%;}#sk-container-id-1 div.sk-parallel-item:only-child::after {width: 0;}#sk-container-id-1 div.sk-dashed-wrapped {border: 1px dashed gray;margin: 0 0.4em 0.5em 0.4em;box-sizing: border-box;padding-bottom: 0.4em;background-color: white;}#sk-container-id-1 div.sk-label label {font-family: monospace;font-weight: bold;display: inline-block;line-height: 1.2em;}#sk-container-id-1 div.sk-label-container {text-align: center;}#sk-container-id-1 div.sk-container {/* jupyter's `normalize.less` sets `[hidden] { display: none; }` but bootstrap.min.css set `[hidden] { display: none !important; }` so we also need the `!important` here to be able to override the default hidden behavior on the sphinx rendered scikit-learn.org. See: https://github.com/scikit-learn/scikit-learn/issues/21755 */display: inline-block !important;position: relative;}#sk-container-id-1 div.sk-text-repr-fallback {display: none;}</style><div id=\"sk-container-id-1\" class=\"sk-top-container\"><div class=\"sk-text-repr-fallback\"><pre>KNeighborsClassifier(n_neighbors=3)</pre><b>In a Jupyter environment, please rerun this cell to show the HTML representation or trust the notebook. <br />On GitHub, the HTML representation is unable to render, please try loading this page with nbviewer.org.</b></div><div class=\"sk-container\" hidden><div class=\"sk-item\"><div class=\"sk-estimator sk-toggleable\"><input class=\"sk-toggleable__control sk-hidden--visually\" id=\"sk-estimator-id-1\" type=\"checkbox\" checked><label for=\"sk-estimator-id-1\" class=\"sk-toggleable__label sk-toggleable__label-arrow\">KNeighborsClassifier</label><div class=\"sk-toggleable__content\"><pre>KNeighborsClassifier(n_neighbors=3)</pre></div></div></div></div></div>"
      ],
      "text/plain": [
       "KNeighborsClassifier(n_neighbors=3)"
      ]
     },
     "execution_count": 24,
     "metadata": {},
     "output_type": "execute_result"
    }
   ],
   "source": [
    "from sklearn.neighbors import KNeighborsClassifier\n",
    "\n",
    "knn = KNeighborsClassifier(n_neighbors=3)\n",
    "knn.fit(X_trainsub, y_trainsub)"
   ]
  },
  {
   "cell_type": "code",
   "execution_count": 25,
   "id": "748ae335",
   "metadata": {
    "execution": {
     "iopub.execute_input": "2024-03-31T18:28:33.808415Z",
     "iopub.status.busy": "2024-03-31T18:28:33.808031Z",
     "iopub.status.idle": "2024-03-31T18:28:39.466806Z",
     "shell.execute_reply": "2024-03-31T18:28:39.465466Z"
    },
    "papermill": {
     "duration": 5.755734,
     "end_time": "2024-03-31T18:28:39.469555",
     "exception": false,
     "start_time": "2024-03-31T18:28:33.713821",
     "status": "completed"
    },
    "tags": []
   },
   "outputs": [],
   "source": [
    "y_pred2 = knn.predict(X_valid)\n",
    "rounded_predictions2 = np.round(y_pred2)\n",
    "integer_predictions2 = rounded_predictions2.astype(int)"
   ]
  },
  {
   "cell_type": "code",
   "execution_count": 26,
   "id": "cb9ff69d",
   "metadata": {
    "execution": {
     "iopub.execute_input": "2024-03-31T18:28:39.661943Z",
     "iopub.status.busy": "2024-03-31T18:28:39.661534Z",
     "iopub.status.idle": "2024-03-31T18:28:39.670348Z",
     "shell.execute_reply": "2024-03-31T18:28:39.669032Z"
    },
    "papermill": {
     "duration": 0.107856,
     "end_time": "2024-03-31T18:28:39.672826",
     "exception": false,
     "start_time": "2024-03-31T18:28:39.564970",
     "status": "completed"
    },
    "tags": []
   },
   "outputs": [
    {
     "name": "stdout",
     "output_type": "stream",
     "text": [
      "Accuracy: 0.983739837398374\n"
     ]
    }
   ],
   "source": [
    "accuracy2 = accuracy_score(y_valid, integer_predictions2)\n",
    "print(\"Accuracy:\", accuracy2)"
   ]
  },
  {
   "cell_type": "markdown",
   "id": "5893df7a",
   "metadata": {
    "papermill": {
     "duration": 0.095925,
     "end_time": "2024-03-31T18:28:39.863151",
     "exception": false,
     "start_time": "2024-03-31T18:28:39.767226",
     "status": "completed"
    },
    "tags": []
   },
   "source": [
    "## TFDF Gradient Boosted"
   ]
  },
  {
   "cell_type": "code",
   "execution_count": 27,
   "id": "bee3dfdf",
   "metadata": {
    "execution": {
     "iopub.execute_input": "2024-03-31T18:28:40.053240Z",
     "iopub.status.busy": "2024-03-31T18:28:40.052435Z",
     "iopub.status.idle": "2024-03-31T18:28:40.091376Z",
     "shell.execute_reply": "2024-03-31T18:28:40.090295Z"
    },
    "papermill": {
     "duration": 0.136227,
     "end_time": "2024-03-31T18:28:40.093860",
     "exception": false,
     "start_time": "2024-03-31T18:28:39.957633",
     "status": "completed"
    },
    "tags": []
   },
   "outputs": [],
   "source": [
    "x,valid = train_test_split(train, test_size=0.3, train_size=0.7, random_state=True)"
   ]
  },
  {
   "cell_type": "code",
   "execution_count": 28,
   "id": "80bce3d2",
   "metadata": {
    "execution": {
     "iopub.execute_input": "2024-03-31T18:28:40.283478Z",
     "iopub.status.busy": "2024-03-31T18:28:40.282393Z",
     "iopub.status.idle": "2024-03-31T18:28:56.001956Z",
     "shell.execute_reply": "2024-03-31T18:28:56.000987Z"
    },
    "papermill": {
     "duration": 15.818026,
     "end_time": "2024-03-31T18:28:56.004990",
     "exception": false,
     "start_time": "2024-03-31T18:28:40.186964",
     "status": "completed"
    },
    "tags": []
   },
   "outputs": [
    {
     "name": "stderr",
     "output_type": "stream",
     "text": [
      "2024-03-31 18:28:42.600376: E external/local_xla/xla/stream_executor/cuda/cuda_dnn.cc:9261] Unable to register cuDNN factory: Attempting to register factory for plugin cuDNN when one has already been registered\n",
      "2024-03-31 18:28:42.600540: E external/local_xla/xla/stream_executor/cuda/cuda_fft.cc:607] Unable to register cuFFT factory: Attempting to register factory for plugin cuFFT when one has already been registered\n",
      "2024-03-31 18:28:42.784878: E external/local_xla/xla/stream_executor/cuda/cuda_blas.cc:1515] Unable to register cuBLAS factory: Attempting to register factory for plugin cuBLAS when one has already been registered\n"
     ]
    }
   ],
   "source": [
    "import tensorflow_decision_forests as tfdf\n",
    "\n",
    "df_train = tfdf.keras.pd_dataframe_to_tf_dataset(train, label=\"class\")\n",
    "df_valid = tfdf.keras.pd_dataframe_to_tf_dataset(valid, label=\"class\")\n",
    "df_test = tfdf.keras.pd_dataframe_to_tf_dataset(test)"
   ]
  },
  {
   "cell_type": "code",
   "execution_count": 29,
   "id": "38e7dd02",
   "metadata": {
    "execution": {
     "iopub.execute_input": "2024-03-31T18:28:56.205128Z",
     "iopub.status.busy": "2024-03-31T18:28:56.204038Z",
     "iopub.status.idle": "2024-03-31T18:30:26.061077Z",
     "shell.execute_reply": "2024-03-31T18:30:26.059385Z"
    },
    "papermill": {
     "duration": 90.055964,
     "end_time": "2024-03-31T18:30:26.158812",
     "exception": false,
     "start_time": "2024-03-31T18:28:56.102848",
     "status": "completed"
    },
    "tags": []
   },
   "outputs": [
    {
     "name": "stdout",
     "output_type": "stream",
     "text": [
      "Resolve hyper-parameter template \"better_default@v1\" to \"better_default@v1\" -> {'growing_strategy': 'BEST_FIRST_GLOBAL'}.\n",
      "Use /tmp/tmpzpiwit8p as temporary training directory\n",
      "Reading training dataset...\n"
     ]
    },
    {
     "name": "stderr",
     "output_type": "stream",
     "text": [
      "[WARNING 24-03-31 18:28:56.2472 UTC gradient_boosted_trees.cc:1886] \"goss_alpha\" set but \"sampling_method\" not equal to \"GOSS\".\n",
      "[WARNING 24-03-31 18:28:56.2483 UTC gradient_boosted_trees.cc:1897] \"goss_beta\" set but \"sampling_method\" not equal to \"GOSS\".\n",
      "[WARNING 24-03-31 18:28:56.2485 UTC gradient_boosted_trees.cc:1911] \"selective_gradient_boosting_ratio\" set but \"sampling_method\" not equal to \"SELGB\".\n"
     ]
    },
    {
     "name": "stdout",
     "output_type": "stream",
     "text": [
      "Training dataset read in 0:00:09.434355. Found 55760 examples.\n",
      "Training model...\n",
      "Model trained in 0:00:33.767995\n",
      "Compiling model...\n"
     ]
    },
    {
     "name": "stderr",
     "output_type": "stream",
     "text": [
      "[INFO 24-03-31 18:29:39.4739 UTC kernel.cc:1233] Loading model from path /tmp/tmpzpiwit8p/model/ with prefix 44a8d5005770496d\n",
      "[INFO 24-03-31 18:29:39.4857 UTC quick_scorer_extended.cc:903] The binary was compiled without AVX2 support, but your CPU supports it. Enable it for faster model inference.\n",
      "[INFO 24-03-31 18:29:39.4866 UTC abstract_model.cc:1344] Engine \"GradientBoostedTreesQuickScorerExtended\" built\n",
      "[INFO 24-03-31 18:29:39.4867 UTC kernel.cc:1061] Use fast generic engine\n"
     ]
    },
    {
     "name": "stdout",
     "output_type": "stream",
     "text": [
      "Model compiled.\n"
     ]
    },
    {
     "data": {
      "text/plain": [
       "<tf_keras.src.callbacks.History at 0x7d14efc59750>"
      ]
     },
     "execution_count": 29,
     "metadata": {},
     "output_type": "execute_result"
    }
   ],
   "source": [
    "model = tfdf.keras.GradientBoostedTreesModel(hyperparameter_template=\"better_default@v1\")\n",
    "model.fit(df_train)"
   ]
  },
  {
   "cell_type": "code",
   "execution_count": 30,
   "id": "9b619c65",
   "metadata": {
    "execution": {
     "iopub.execute_input": "2024-03-31T18:30:26.354771Z",
     "iopub.status.busy": "2024-03-31T18:30:26.354287Z",
     "iopub.status.idle": "2024-03-31T18:30:26.365233Z",
     "shell.execute_reply": "2024-03-31T18:30:26.363873Z"
    },
    "papermill": {
     "duration": 0.114034,
     "end_time": "2024-03-31T18:30:26.367651",
     "exception": false,
     "start_time": "2024-03-31T18:30:26.253617",
     "status": "completed"
    },
    "tags": []
   },
   "outputs": [
    {
     "data": {
      "text/plain": [
       "Evaluation(num_examples=None, accuracy=0.9864840507507324, loss=0.11983446031808853, rmse=None, ndcg=None, aucs=None, auuc=None, qini=None)"
      ]
     },
     "execution_count": 30,
     "metadata": {},
     "output_type": "execute_result"
    }
   ],
   "source": [
    "model.make_inspector().evaluation()"
   ]
  },
  {
   "cell_type": "markdown",
   "id": "23e6a86a",
   "metadata": {
    "papermill": {
     "duration": 0.094819,
     "end_time": "2024-03-31T18:30:26.558303",
     "exception": false,
     "start_time": "2024-03-31T18:30:26.463484",
     "status": "completed"
    },
    "tags": []
   },
   "source": [
    "## Conclusion\n",
    "Since TFDF GradientBoosted displayed a higher accuracy. It will be used."
   ]
  },
  {
   "cell_type": "code",
   "execution_count": 31,
   "id": "124e6129",
   "metadata": {
    "execution": {
     "iopub.execute_input": "2024-03-31T18:30:26.749422Z",
     "iopub.status.busy": "2024-03-31T18:30:26.748967Z",
     "iopub.status.idle": "2024-03-31T18:30:27.486763Z",
     "shell.execute_reply": "2024-03-31T18:30:27.485432Z"
    },
    "papermill": {
     "duration": 0.836841,
     "end_time": "2024-03-31T18:30:27.489611",
     "exception": false,
     "start_time": "2024-03-31T18:30:26.652770",
     "status": "completed"
    },
    "tags": []
   },
   "outputs": [
    {
     "name": "stdout",
     "output_type": "stream",
     "text": [
      "14/14 [==============================] - 1s 35ms/step\n"
     ]
    }
   ],
   "source": [
    "y_pred = model.predict(df_test)"
   ]
  },
  {
   "cell_type": "code",
   "execution_count": 32,
   "id": "a7c8593e",
   "metadata": {
    "execution": {
     "iopub.execute_input": "2024-03-31T18:30:27.684083Z",
     "iopub.status.busy": "2024-03-31T18:30:27.683685Z",
     "iopub.status.idle": "2024-03-31T18:30:27.689311Z",
     "shell.execute_reply": "2024-03-31T18:30:27.688381Z"
    },
    "papermill": {
     "duration": 0.105211,
     "end_time": "2024-03-31T18:30:27.691539",
     "exception": false,
     "start_time": "2024-03-31T18:30:27.586328",
     "status": "completed"
    },
    "tags": []
   },
   "outputs": [],
   "source": [
    "rounded_predictions = np.round(y_pred)\n",
    "integer_predictions = rounded_predictions.astype(int)\n",
    "submit['class'] = integer_predictions"
   ]
  },
  {
   "cell_type": "code",
   "execution_count": 33,
   "id": "b6f49eeb",
   "metadata": {
    "execution": {
     "iopub.execute_input": "2024-03-31T18:30:27.883595Z",
     "iopub.status.busy": "2024-03-31T18:30:27.883065Z",
     "iopub.status.idle": "2024-03-31T18:30:27.891828Z",
     "shell.execute_reply": "2024-03-31T18:30:27.890530Z"
    },
    "papermill": {
     "duration": 0.107996,
     "end_time": "2024-03-31T18:30:27.894039",
     "exception": false,
     "start_time": "2024-03-31T18:30:27.786043",
     "status": "completed"
    },
    "tags": []
   },
   "outputs": [
    {
     "data": {
      "text/plain": [
       "array([0, 1])"
      ]
     },
     "execution_count": 33,
     "metadata": {},
     "output_type": "execute_result"
    }
   ],
   "source": [
    "submit['class'].unique()"
   ]
  },
  {
   "cell_type": "code",
   "execution_count": 34,
   "id": "a7ee5011",
   "metadata": {
    "execution": {
     "iopub.execute_input": "2024-03-31T18:30:28.088853Z",
     "iopub.status.busy": "2024-03-31T18:30:28.087794Z",
     "iopub.status.idle": "2024-03-31T18:30:28.097682Z",
     "shell.execute_reply": "2024-03-31T18:30:28.096715Z"
    },
    "papermill": {
     "duration": 0.109538,
     "end_time": "2024-03-31T18:30:28.099866",
     "exception": false,
     "start_time": "2024-03-31T18:30:27.990328",
     "status": "completed"
    },
    "tags": []
   },
   "outputs": [
    {
     "data": {
      "text/plain": [
       "class\n",
       "0    13766\n",
       "1      174\n",
       "Name: count, dtype: int64"
      ]
     },
     "execution_count": 34,
     "metadata": {},
     "output_type": "execute_result"
    }
   ],
   "source": [
    "submit['class'].value_counts()"
   ]
  },
  {
   "cell_type": "code",
   "execution_count": 35,
   "id": "3cbf2670",
   "metadata": {
    "execution": {
     "iopub.execute_input": "2024-03-31T18:30:28.298181Z",
     "iopub.status.busy": "2024-03-31T18:30:28.297334Z",
     "iopub.status.idle": "2024-03-31T18:30:28.326453Z",
     "shell.execute_reply": "2024-03-31T18:30:28.325267Z"
    },
    "papermill": {
     "duration": 0.130526,
     "end_time": "2024-03-31T18:30:28.329129",
     "exception": false,
     "start_time": "2024-03-31T18:30:28.198603",
     "status": "completed"
    },
    "tags": []
   },
   "outputs": [],
   "source": [
    "submit.to_csv('submission.csv',index=False)"
   ]
  }
 ],
 "metadata": {
  "kaggle": {
   "accelerator": "none",
   "dataSources": [
    {
     "databundleVersionId": 7799805,
     "sourceId": 71331,
     "sourceType": "competition"
    }
   ],
   "dockerImageVersionId": 30673,
   "isGpuEnabled": false,
   "isInternetEnabled": true,
   "language": "python",
   "sourceType": "notebook"
  },
  "kernelspec": {
   "display_name": "Python 3",
   "language": "python",
   "name": "python3"
  },
  "language_info": {
   "codemirror_mode": {
    "name": "ipython",
    "version": 3
   },
   "file_extension": ".py",
   "mimetype": "text/x-python",
   "name": "python",
   "nbconvert_exporter": "python",
   "pygments_lexer": "ipython3",
   "version": "3.10.13"
  },
  "papermill": {
   "default_parameters": {},
   "duration": 448.471801,
   "end_time": "2024-03-31T18:30:31.424038",
   "environment_variables": {},
   "exception": null,
   "input_path": "__notebook__.ipynb",
   "output_path": "__notebook__.ipynb",
   "parameters": {},
   "start_time": "2024-03-31T18:23:02.952237",
   "version": "2.5.0"
  }
 },
 "nbformat": 4,
 "nbformat_minor": 5
}
